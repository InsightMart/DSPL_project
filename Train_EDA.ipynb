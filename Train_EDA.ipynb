{
  "nbformat": 4,
  "nbformat_minor": 0,
  "metadata": {
    "colab": {
      "provenance": [],
      "include_colab_link": true
    },
    "kernelspec": {
      "name": "python3",
      "display_name": "Python 3"
    },
    "language_info": {
      "name": "python"
    }
  },
  "cells": [
    {
      "cell_type": "markdown",
      "metadata": {
        "id": "view-in-github",
        "colab_type": "text"
      },
      "source": [
        "<a href=\"https://colab.research.google.com/github/InsightMart/DSPL_project/blob/main/Train_EDA.ipynb\" target=\"_parent\"><img src=\"https://colab.research.google.com/assets/colab-badge.svg\" alt=\"Open In Colab\"/></a>"
      ]
    },
    {
      "cell_type": "markdown",
      "metadata": {
        "id": "FLzIuz2iWPBr"
      },
      "source": [
        "## Data Exploration"
      ]
    },
    {
      "cell_type": "markdown",
      "metadata": {
        "id": "czAi8u1HWWKm"
      },
      "source": [
        "Train.csv"
      ]
    },
    {
      "cell_type": "code",
      "execution_count": null,
      "metadata": {
        "id": "CjrNUCqgVIyL"
      },
      "outputs": [],
      "source": [
        "# Import libraries\n",
        "import pandas as pd\n",
        "import plotly.express as px\n",
        "import matplotlib.pyplot as plt\n",
        "import seaborn as sns\n",
        "import re\n",
        "from sklearn import preprocessing\n",
        "import plotly.subplots as sp\n",
        "import plotly.graph_objects as go"
      ]
    },
    {
      "cell_type": "markdown",
      "source": [
        "This code imports essential libraries for data manipulation (pandas), visualization (plotly.express, matplotlib.pyplot, seaborn, plotly.graph_objects, plotly.subplots), regular expressions (re), and machine learning preprocessing (sklearn.preprocessing)."
      ],
      "metadata": {
        "id": "56mNZLMDlXXH"
      }
    },
    {
      "cell_type": "code",
      "execution_count": null,
      "metadata": {
        "colab": {
          "base_uri": "https://localhost:8080/",
          "height": 241
        },
        "id": "kTHBoroCXyEO",
        "outputId": "0ffd9c18-2408-406a-e9b8-b0b2b5dcde0d"
      },
      "outputs": [
        {
          "output_type": "stream",
          "name": "stderr",
          "text": [
            "<ipython-input-2-b171fe9d57a1>:3: DtypeWarning: Columns (3,4,5) have mixed types. Specify dtype option on import or set low_memory=False.\n",
            "  df = pd.read_csv(\"traincsv.csv\")\n"
          ]
        },
        {
          "output_type": "execute_result",
          "data": {
            "text/plain": [
              "   Customer_ID outlet_city luxury_sales fresh_sales dry_sales cluster_catgeory\n",
              "0   10493832.0    Kelaniya       1209.6       756.0    5292.0                4\n",
              "1   10178643.0    Moratuwa      1590.12     1060.08   6007.12                1\n",
              "2   10513916.0     Wattala      2288.88     1481.04   9155.52                4\n",
              "3   10334589.0     Wattala      2274.94     1739.66   9099.76                4\n",
              "4   10458365.0    Kelaniya      2345.49     2069.55   9243.99                4"
            ],
            "text/html": [
              "\n",
              "  <div id=\"df-75c7c597-b45b-4b0b-b1c8-5c601663c910\" class=\"colab-df-container\">\n",
              "    <div>\n",
              "<style scoped>\n",
              "    .dataframe tbody tr th:only-of-type {\n",
              "        vertical-align: middle;\n",
              "    }\n",
              "\n",
              "    .dataframe tbody tr th {\n",
              "        vertical-align: top;\n",
              "    }\n",
              "\n",
              "    .dataframe thead th {\n",
              "        text-align: right;\n",
              "    }\n",
              "</style>\n",
              "<table border=\"1\" class=\"dataframe\">\n",
              "  <thead>\n",
              "    <tr style=\"text-align: right;\">\n",
              "      <th></th>\n",
              "      <th>Customer_ID</th>\n",
              "      <th>outlet_city</th>\n",
              "      <th>luxury_sales</th>\n",
              "      <th>fresh_sales</th>\n",
              "      <th>dry_sales</th>\n",
              "      <th>cluster_catgeory</th>\n",
              "    </tr>\n",
              "  </thead>\n",
              "  <tbody>\n",
              "    <tr>\n",
              "      <th>0</th>\n",
              "      <td>10493832.0</td>\n",
              "      <td>Kelaniya</td>\n",
              "      <td>1209.6</td>\n",
              "      <td>756.0</td>\n",
              "      <td>5292.0</td>\n",
              "      <td>4</td>\n",
              "    </tr>\n",
              "    <tr>\n",
              "      <th>1</th>\n",
              "      <td>10178643.0</td>\n",
              "      <td>Moratuwa</td>\n",
              "      <td>1590.12</td>\n",
              "      <td>1060.08</td>\n",
              "      <td>6007.12</td>\n",
              "      <td>1</td>\n",
              "    </tr>\n",
              "    <tr>\n",
              "      <th>2</th>\n",
              "      <td>10513916.0</td>\n",
              "      <td>Wattala</td>\n",
              "      <td>2288.88</td>\n",
              "      <td>1481.04</td>\n",
              "      <td>9155.52</td>\n",
              "      <td>4</td>\n",
              "    </tr>\n",
              "    <tr>\n",
              "      <th>3</th>\n",
              "      <td>10334589.0</td>\n",
              "      <td>Wattala</td>\n",
              "      <td>2274.94</td>\n",
              "      <td>1739.66</td>\n",
              "      <td>9099.76</td>\n",
              "      <td>4</td>\n",
              "    </tr>\n",
              "    <tr>\n",
              "      <th>4</th>\n",
              "      <td>10458365.0</td>\n",
              "      <td>Kelaniya</td>\n",
              "      <td>2345.49</td>\n",
              "      <td>2069.55</td>\n",
              "      <td>9243.99</td>\n",
              "      <td>4</td>\n",
              "    </tr>\n",
              "  </tbody>\n",
              "</table>\n",
              "</div>\n",
              "    <div class=\"colab-df-buttons\">\n",
              "\n",
              "  <div class=\"colab-df-container\">\n",
              "    <button class=\"colab-df-convert\" onclick=\"convertToInteractive('df-75c7c597-b45b-4b0b-b1c8-5c601663c910')\"\n",
              "            title=\"Convert this dataframe to an interactive table.\"\n",
              "            style=\"display:none;\">\n",
              "\n",
              "  <svg xmlns=\"http://www.w3.org/2000/svg\" height=\"24px\" viewBox=\"0 -960 960 960\">\n",
              "    <path d=\"M120-120v-720h720v720H120Zm60-500h600v-160H180v160Zm220 220h160v-160H400v160Zm0 220h160v-160H400v160ZM180-400h160v-160H180v160Zm440 0h160v-160H620v160ZM180-180h160v-160H180v160Zm440 0h160v-160H620v160Z\"/>\n",
              "  </svg>\n",
              "    </button>\n",
              "\n",
              "  <style>\n",
              "    .colab-df-container {\n",
              "      display:flex;\n",
              "      gap: 12px;\n",
              "    }\n",
              "\n",
              "    .colab-df-convert {\n",
              "      background-color: #E8F0FE;\n",
              "      border: none;\n",
              "      border-radius: 50%;\n",
              "      cursor: pointer;\n",
              "      display: none;\n",
              "      fill: #1967D2;\n",
              "      height: 32px;\n",
              "      padding: 0 0 0 0;\n",
              "      width: 32px;\n",
              "    }\n",
              "\n",
              "    .colab-df-convert:hover {\n",
              "      background-color: #E2EBFA;\n",
              "      box-shadow: 0px 1px 2px rgba(60, 64, 67, 0.3), 0px 1px 3px 1px rgba(60, 64, 67, 0.15);\n",
              "      fill: #174EA6;\n",
              "    }\n",
              "\n",
              "    .colab-df-buttons div {\n",
              "      margin-bottom: 4px;\n",
              "    }\n",
              "\n",
              "    [theme=dark] .colab-df-convert {\n",
              "      background-color: #3B4455;\n",
              "      fill: #D2E3FC;\n",
              "    }\n",
              "\n",
              "    [theme=dark] .colab-df-convert:hover {\n",
              "      background-color: #434B5C;\n",
              "      box-shadow: 0px 1px 3px 1px rgba(0, 0, 0, 0.15);\n",
              "      filter: drop-shadow(0px 1px 2px rgba(0, 0, 0, 0.3));\n",
              "      fill: #FFFFFF;\n",
              "    }\n",
              "  </style>\n",
              "\n",
              "    <script>\n",
              "      const buttonEl =\n",
              "        document.querySelector('#df-75c7c597-b45b-4b0b-b1c8-5c601663c910 button.colab-df-convert');\n",
              "      buttonEl.style.display =\n",
              "        google.colab.kernel.accessAllowed ? 'block' : 'none';\n",
              "\n",
              "      async function convertToInteractive(key) {\n",
              "        const element = document.querySelector('#df-75c7c597-b45b-4b0b-b1c8-5c601663c910');\n",
              "        const dataTable =\n",
              "          await google.colab.kernel.invokeFunction('convertToInteractive',\n",
              "                                                    [key], {});\n",
              "        if (!dataTable) return;\n",
              "\n",
              "        const docLinkHtml = 'Like what you see? Visit the ' +\n",
              "          '<a target=\"_blank\" href=https://colab.research.google.com/notebooks/data_table.ipynb>data table notebook</a>'\n",
              "          + ' to learn more about interactive tables.';\n",
              "        element.innerHTML = '';\n",
              "        dataTable['output_type'] = 'display_data';\n",
              "        await google.colab.output.renderOutput(dataTable, element);\n",
              "        const docLink = document.createElement('div');\n",
              "        docLink.innerHTML = docLinkHtml;\n",
              "        element.appendChild(docLink);\n",
              "      }\n",
              "    </script>\n",
              "  </div>\n",
              "\n",
              "\n",
              "<div id=\"df-b1267c0c-7f87-4c75-a1d2-ebe5bdeeb68c\">\n",
              "  <button class=\"colab-df-quickchart\" onclick=\"quickchart('df-b1267c0c-7f87-4c75-a1d2-ebe5bdeeb68c')\"\n",
              "            title=\"Suggest charts\"\n",
              "            style=\"display:none;\">\n",
              "\n",
              "<svg xmlns=\"http://www.w3.org/2000/svg\" height=\"24px\"viewBox=\"0 0 24 24\"\n",
              "     width=\"24px\">\n",
              "    <g>\n",
              "        <path d=\"M19 3H5c-1.1 0-2 .9-2 2v14c0 1.1.9 2 2 2h14c1.1 0 2-.9 2-2V5c0-1.1-.9-2-2-2zM9 17H7v-7h2v7zm4 0h-2V7h2v10zm4 0h-2v-4h2v4z\"/>\n",
              "    </g>\n",
              "</svg>\n",
              "  </button>\n",
              "\n",
              "<style>\n",
              "  .colab-df-quickchart {\n",
              "      --bg-color: #E8F0FE;\n",
              "      --fill-color: #1967D2;\n",
              "      --hover-bg-color: #E2EBFA;\n",
              "      --hover-fill-color: #174EA6;\n",
              "      --disabled-fill-color: #AAA;\n",
              "      --disabled-bg-color: #DDD;\n",
              "  }\n",
              "\n",
              "  [theme=dark] .colab-df-quickchart {\n",
              "      --bg-color: #3B4455;\n",
              "      --fill-color: #D2E3FC;\n",
              "      --hover-bg-color: #434B5C;\n",
              "      --hover-fill-color: #FFFFFF;\n",
              "      --disabled-bg-color: #3B4455;\n",
              "      --disabled-fill-color: #666;\n",
              "  }\n",
              "\n",
              "  .colab-df-quickchart {\n",
              "    background-color: var(--bg-color);\n",
              "    border: none;\n",
              "    border-radius: 50%;\n",
              "    cursor: pointer;\n",
              "    display: none;\n",
              "    fill: var(--fill-color);\n",
              "    height: 32px;\n",
              "    padding: 0;\n",
              "    width: 32px;\n",
              "  }\n",
              "\n",
              "  .colab-df-quickchart:hover {\n",
              "    background-color: var(--hover-bg-color);\n",
              "    box-shadow: 0 1px 2px rgba(60, 64, 67, 0.3), 0 1px 3px 1px rgba(60, 64, 67, 0.15);\n",
              "    fill: var(--button-hover-fill-color);\n",
              "  }\n",
              "\n",
              "  .colab-df-quickchart-complete:disabled,\n",
              "  .colab-df-quickchart-complete:disabled:hover {\n",
              "    background-color: var(--disabled-bg-color);\n",
              "    fill: var(--disabled-fill-color);\n",
              "    box-shadow: none;\n",
              "  }\n",
              "\n",
              "  .colab-df-spinner {\n",
              "    border: 2px solid var(--fill-color);\n",
              "    border-color: transparent;\n",
              "    border-bottom-color: var(--fill-color);\n",
              "    animation:\n",
              "      spin 1s steps(1) infinite;\n",
              "  }\n",
              "\n",
              "  @keyframes spin {\n",
              "    0% {\n",
              "      border-color: transparent;\n",
              "      border-bottom-color: var(--fill-color);\n",
              "      border-left-color: var(--fill-color);\n",
              "    }\n",
              "    20% {\n",
              "      border-color: transparent;\n",
              "      border-left-color: var(--fill-color);\n",
              "      border-top-color: var(--fill-color);\n",
              "    }\n",
              "    30% {\n",
              "      border-color: transparent;\n",
              "      border-left-color: var(--fill-color);\n",
              "      border-top-color: var(--fill-color);\n",
              "      border-right-color: var(--fill-color);\n",
              "    }\n",
              "    40% {\n",
              "      border-color: transparent;\n",
              "      border-right-color: var(--fill-color);\n",
              "      border-top-color: var(--fill-color);\n",
              "    }\n",
              "    60% {\n",
              "      border-color: transparent;\n",
              "      border-right-color: var(--fill-color);\n",
              "    }\n",
              "    80% {\n",
              "      border-color: transparent;\n",
              "      border-right-color: var(--fill-color);\n",
              "      border-bottom-color: var(--fill-color);\n",
              "    }\n",
              "    90% {\n",
              "      border-color: transparent;\n",
              "      border-bottom-color: var(--fill-color);\n",
              "    }\n",
              "  }\n",
              "</style>\n",
              "\n",
              "  <script>\n",
              "    async function quickchart(key) {\n",
              "      const quickchartButtonEl =\n",
              "        document.querySelector('#' + key + ' button');\n",
              "      quickchartButtonEl.disabled = true;  // To prevent multiple clicks.\n",
              "      quickchartButtonEl.classList.add('colab-df-spinner');\n",
              "      try {\n",
              "        const charts = await google.colab.kernel.invokeFunction(\n",
              "            'suggestCharts', [key], {});\n",
              "      } catch (error) {\n",
              "        console.error('Error during call to suggestCharts:', error);\n",
              "      }\n",
              "      quickchartButtonEl.classList.remove('colab-df-spinner');\n",
              "      quickchartButtonEl.classList.add('colab-df-quickchart-complete');\n",
              "    }\n",
              "    (() => {\n",
              "      let quickchartButtonEl =\n",
              "        document.querySelector('#df-b1267c0c-7f87-4c75-a1d2-ebe5bdeeb68c button');\n",
              "      quickchartButtonEl.style.display =\n",
              "        google.colab.kernel.accessAllowed ? 'block' : 'none';\n",
              "    })();\n",
              "  </script>\n",
              "</div>\n",
              "\n",
              "    </div>\n",
              "  </div>\n"
            ],
            "application/vnd.google.colaboratory.intrinsic+json": {
              "type": "dataframe",
              "variable_name": "df"
            }
          },
          "metadata": {},
          "execution_count": 2
        }
      ],
      "source": [
        "# load traincsv dataset\n",
        "import pandas as pd\n",
        "df = pd.read_csv(\"traincsv.csv\")\n",
        "df.head()"
      ]
    },
    {
      "cell_type": "markdown",
      "source": [
        "This code load the traincsv.csv file into a Pandas DataFrame and displyas its first five rows.\n"
      ],
      "metadata": {
        "id": "8lkFfHz-lfF8"
      }
    },
    {
      "cell_type": "code",
      "execution_count": null,
      "metadata": {
        "colab": {
          "base_uri": "https://localhost:8080/"
        },
        "id": "K4wnzqCqXyA2",
        "outputId": "63856f19-c882-4be2-a91d-daa4ee1c9a5d"
      },
      "outputs": [
        {
          "output_type": "stream",
          "name": "stdout",
          "text": [
            "<class 'pandas.core.frame.DataFrame'>\n",
            "RangeIndex: 774155 entries, 0 to 774154\n",
            "Data columns (total 6 columns):\n",
            " #   Column            Non-Null Count   Dtype  \n",
            "---  ------            --------------   -----  \n",
            " 0   Customer_ID       774153 non-null  float64\n",
            " 1   outlet_city       774153 non-null  object \n",
            " 2   luxury_sales      774120 non-null  object \n",
            " 3   fresh_sales       774114 non-null  object \n",
            " 4   dry_sales         774125 non-null  object \n",
            " 5   cluster_catgeory  774154 non-null  object \n",
            "dtypes: float64(1), object(5)\n",
            "memory usage: 35.4+ MB\n"
          ]
        }
      ],
      "source": [
        "# Identify dataset information\n",
        "df.info()"
      ]
    },
    {
      "cell_type": "markdown",
      "source": [
        "This code gives summery over the dataset such as number of entires, columns, non null count and data type for each column."
      ],
      "metadata": {
        "id": "-KnYOqFRDz0v"
      }
    },
    {
      "cell_type": "code",
      "execution_count": null,
      "metadata": {
        "colab": {
          "base_uri": "https://localhost:8080/"
        },
        "id": "a_i0buqQYbux",
        "outputId": "338b69d9-aa28-4c2e-e2c6-e1879e7a404a"
      },
      "outputs": [
        {
          "output_type": "execute_result",
          "data": {
            "text/plain": [
              "['Customer_ID',\n",
              " 'outlet_city',\n",
              " 'luxury_sales',\n",
              " 'fresh_sales',\n",
              " 'dry_sales',\n",
              " 'cluster_catgeory']"
            ]
          },
          "metadata": {},
          "execution_count": 4
        }
      ],
      "source": [
        "# List down dataset columns\n",
        "list(df.columns)"
      ]
    },
    {
      "cell_type": "markdown",
      "source": [
        "This code give the list of columns in the dataset."
      ],
      "metadata": {
        "id": "BWhvcBIQEL60"
      }
    },
    {
      "cell_type": "code",
      "execution_count": null,
      "metadata": {
        "colab": {
          "base_uri": "https://localhost:8080/"
        },
        "id": "m_Q6ES5eYbpG",
        "outputId": "394ae295-57ae-420c-f557-1dcf39695332"
      },
      "outputs": [
        {
          "output_type": "execute_result",
          "data": {
            "text/plain": [
              "(774155, 6)"
            ]
          },
          "metadata": {},
          "execution_count": 5
        }
      ],
      "source": [
        "# Get dataset dimmentions\n",
        "shape_before_preprocessing = df.shape\n",
        "shape_before_preprocessing"
      ]
    },
    {
      "cell_type": "markdown",
      "source": [
        "The code shows the dimentions of the dataset before the prepossing.\n",
        "\n"
      ],
      "metadata": {
        "id": "y5Rnmscsll27"
      }
    },
    {
      "cell_type": "code",
      "execution_count": null,
      "metadata": {
        "colab": {
          "base_uri": "https://localhost:8080/",
          "height": 300
        },
        "id": "xWHqTbOiXx-g",
        "outputId": "d981ca8f-bbd9-45cc-d6d5-a5989ee80d51"
      },
      "outputs": [
        {
          "output_type": "execute_result",
          "data": {
            "text/plain": [
              "        Customer_ID\n",
              "count  7.741530e+05\n",
              "mean   1.038708e+07\n",
              "std    2.234795e+05\n",
              "min    1.000000e+07\n",
              "25%    1.019354e+07\n",
              "50%    1.038708e+07\n",
              "75%    1.058062e+07\n",
              "max    1.077415e+07"
            ],
            "text/html": [
              "\n",
              "  <div id=\"df-e6643582-a623-48da-b1a4-78fde6015c2b\" class=\"colab-df-container\">\n",
              "    <div>\n",
              "<style scoped>\n",
              "    .dataframe tbody tr th:only-of-type {\n",
              "        vertical-align: middle;\n",
              "    }\n",
              "\n",
              "    .dataframe tbody tr th {\n",
              "        vertical-align: top;\n",
              "    }\n",
              "\n",
              "    .dataframe thead th {\n",
              "        text-align: right;\n",
              "    }\n",
              "</style>\n",
              "<table border=\"1\" class=\"dataframe\">\n",
              "  <thead>\n",
              "    <tr style=\"text-align: right;\">\n",
              "      <th></th>\n",
              "      <th>Customer_ID</th>\n",
              "    </tr>\n",
              "  </thead>\n",
              "  <tbody>\n",
              "    <tr>\n",
              "      <th>count</th>\n",
              "      <td>7.741530e+05</td>\n",
              "    </tr>\n",
              "    <tr>\n",
              "      <th>mean</th>\n",
              "      <td>1.038708e+07</td>\n",
              "    </tr>\n",
              "    <tr>\n",
              "      <th>std</th>\n",
              "      <td>2.234795e+05</td>\n",
              "    </tr>\n",
              "    <tr>\n",
              "      <th>min</th>\n",
              "      <td>1.000000e+07</td>\n",
              "    </tr>\n",
              "    <tr>\n",
              "      <th>25%</th>\n",
              "      <td>1.019354e+07</td>\n",
              "    </tr>\n",
              "    <tr>\n",
              "      <th>50%</th>\n",
              "      <td>1.038708e+07</td>\n",
              "    </tr>\n",
              "    <tr>\n",
              "      <th>75%</th>\n",
              "      <td>1.058062e+07</td>\n",
              "    </tr>\n",
              "    <tr>\n",
              "      <th>max</th>\n",
              "      <td>1.077415e+07</td>\n",
              "    </tr>\n",
              "  </tbody>\n",
              "</table>\n",
              "</div>\n",
              "    <div class=\"colab-df-buttons\">\n",
              "\n",
              "  <div class=\"colab-df-container\">\n",
              "    <button class=\"colab-df-convert\" onclick=\"convertToInteractive('df-e6643582-a623-48da-b1a4-78fde6015c2b')\"\n",
              "            title=\"Convert this dataframe to an interactive table.\"\n",
              "            style=\"display:none;\">\n",
              "\n",
              "  <svg xmlns=\"http://www.w3.org/2000/svg\" height=\"24px\" viewBox=\"0 -960 960 960\">\n",
              "    <path d=\"M120-120v-720h720v720H120Zm60-500h600v-160H180v160Zm220 220h160v-160H400v160Zm0 220h160v-160H400v160ZM180-400h160v-160H180v160Zm440 0h160v-160H620v160ZM180-180h160v-160H180v160Zm440 0h160v-160H620v160Z\"/>\n",
              "  </svg>\n",
              "    </button>\n",
              "\n",
              "  <style>\n",
              "    .colab-df-container {\n",
              "      display:flex;\n",
              "      gap: 12px;\n",
              "    }\n",
              "\n",
              "    .colab-df-convert {\n",
              "      background-color: #E8F0FE;\n",
              "      border: none;\n",
              "      border-radius: 50%;\n",
              "      cursor: pointer;\n",
              "      display: none;\n",
              "      fill: #1967D2;\n",
              "      height: 32px;\n",
              "      padding: 0 0 0 0;\n",
              "      width: 32px;\n",
              "    }\n",
              "\n",
              "    .colab-df-convert:hover {\n",
              "      background-color: #E2EBFA;\n",
              "      box-shadow: 0px 1px 2px rgba(60, 64, 67, 0.3), 0px 1px 3px 1px rgba(60, 64, 67, 0.15);\n",
              "      fill: #174EA6;\n",
              "    }\n",
              "\n",
              "    .colab-df-buttons div {\n",
              "      margin-bottom: 4px;\n",
              "    }\n",
              "\n",
              "    [theme=dark] .colab-df-convert {\n",
              "      background-color: #3B4455;\n",
              "      fill: #D2E3FC;\n",
              "    }\n",
              "\n",
              "    [theme=dark] .colab-df-convert:hover {\n",
              "      background-color: #434B5C;\n",
              "      box-shadow: 0px 1px 3px 1px rgba(0, 0, 0, 0.15);\n",
              "      filter: drop-shadow(0px 1px 2px rgba(0, 0, 0, 0.3));\n",
              "      fill: #FFFFFF;\n",
              "    }\n",
              "  </style>\n",
              "\n",
              "    <script>\n",
              "      const buttonEl =\n",
              "        document.querySelector('#df-e6643582-a623-48da-b1a4-78fde6015c2b button.colab-df-convert');\n",
              "      buttonEl.style.display =\n",
              "        google.colab.kernel.accessAllowed ? 'block' : 'none';\n",
              "\n",
              "      async function convertToInteractive(key) {\n",
              "        const element = document.querySelector('#df-e6643582-a623-48da-b1a4-78fde6015c2b');\n",
              "        const dataTable =\n",
              "          await google.colab.kernel.invokeFunction('convertToInteractive',\n",
              "                                                    [key], {});\n",
              "        if (!dataTable) return;\n",
              "\n",
              "        const docLinkHtml = 'Like what you see? Visit the ' +\n",
              "          '<a target=\"_blank\" href=https://colab.research.google.com/notebooks/data_table.ipynb>data table notebook</a>'\n",
              "          + ' to learn more about interactive tables.';\n",
              "        element.innerHTML = '';\n",
              "        dataTable['output_type'] = 'display_data';\n",
              "        await google.colab.output.renderOutput(dataTable, element);\n",
              "        const docLink = document.createElement('div');\n",
              "        docLink.innerHTML = docLinkHtml;\n",
              "        element.appendChild(docLink);\n",
              "      }\n",
              "    </script>\n",
              "  </div>\n",
              "\n",
              "\n",
              "<div id=\"df-7b23f0f9-bcc6-4fa5-8a2c-0e1ae7c8ccb9\">\n",
              "  <button class=\"colab-df-quickchart\" onclick=\"quickchart('df-7b23f0f9-bcc6-4fa5-8a2c-0e1ae7c8ccb9')\"\n",
              "            title=\"Suggest charts\"\n",
              "            style=\"display:none;\">\n",
              "\n",
              "<svg xmlns=\"http://www.w3.org/2000/svg\" height=\"24px\"viewBox=\"0 0 24 24\"\n",
              "     width=\"24px\">\n",
              "    <g>\n",
              "        <path d=\"M19 3H5c-1.1 0-2 .9-2 2v14c0 1.1.9 2 2 2h14c1.1 0 2-.9 2-2V5c0-1.1-.9-2-2-2zM9 17H7v-7h2v7zm4 0h-2V7h2v10zm4 0h-2v-4h2v4z\"/>\n",
              "    </g>\n",
              "</svg>\n",
              "  </button>\n",
              "\n",
              "<style>\n",
              "  .colab-df-quickchart {\n",
              "      --bg-color: #E8F0FE;\n",
              "      --fill-color: #1967D2;\n",
              "      --hover-bg-color: #E2EBFA;\n",
              "      --hover-fill-color: #174EA6;\n",
              "      --disabled-fill-color: #AAA;\n",
              "      --disabled-bg-color: #DDD;\n",
              "  }\n",
              "\n",
              "  [theme=dark] .colab-df-quickchart {\n",
              "      --bg-color: #3B4455;\n",
              "      --fill-color: #D2E3FC;\n",
              "      --hover-bg-color: #434B5C;\n",
              "      --hover-fill-color: #FFFFFF;\n",
              "      --disabled-bg-color: #3B4455;\n",
              "      --disabled-fill-color: #666;\n",
              "  }\n",
              "\n",
              "  .colab-df-quickchart {\n",
              "    background-color: var(--bg-color);\n",
              "    border: none;\n",
              "    border-radius: 50%;\n",
              "    cursor: pointer;\n",
              "    display: none;\n",
              "    fill: var(--fill-color);\n",
              "    height: 32px;\n",
              "    padding: 0;\n",
              "    width: 32px;\n",
              "  }\n",
              "\n",
              "  .colab-df-quickchart:hover {\n",
              "    background-color: var(--hover-bg-color);\n",
              "    box-shadow: 0 1px 2px rgba(60, 64, 67, 0.3), 0 1px 3px 1px rgba(60, 64, 67, 0.15);\n",
              "    fill: var(--button-hover-fill-color);\n",
              "  }\n",
              "\n",
              "  .colab-df-quickchart-complete:disabled,\n",
              "  .colab-df-quickchart-complete:disabled:hover {\n",
              "    background-color: var(--disabled-bg-color);\n",
              "    fill: var(--disabled-fill-color);\n",
              "    box-shadow: none;\n",
              "  }\n",
              "\n",
              "  .colab-df-spinner {\n",
              "    border: 2px solid var(--fill-color);\n",
              "    border-color: transparent;\n",
              "    border-bottom-color: var(--fill-color);\n",
              "    animation:\n",
              "      spin 1s steps(1) infinite;\n",
              "  }\n",
              "\n",
              "  @keyframes spin {\n",
              "    0% {\n",
              "      border-color: transparent;\n",
              "      border-bottom-color: var(--fill-color);\n",
              "      border-left-color: var(--fill-color);\n",
              "    }\n",
              "    20% {\n",
              "      border-color: transparent;\n",
              "      border-left-color: var(--fill-color);\n",
              "      border-top-color: var(--fill-color);\n",
              "    }\n",
              "    30% {\n",
              "      border-color: transparent;\n",
              "      border-left-color: var(--fill-color);\n",
              "      border-top-color: var(--fill-color);\n",
              "      border-right-color: var(--fill-color);\n",
              "    }\n",
              "    40% {\n",
              "      border-color: transparent;\n",
              "      border-right-color: var(--fill-color);\n",
              "      border-top-color: var(--fill-color);\n",
              "    }\n",
              "    60% {\n",
              "      border-color: transparent;\n",
              "      border-right-color: var(--fill-color);\n",
              "    }\n",
              "    80% {\n",
              "      border-color: transparent;\n",
              "      border-right-color: var(--fill-color);\n",
              "      border-bottom-color: var(--fill-color);\n",
              "    }\n",
              "    90% {\n",
              "      border-color: transparent;\n",
              "      border-bottom-color: var(--fill-color);\n",
              "    }\n",
              "  }\n",
              "</style>\n",
              "\n",
              "  <script>\n",
              "    async function quickchart(key) {\n",
              "      const quickchartButtonEl =\n",
              "        document.querySelector('#' + key + ' button');\n",
              "      quickchartButtonEl.disabled = true;  // To prevent multiple clicks.\n",
              "      quickchartButtonEl.classList.add('colab-df-spinner');\n",
              "      try {\n",
              "        const charts = await google.colab.kernel.invokeFunction(\n",
              "            'suggestCharts', [key], {});\n",
              "      } catch (error) {\n",
              "        console.error('Error during call to suggestCharts:', error);\n",
              "      }\n",
              "      quickchartButtonEl.classList.remove('colab-df-spinner');\n",
              "      quickchartButtonEl.classList.add('colab-df-quickchart-complete');\n",
              "    }\n",
              "    (() => {\n",
              "      let quickchartButtonEl =\n",
              "        document.querySelector('#df-7b23f0f9-bcc6-4fa5-8a2c-0e1ae7c8ccb9 button');\n",
              "      quickchartButtonEl.style.display =\n",
              "        google.colab.kernel.accessAllowed ? 'block' : 'none';\n",
              "    })();\n",
              "  </script>\n",
              "</div>\n",
              "\n",
              "    </div>\n",
              "  </div>\n"
            ],
            "application/vnd.google.colaboratory.intrinsic+json": {
              "type": "dataframe",
              "summary": "{\n  \"name\": \"df\",\n  \"rows\": 8,\n  \"fields\": [\n    {\n      \"column\": \"Customer_ID\",\n      \"properties\": {\n        \"dtype\": \"number\",\n        \"std\": 4585578.905974404,\n        \"min\": 223479.47993578704,\n        \"max\": 10774154.0,\n        \"num_unique_values\": 8,\n        \"samples\": [\n          10387076.758156333,\n          10387077.0,\n          774153.0\n        ],\n        \"semantic_type\": \"\",\n        \"description\": \"\"\n      }\n    }\n  ]\n}"
            }
          },
          "metadata": {},
          "execution_count": 6
        }
      ],
      "source": [
        "#Get summery statistics for numerics\n",
        "df.describe()"
      ]
    },
    {
      "cell_type": "markdown",
      "source": [
        "Get summery statistics for values that are idetified by the python as numerics."
      ],
      "metadata": {
        "id": "Z7cpbi-Ss-OI"
      }
    },
    {
      "cell_type": "code",
      "execution_count": null,
      "metadata": {
        "colab": {
          "base_uri": "https://localhost:8080/",
          "height": 175
        },
        "id": "WQgz1AhHXx8S",
        "outputId": "4a9ed87c-8ea6-4101-e15e-ed03b236c75b"
      },
      "outputs": [
        {
          "output_type": "execute_result",
          "data": {
            "text/plain": [
              "       outlet_city luxury_sales fresh_sales  dry_sales  cluster_catgeory\n",
              "count       774153       774120      774114  774125.00            774154\n",
              "unique          20       143897      257030  270131.00                18\n",
              "top        Colombo       1029.6     6013.92    9168.72                 1\n",
              "freq         41031           62          28      23.00            188975"
            ],
            "text/html": [
              "\n",
              "  <div id=\"df-39d88332-c93a-4c92-973d-b4ce5e3821c7\" class=\"colab-df-container\">\n",
              "    <div>\n",
              "<style scoped>\n",
              "    .dataframe tbody tr th:only-of-type {\n",
              "        vertical-align: middle;\n",
              "    }\n",
              "\n",
              "    .dataframe tbody tr th {\n",
              "        vertical-align: top;\n",
              "    }\n",
              "\n",
              "    .dataframe thead th {\n",
              "        text-align: right;\n",
              "    }\n",
              "</style>\n",
              "<table border=\"1\" class=\"dataframe\">\n",
              "  <thead>\n",
              "    <tr style=\"text-align: right;\">\n",
              "      <th></th>\n",
              "      <th>outlet_city</th>\n",
              "      <th>luxury_sales</th>\n",
              "      <th>fresh_sales</th>\n",
              "      <th>dry_sales</th>\n",
              "      <th>cluster_catgeory</th>\n",
              "    </tr>\n",
              "  </thead>\n",
              "  <tbody>\n",
              "    <tr>\n",
              "      <th>count</th>\n",
              "      <td>774153</td>\n",
              "      <td>774120</td>\n",
              "      <td>774114</td>\n",
              "      <td>774125.00</td>\n",
              "      <td>774154</td>\n",
              "    </tr>\n",
              "    <tr>\n",
              "      <th>unique</th>\n",
              "      <td>20</td>\n",
              "      <td>143897</td>\n",
              "      <td>257030</td>\n",
              "      <td>270131.00</td>\n",
              "      <td>18</td>\n",
              "    </tr>\n",
              "    <tr>\n",
              "      <th>top</th>\n",
              "      <td>Colombo</td>\n",
              "      <td>1029.6</td>\n",
              "      <td>6013.92</td>\n",
              "      <td>9168.72</td>\n",
              "      <td>1</td>\n",
              "    </tr>\n",
              "    <tr>\n",
              "      <th>freq</th>\n",
              "      <td>41031</td>\n",
              "      <td>62</td>\n",
              "      <td>28</td>\n",
              "      <td>23.00</td>\n",
              "      <td>188975</td>\n",
              "    </tr>\n",
              "  </tbody>\n",
              "</table>\n",
              "</div>\n",
              "    <div class=\"colab-df-buttons\">\n",
              "\n",
              "  <div class=\"colab-df-container\">\n",
              "    <button class=\"colab-df-convert\" onclick=\"convertToInteractive('df-39d88332-c93a-4c92-973d-b4ce5e3821c7')\"\n",
              "            title=\"Convert this dataframe to an interactive table.\"\n",
              "            style=\"display:none;\">\n",
              "\n",
              "  <svg xmlns=\"http://www.w3.org/2000/svg\" height=\"24px\" viewBox=\"0 -960 960 960\">\n",
              "    <path d=\"M120-120v-720h720v720H120Zm60-500h600v-160H180v160Zm220 220h160v-160H400v160Zm0 220h160v-160H400v160ZM180-400h160v-160H180v160Zm440 0h160v-160H620v160ZM180-180h160v-160H180v160Zm440 0h160v-160H620v160Z\"/>\n",
              "  </svg>\n",
              "    </button>\n",
              "\n",
              "  <style>\n",
              "    .colab-df-container {\n",
              "      display:flex;\n",
              "      gap: 12px;\n",
              "    }\n",
              "\n",
              "    .colab-df-convert {\n",
              "      background-color: #E8F0FE;\n",
              "      border: none;\n",
              "      border-radius: 50%;\n",
              "      cursor: pointer;\n",
              "      display: none;\n",
              "      fill: #1967D2;\n",
              "      height: 32px;\n",
              "      padding: 0 0 0 0;\n",
              "      width: 32px;\n",
              "    }\n",
              "\n",
              "    .colab-df-convert:hover {\n",
              "      background-color: #E2EBFA;\n",
              "      box-shadow: 0px 1px 2px rgba(60, 64, 67, 0.3), 0px 1px 3px 1px rgba(60, 64, 67, 0.15);\n",
              "      fill: #174EA6;\n",
              "    }\n",
              "\n",
              "    .colab-df-buttons div {\n",
              "      margin-bottom: 4px;\n",
              "    }\n",
              "\n",
              "    [theme=dark] .colab-df-convert {\n",
              "      background-color: #3B4455;\n",
              "      fill: #D2E3FC;\n",
              "    }\n",
              "\n",
              "    [theme=dark] .colab-df-convert:hover {\n",
              "      background-color: #434B5C;\n",
              "      box-shadow: 0px 1px 3px 1px rgba(0, 0, 0, 0.15);\n",
              "      filter: drop-shadow(0px 1px 2px rgba(0, 0, 0, 0.3));\n",
              "      fill: #FFFFFF;\n",
              "    }\n",
              "  </style>\n",
              "\n",
              "    <script>\n",
              "      const buttonEl =\n",
              "        document.querySelector('#df-39d88332-c93a-4c92-973d-b4ce5e3821c7 button.colab-df-convert');\n",
              "      buttonEl.style.display =\n",
              "        google.colab.kernel.accessAllowed ? 'block' : 'none';\n",
              "\n",
              "      async function convertToInteractive(key) {\n",
              "        const element = document.querySelector('#df-39d88332-c93a-4c92-973d-b4ce5e3821c7');\n",
              "        const dataTable =\n",
              "          await google.colab.kernel.invokeFunction('convertToInteractive',\n",
              "                                                    [key], {});\n",
              "        if (!dataTable) return;\n",
              "\n",
              "        const docLinkHtml = 'Like what you see? Visit the ' +\n",
              "          '<a target=\"_blank\" href=https://colab.research.google.com/notebooks/data_table.ipynb>data table notebook</a>'\n",
              "          + ' to learn more about interactive tables.';\n",
              "        element.innerHTML = '';\n",
              "        dataTable['output_type'] = 'display_data';\n",
              "        await google.colab.output.renderOutput(dataTable, element);\n",
              "        const docLink = document.createElement('div');\n",
              "        docLink.innerHTML = docLinkHtml;\n",
              "        element.appendChild(docLink);\n",
              "      }\n",
              "    </script>\n",
              "  </div>\n",
              "\n",
              "\n",
              "<div id=\"df-1c3c057b-e400-4ba5-8841-3d3c81c496a3\">\n",
              "  <button class=\"colab-df-quickchart\" onclick=\"quickchart('df-1c3c057b-e400-4ba5-8841-3d3c81c496a3')\"\n",
              "            title=\"Suggest charts\"\n",
              "            style=\"display:none;\">\n",
              "\n",
              "<svg xmlns=\"http://www.w3.org/2000/svg\" height=\"24px\"viewBox=\"0 0 24 24\"\n",
              "     width=\"24px\">\n",
              "    <g>\n",
              "        <path d=\"M19 3H5c-1.1 0-2 .9-2 2v14c0 1.1.9 2 2 2h14c1.1 0 2-.9 2-2V5c0-1.1-.9-2-2-2zM9 17H7v-7h2v7zm4 0h-2V7h2v10zm4 0h-2v-4h2v4z\"/>\n",
              "    </g>\n",
              "</svg>\n",
              "  </button>\n",
              "\n",
              "<style>\n",
              "  .colab-df-quickchart {\n",
              "      --bg-color: #E8F0FE;\n",
              "      --fill-color: #1967D2;\n",
              "      --hover-bg-color: #E2EBFA;\n",
              "      --hover-fill-color: #174EA6;\n",
              "      --disabled-fill-color: #AAA;\n",
              "      --disabled-bg-color: #DDD;\n",
              "  }\n",
              "\n",
              "  [theme=dark] .colab-df-quickchart {\n",
              "      --bg-color: #3B4455;\n",
              "      --fill-color: #D2E3FC;\n",
              "      --hover-bg-color: #434B5C;\n",
              "      --hover-fill-color: #FFFFFF;\n",
              "      --disabled-bg-color: #3B4455;\n",
              "      --disabled-fill-color: #666;\n",
              "  }\n",
              "\n",
              "  .colab-df-quickchart {\n",
              "    background-color: var(--bg-color);\n",
              "    border: none;\n",
              "    border-radius: 50%;\n",
              "    cursor: pointer;\n",
              "    display: none;\n",
              "    fill: var(--fill-color);\n",
              "    height: 32px;\n",
              "    padding: 0;\n",
              "    width: 32px;\n",
              "  }\n",
              "\n",
              "  .colab-df-quickchart:hover {\n",
              "    background-color: var(--hover-bg-color);\n",
              "    box-shadow: 0 1px 2px rgba(60, 64, 67, 0.3), 0 1px 3px 1px rgba(60, 64, 67, 0.15);\n",
              "    fill: var(--button-hover-fill-color);\n",
              "  }\n",
              "\n",
              "  .colab-df-quickchart-complete:disabled,\n",
              "  .colab-df-quickchart-complete:disabled:hover {\n",
              "    background-color: var(--disabled-bg-color);\n",
              "    fill: var(--disabled-fill-color);\n",
              "    box-shadow: none;\n",
              "  }\n",
              "\n",
              "  .colab-df-spinner {\n",
              "    border: 2px solid var(--fill-color);\n",
              "    border-color: transparent;\n",
              "    border-bottom-color: var(--fill-color);\n",
              "    animation:\n",
              "      spin 1s steps(1) infinite;\n",
              "  }\n",
              "\n",
              "  @keyframes spin {\n",
              "    0% {\n",
              "      border-color: transparent;\n",
              "      border-bottom-color: var(--fill-color);\n",
              "      border-left-color: var(--fill-color);\n",
              "    }\n",
              "    20% {\n",
              "      border-color: transparent;\n",
              "      border-left-color: var(--fill-color);\n",
              "      border-top-color: var(--fill-color);\n",
              "    }\n",
              "    30% {\n",
              "      border-color: transparent;\n",
              "      border-left-color: var(--fill-color);\n",
              "      border-top-color: var(--fill-color);\n",
              "      border-right-color: var(--fill-color);\n",
              "    }\n",
              "    40% {\n",
              "      border-color: transparent;\n",
              "      border-right-color: var(--fill-color);\n",
              "      border-top-color: var(--fill-color);\n",
              "    }\n",
              "    60% {\n",
              "      border-color: transparent;\n",
              "      border-right-color: var(--fill-color);\n",
              "    }\n",
              "    80% {\n",
              "      border-color: transparent;\n",
              "      border-right-color: var(--fill-color);\n",
              "      border-bottom-color: var(--fill-color);\n",
              "    }\n",
              "    90% {\n",
              "      border-color: transparent;\n",
              "      border-bottom-color: var(--fill-color);\n",
              "    }\n",
              "  }\n",
              "</style>\n",
              "\n",
              "  <script>\n",
              "    async function quickchart(key) {\n",
              "      const quickchartButtonEl =\n",
              "        document.querySelector('#' + key + ' button');\n",
              "      quickchartButtonEl.disabled = true;  // To prevent multiple clicks.\n",
              "      quickchartButtonEl.classList.add('colab-df-spinner');\n",
              "      try {\n",
              "        const charts = await google.colab.kernel.invokeFunction(\n",
              "            'suggestCharts', [key], {});\n",
              "      } catch (error) {\n",
              "        console.error('Error during call to suggestCharts:', error);\n",
              "      }\n",
              "      quickchartButtonEl.classList.remove('colab-df-spinner');\n",
              "      quickchartButtonEl.classList.add('colab-df-quickchart-complete');\n",
              "    }\n",
              "    (() => {\n",
              "      let quickchartButtonEl =\n",
              "        document.querySelector('#df-1c3c057b-e400-4ba5-8841-3d3c81c496a3 button');\n",
              "      quickchartButtonEl.style.display =\n",
              "        google.colab.kernel.accessAllowed ? 'block' : 'none';\n",
              "    })();\n",
              "  </script>\n",
              "</div>\n",
              "\n",
              "    </div>\n",
              "  </div>\n"
            ],
            "application/vnd.google.colaboratory.intrinsic+json": {
              "type": "dataframe",
              "summary": "{\n  \"name\": \"df\",\n  \"rows\": 4,\n  \"fields\": [\n    {\n      \"column\": \"outlet_city\",\n      \"properties\": {\n        \"dtype\": \"string\",\n        \"num_unique_values\": 4,\n        \"samples\": [\n          20,\n          \"41031\",\n          \"774153\"\n        ],\n        \"semantic_type\": \"\",\n        \"description\": \"\"\n      }\n    },\n    {\n      \"column\": \"luxury_sales\",\n      \"properties\": {\n        \"dtype\": \"string\",\n        \"num_unique_values\": 4,\n        \"samples\": [\n          143897,\n          \"62\",\n          \"774120\"\n        ],\n        \"semantic_type\": \"\",\n        \"description\": \"\"\n      }\n    },\n    {\n      \"column\": \"fresh_sales\",\n      \"properties\": {\n        \"dtype\": \"string\",\n        \"num_unique_values\": 4,\n        \"samples\": [\n          257030,\n          \"28\",\n          \"774114\"\n        ],\n        \"semantic_type\": \"\",\n        \"description\": \"\"\n      }\n    },\n    {\n      \"column\": \"dry_sales\",\n      \"properties\": {\n        \"dtype\": \"number\",\n        \"std\": 362806.79617308656,\n        \"min\": 23.0,\n        \"max\": 774125.0,\n        \"num_unique_values\": 4,\n        \"samples\": [\n          270131.0,\n          23.0,\n          774125.0\n        ],\n        \"semantic_type\": \"\",\n        \"description\": \"\"\n      }\n    },\n    {\n      \"column\": \"cluster_catgeory\",\n      \"properties\": {\n        \"dtype\": \"number\",\n        \"std\": 366566,\n        \"min\": 1,\n        \"max\": 774154,\n        \"num_unique_values\": 4,\n        \"samples\": [\n          18,\n          188975,\n          774154\n        ],\n        \"semantic_type\": \"\",\n        \"description\": \"\"\n      }\n    }\n  ]\n}"
            }
          },
          "metadata": {},
          "execution_count": 7
        }
      ],
      "source": [
        "#Getting summery statistics for objects\n",
        "df.describe(include='object')"
      ]
    },
    {
      "cell_type": "markdown",
      "source": [
        "Get summery statistics for values that are idetified by the python as objects."
      ],
      "metadata": {
        "id": "YpSLUcq5tqIQ"
      }
    },
    {
      "cell_type": "code",
      "execution_count": null,
      "metadata": {
        "id": "r2wIpM71ekD2",
        "colab": {
          "base_uri": "https://localhost:8080/"
        },
        "outputId": "48706c3a-f15c-4fb2-f92d-503056be13b3"
      },
      "outputs": [],
      "source": [
        "# Get unique values in columns in a ascending order\n",
        "for col in df.columns:\n",
        "    unique_values = df[col].unique()\n",
        "    sorted_values = sorted(unique_values, key=lambda x: str(x))  # This ensures mixed data types sort without any errors\n",
        "    print(f\"Unique values in {col}: {sorted_values}\\n\")"
      ]
    },
    {
      "cell_type": "markdown",
      "source": [
        "Get unique values in the columns in a ascending order. End of list will show any objects values in a numeric columns."
      ],
      "metadata": {
        "id": "VsQ8Gph_t6R_"
      }
    },
    {
      "cell_type": "code",
      "execution_count": null,
      "metadata": {
        "colab": {
          "base_uri": "https://localhost:8080/",
          "height": 272
        },
        "id": "dU-brC60Ybmt",
        "outputId": "34d2e080-d3ec-4ff9-89c4-a8678473e02a"
      },
      "outputs": [
        {
          "output_type": "execute_result",
          "data": {
            "text/plain": [
              "Customer_ID          2\n",
              "outlet_city          2\n",
              "luxury_sales        35\n",
              "fresh_sales         41\n",
              "dry_sales           30\n",
              "cluster_catgeory     1\n",
              "dtype: int64"
            ],
            "text/html": [
              "<div>\n",
              "<style scoped>\n",
              "    .dataframe tbody tr th:only-of-type {\n",
              "        vertical-align: middle;\n",
              "    }\n",
              "\n",
              "    .dataframe tbody tr th {\n",
              "        vertical-align: top;\n",
              "    }\n",
              "\n",
              "    .dataframe thead th {\n",
              "        text-align: right;\n",
              "    }\n",
              "</style>\n",
              "<table border=\"1\" class=\"dataframe\">\n",
              "  <thead>\n",
              "    <tr style=\"text-align: right;\">\n",
              "      <th></th>\n",
              "      <th>0</th>\n",
              "    </tr>\n",
              "  </thead>\n",
              "  <tbody>\n",
              "    <tr>\n",
              "      <th>Customer_ID</th>\n",
              "      <td>2</td>\n",
              "    </tr>\n",
              "    <tr>\n",
              "      <th>outlet_city</th>\n",
              "      <td>2</td>\n",
              "    </tr>\n",
              "    <tr>\n",
              "      <th>luxury_sales</th>\n",
              "      <td>35</td>\n",
              "    </tr>\n",
              "    <tr>\n",
              "      <th>fresh_sales</th>\n",
              "      <td>41</td>\n",
              "    </tr>\n",
              "    <tr>\n",
              "      <th>dry_sales</th>\n",
              "      <td>30</td>\n",
              "    </tr>\n",
              "    <tr>\n",
              "      <th>cluster_catgeory</th>\n",
              "      <td>1</td>\n",
              "    </tr>\n",
              "  </tbody>\n",
              "</table>\n",
              "</div><br><label><b>dtype:</b> int64</label>"
            ]
          },
          "metadata": {},
          "execution_count": 9
        }
      ],
      "source": [
        "# Identify number of missing values\n",
        "df.isnull().sum()"
      ]
    },
    {
      "cell_type": "markdown",
      "source": [
        "Get number of missing values in each column."
      ],
      "metadata": {
        "id": "sxDnk453uxSv"
      }
    },
    {
      "cell_type": "code",
      "execution_count": null,
      "metadata": {
        "colab": {
          "base_uri": "https://localhost:8080/",
          "height": 272
        },
        "id": "t1dFduTBnP9a",
        "outputId": "8a511954-23fa-4b12-caea-48b7ccf50cb1"
      },
      "outputs": [
        {
          "output_type": "execute_result",
          "data": {
            "text/plain": [
              "Customer_ID         0.000258\n",
              "outlet_city         0.000258\n",
              "luxury_sales        0.004521\n",
              "fresh_sales         0.005296\n",
              "dry_sales           0.003875\n",
              "cluster_catgeory    0.000129\n",
              "dtype: float64"
            ],
            "text/html": [
              "<div>\n",
              "<style scoped>\n",
              "    .dataframe tbody tr th:only-of-type {\n",
              "        vertical-align: middle;\n",
              "    }\n",
              "\n",
              "    .dataframe tbody tr th {\n",
              "        vertical-align: top;\n",
              "    }\n",
              "\n",
              "    .dataframe thead th {\n",
              "        text-align: right;\n",
              "    }\n",
              "</style>\n",
              "<table border=\"1\" class=\"dataframe\">\n",
              "  <thead>\n",
              "    <tr style=\"text-align: right;\">\n",
              "      <th></th>\n",
              "      <th>0</th>\n",
              "    </tr>\n",
              "  </thead>\n",
              "  <tbody>\n",
              "    <tr>\n",
              "      <th>Customer_ID</th>\n",
              "      <td>0.000258</td>\n",
              "    </tr>\n",
              "    <tr>\n",
              "      <th>outlet_city</th>\n",
              "      <td>0.000258</td>\n",
              "    </tr>\n",
              "    <tr>\n",
              "      <th>luxury_sales</th>\n",
              "      <td>0.004521</td>\n",
              "    </tr>\n",
              "    <tr>\n",
              "      <th>fresh_sales</th>\n",
              "      <td>0.005296</td>\n",
              "    </tr>\n",
              "    <tr>\n",
              "      <th>dry_sales</th>\n",
              "      <td>0.003875</td>\n",
              "    </tr>\n",
              "    <tr>\n",
              "      <th>cluster_catgeory</th>\n",
              "      <td>0.000129</td>\n",
              "    </tr>\n",
              "  </tbody>\n",
              "</table>\n",
              "</div><br><label><b>dtype:</b> float64</label>"
            ]
          },
          "metadata": {},
          "execution_count": 10
        }
      ],
      "source": [
        "# Identify number of missing values as a percentage\n",
        "df.isna().sum()/len(df)*100"
      ]
    },
    {
      "cell_type": "markdown",
      "source": [
        "Get percentage of missing values in each column."
      ],
      "metadata": {
        "id": "LG8BWkP3vb7Z"
      }
    },
    {
      "cell_type": "code",
      "execution_count": null,
      "metadata": {
        "colab": {
          "base_uri": "https://localhost:8080/"
        },
        "id": "BRvcILLpYbZW",
        "outputId": "69d65bec-33f0-436b-c04a-0686e1b4ff47"
      },
      "outputs": [
        {
          "output_type": "execute_result",
          "data": {
            "text/plain": [
              "np.int64(0)"
            ]
          },
          "metadata": {},
          "execution_count": 11
        }
      ],
      "source": [
        "# Observe number of duplicated values\n",
        "df.duplicated().sum()"
      ]
    },
    {
      "cell_type": "markdown",
      "source": [
        "Get the number of duplicated rows in the dataset."
      ],
      "metadata": {
        "id": "M5_f2P1dv1jO"
      }
    },
    {
      "cell_type": "code",
      "execution_count": null,
      "metadata": {
        "id": "9Nn5NkzhHI4m",
        "colab": {
          "base_uri": "https://localhost:8080/",
          "height": 1000
        },
        "outputId": "329040ea-7b8e-4d95-b841-10a954874ba2"
      },
      "outputs": [],
      "source": [
        "Numerical_columns = ('luxury_sales', 'fresh_sales', 'dry_sales')\n",
        "\n",
        "# Generate histograms\n",
        "plt.figure(figsize=(12, 6))\n",
        "for col in Numerical_columns:\n",
        "  col = px.histogram(df, x = col)\n",
        "  col.show()"
      ]
    },
    {
      "cell_type": "markdown",
      "metadata": {
        "id": "lPe5bKO7HI4m"
      },
      "source": [
        "This code plot a histogram for luxury_sales, fresh_sales and dry_sales. By Looking at these histograms, each of them has a skewed distribution. Therefore when handling missing values, it is reasonable to use median imputation."
      ]
    },
    {
      "cell_type": "markdown",
      "metadata": {
        "id": "32dGDjbnh0u8"
      },
      "source": [
        "## Data Preprocessing"
      ]
    },
    {
      "cell_type": "code",
      "execution_count": null,
      "metadata": {
        "id": "9r0twPG4XnQ2"
      },
      "outputs": [],
      "source": [
        "# Removing spaces in column values\n",
        "columns_to_clean = ['luxury_sales', 'fresh_sales', 'dry_sales']\n",
        "\n",
        "# Convert columns to string type before applying str.replace\n",
        "for col in columns_to_clean:\n",
        "    df[col] = df[col].astype(str)\n",
        "\n",
        "df[columns_to_clean] = df[columns_to_clean].apply(lambda x: x.str.replace(' ', '', regex=True))"
      ]
    },
    {
      "cell_type": "markdown",
      "source": [
        "Remove unnessary spaces in the rows of luxury_sales, fresh_sales and dry_sales. This helps in replacing string values in the rows with numeric values."
      ],
      "metadata": {
        "id": "MRlJCcUkwa4O"
      }
    },
    {
      "cell_type": "code",
      "execution_count": null,
      "metadata": {
        "colab": {
          "base_uri": "https://localhost:8080/",
          "height": 398
        },
        "id": "cRRLVf9xWoJx",
        "outputId": "24a1024c-8c7b-4090-8a70-694a8ab416a6"
      },
      "outputs": [
        {
          "output_type": "execute_result",
          "data": {
            "text/plain": [
              "luxury_sales\n",
              "nan                                35\n",
              "nul                                 3\n",
              "Onethousandfourhundreadruppes       1\n",
              "Eighthundreadruppess                1\n",
              "sixhundreadandhirty                 1\n",
              "Thousandtowhundread                 1\n",
              "sevenhundreadandnineruppees         1\n",
              "Threethousandtwohundreadruppess     1\n",
              "Fourthousandonehundreadruppess      1\n",
              "Name: count, dtype: int64"
            ],
            "text/html": [
              "<div>\n",
              "<style scoped>\n",
              "    .dataframe tbody tr th:only-of-type {\n",
              "        vertical-align: middle;\n",
              "    }\n",
              "\n",
              "    .dataframe tbody tr th {\n",
              "        vertical-align: top;\n",
              "    }\n",
              "\n",
              "    .dataframe thead th {\n",
              "        text-align: right;\n",
              "    }\n",
              "</style>\n",
              "<table border=\"1\" class=\"dataframe\">\n",
              "  <thead>\n",
              "    <tr style=\"text-align: right;\">\n",
              "      <th></th>\n",
              "      <th>count</th>\n",
              "    </tr>\n",
              "    <tr>\n",
              "      <th>luxury_sales</th>\n",
              "      <th></th>\n",
              "    </tr>\n",
              "  </thead>\n",
              "  <tbody>\n",
              "    <tr>\n",
              "      <th>nan</th>\n",
              "      <td>35</td>\n",
              "    </tr>\n",
              "    <tr>\n",
              "      <th>nul</th>\n",
              "      <td>3</td>\n",
              "    </tr>\n",
              "    <tr>\n",
              "      <th>Onethousandfourhundreadruppes</th>\n",
              "      <td>1</td>\n",
              "    </tr>\n",
              "    <tr>\n",
              "      <th>Eighthundreadruppess</th>\n",
              "      <td>1</td>\n",
              "    </tr>\n",
              "    <tr>\n",
              "      <th>sixhundreadandhirty</th>\n",
              "      <td>1</td>\n",
              "    </tr>\n",
              "    <tr>\n",
              "      <th>Thousandtowhundread</th>\n",
              "      <td>1</td>\n",
              "    </tr>\n",
              "    <tr>\n",
              "      <th>sevenhundreadandnineruppees</th>\n",
              "      <td>1</td>\n",
              "    </tr>\n",
              "    <tr>\n",
              "      <th>Threethousandtwohundreadruppess</th>\n",
              "      <td>1</td>\n",
              "    </tr>\n",
              "    <tr>\n",
              "      <th>Fourthousandonehundreadruppess</th>\n",
              "      <td>1</td>\n",
              "    </tr>\n",
              "  </tbody>\n",
              "</table>\n",
              "</div><br><label><b>dtype:</b> int64</label>"
            ]
          },
          "metadata": {},
          "execution_count": 14
        }
      ],
      "source": [
        "import re\n",
        "\n",
        "# Extract rows where the 'luxury_sales' column contains strings\n",
        "strings_in_luxury_sales = df['luxury_sales'][df['luxury_sales'].apply(lambda x: bool(re.match(r'[a-zA-Z]', str(x))))]\n",
        "strings_in_luxury_sales.value_counts()"
      ]
    },
    {
      "cell_type": "markdown",
      "source": [
        "The code identifies all rows in the luxury_sales column that contain at least one alphabetical character, either uppercase or lowercase. It then counts how many times each unique value appears in that filtered subset."
      ],
      "metadata": {
        "id": "fXl3gy1Ow6kM"
      }
    },
    {
      "cell_type": "code",
      "execution_count": null,
      "metadata": {
        "colab": {
          "base_uri": "https://localhost:8080/",
          "height": 335
        },
        "id": "1Rj0CzbSWoHK",
        "outputId": "ee3b787b-96aa-473a-8046-7cf0863395f8"
      },
      "outputs": [
        {
          "output_type": "execute_result",
          "data": {
            "text/plain": [
              "fresh_sales\n",
              "nan                                41\n",
              "nul                                 4\n",
              "Sixhundreadandfiveruppes            1\n",
              "Threethousanaandfivehundread        1\n",
              "thirteenthousandruppes              1\n",
              "Fivethousandruppes                  1\n",
              "Twothousandsevenhundreadruppess     1\n",
              "Name: count, dtype: int64"
            ],
            "text/html": [
              "<div>\n",
              "<style scoped>\n",
              "    .dataframe tbody tr th:only-of-type {\n",
              "        vertical-align: middle;\n",
              "    }\n",
              "\n",
              "    .dataframe tbody tr th {\n",
              "        vertical-align: top;\n",
              "    }\n",
              "\n",
              "    .dataframe thead th {\n",
              "        text-align: right;\n",
              "    }\n",
              "</style>\n",
              "<table border=\"1\" class=\"dataframe\">\n",
              "  <thead>\n",
              "    <tr style=\"text-align: right;\">\n",
              "      <th></th>\n",
              "      <th>count</th>\n",
              "    </tr>\n",
              "    <tr>\n",
              "      <th>fresh_sales</th>\n",
              "      <th></th>\n",
              "    </tr>\n",
              "  </thead>\n",
              "  <tbody>\n",
              "    <tr>\n",
              "      <th>nan</th>\n",
              "      <td>41</td>\n",
              "    </tr>\n",
              "    <tr>\n",
              "      <th>nul</th>\n",
              "      <td>4</td>\n",
              "    </tr>\n",
              "    <tr>\n",
              "      <th>Sixhundreadandfiveruppes</th>\n",
              "      <td>1</td>\n",
              "    </tr>\n",
              "    <tr>\n",
              "      <th>Threethousanaandfivehundread</th>\n",
              "      <td>1</td>\n",
              "    </tr>\n",
              "    <tr>\n",
              "      <th>thirteenthousandruppes</th>\n",
              "      <td>1</td>\n",
              "    </tr>\n",
              "    <tr>\n",
              "      <th>Fivethousandruppes</th>\n",
              "      <td>1</td>\n",
              "    </tr>\n",
              "    <tr>\n",
              "      <th>Twothousandsevenhundreadruppess</th>\n",
              "      <td>1</td>\n",
              "    </tr>\n",
              "  </tbody>\n",
              "</table>\n",
              "</div><br><label><b>dtype:</b> int64</label>"
            ]
          },
          "metadata": {},
          "execution_count": 15
        }
      ],
      "source": [
        "import re\n",
        "\n",
        "# Extract rows where the 'fresh_sales' column contains strings\n",
        "strings_in_luxury_sales = df['fresh_sales'][df['fresh_sales'].apply(lambda x: bool(re.match(r'[a-zA-Z]', str(x))))]\n",
        "strings_in_luxury_sales.value_counts()"
      ]
    },
    {
      "cell_type": "markdown",
      "source": [
        "The code identifies all rows in the fresh_sales column that contain at least one alphabetical character, either uppercase or lowercase. It then counts how many times each unique value appears in that filtered subset."
      ],
      "metadata": {
        "id": "x86wQEnayRzs"
      }
    },
    {
      "cell_type": "code",
      "execution_count": null,
      "metadata": {
        "colab": {
          "base_uri": "https://localhost:8080/",
          "height": 210
        },
        "id": "_y7JKYjnWoEg",
        "outputId": "e277471e-dac1-4b1a-f5ac-ced18cd0fe06"
      },
      "outputs": [
        {
          "output_type": "execute_result",
          "data": {
            "text/plain": [
              "dry_sales\n",
              "nan                                 30\n",
              "nul                                  7\n",
              "Fourthousandandtwohundreadruppes     1\n",
              "Name: count, dtype: int64"
            ],
            "text/html": [
              "<div>\n",
              "<style scoped>\n",
              "    .dataframe tbody tr th:only-of-type {\n",
              "        vertical-align: middle;\n",
              "    }\n",
              "\n",
              "    .dataframe tbody tr th {\n",
              "        vertical-align: top;\n",
              "    }\n",
              "\n",
              "    .dataframe thead th {\n",
              "        text-align: right;\n",
              "    }\n",
              "</style>\n",
              "<table border=\"1\" class=\"dataframe\">\n",
              "  <thead>\n",
              "    <tr style=\"text-align: right;\">\n",
              "      <th></th>\n",
              "      <th>count</th>\n",
              "    </tr>\n",
              "    <tr>\n",
              "      <th>dry_sales</th>\n",
              "      <th></th>\n",
              "    </tr>\n",
              "  </thead>\n",
              "  <tbody>\n",
              "    <tr>\n",
              "      <th>nan</th>\n",
              "      <td>30</td>\n",
              "    </tr>\n",
              "    <tr>\n",
              "      <th>nul</th>\n",
              "      <td>7</td>\n",
              "    </tr>\n",
              "    <tr>\n",
              "      <th>Fourthousandandtwohundreadruppes</th>\n",
              "      <td>1</td>\n",
              "    </tr>\n",
              "  </tbody>\n",
              "</table>\n",
              "</div><br><label><b>dtype:</b> int64</label>"
            ]
          },
          "metadata": {},
          "execution_count": 16
        }
      ],
      "source": [
        "import re\n",
        "\n",
        "# Extract rows where the 'dry_sales' column contains strings\n",
        "strings_in_luxury_sales = df['dry_sales'][df['dry_sales'].apply(lambda x: bool(re.match(r'[a-zA-Z]', str(x))))]\n",
        "strings_in_luxury_sales.value_counts()"
      ]
    },
    {
      "cell_type": "markdown",
      "source": [
        "The code identifies all rows in the dry_sales column that contain at least one alphabetical character, either uppercase or lowercase. It then counts how many times each unique value appears in that filtered subset."
      ],
      "metadata": {
        "id": "vVAq5zw9yYW8"
      }
    },
    {
      "cell_type": "code",
      "execution_count": null,
      "metadata": {
        "id": "SHYdatmtWoBy"
      },
      "outputs": [],
      "source": [
        "# Remove string values and symbols\n",
        "df.replace({'Onethousandfourhundreadruppes': 1400,\n",
        "            'Eighthundreadruppess': 800,\n",
        "            'sixhundreadandhirty': 630,\n",
        "            'Thousandtowhundread': 2200,\n",
        "            'sevenhundreadandnineruppees': 709,\n",
        "            'Threethousandtwohundreadruppess': 3200,\n",
        "            'Fourthousandonehundreadruppess': 4100,\n",
        "            'Sixhundreadandfiveruppes': 605,\n",
        "            'Threethousanaandfivehundread': 3500,\n",
        "            'thirteenthousandruppes': 13000,\n",
        "            'Fivethousandruppes': 5000,\n",
        "            'Twothousandsevenhundreadruppess': 2700,\n",
        "            'Fourthousandandtwohundreadruppes': 4200,\n",
        "            '6\\\\': 6}, inplace=True)"
      ]
    },
    {
      "cell_type": "markdown",
      "source": [
        "The code replace all the identified string values in luxury_sales, fresh_sales and dry_sales with numerics. And remove unrelavant symbols in cluster_catgeory (Ex. 6\\\\\\ --> 6)"
      ],
      "metadata": {
        "id": "M8Ta0f6-yc5D"
      }
    },
    {
      "cell_type": "code",
      "execution_count": null,
      "metadata": {
        "id": "CLV-xJ3BWn_K",
        "colab": {
          "base_uri": "https://localhost:8080/"
        },
        "outputId": "357c84ba-c5a7-48c5-ee46-533336f8f165"
      },
      "outputs": [
        {
          "output_type": "stream",
          "name": "stderr",
          "text": [
            "<ipython-input-18-70f02fb778f3>:13: FutureWarning:\n",
            "\n",
            "A value is trying to be set on a copy of a DataFrame or Series through chained assignment using an inplace method.\n",
            "The behavior will change in pandas 3.0. This inplace method will never work because the intermediate object on which we are setting values always behaves as a copy.\n",
            "\n",
            "For example, when doing 'df[col].method(value, inplace=True)', try using 'df.method({col: value}, inplace=True)' or df[col] = df[col].method(value) instead, to perform the operation inplace on the original object.\n",
            "\n",
            "\n",
            "\n",
            "<ipython-input-18-70f02fb778f3>:14: FutureWarning:\n",
            "\n",
            "A value is trying to be set on a copy of a DataFrame or Series through chained assignment using an inplace method.\n",
            "The behavior will change in pandas 3.0. This inplace method will never work because the intermediate object on which we are setting values always behaves as a copy.\n",
            "\n",
            "For example, when doing 'df[col].method(value, inplace=True)', try using 'df.method({col: value}, inplace=True)' or df[col] = df[col].method(value) instead, to perform the operation inplace on the original object.\n",
            "\n",
            "\n",
            "\n",
            "<ipython-input-18-70f02fb778f3>:15: FutureWarning:\n",
            "\n",
            "A value is trying to be set on a copy of a DataFrame or Series through chained assignment using an inplace method.\n",
            "The behavior will change in pandas 3.0. This inplace method will never work because the intermediate object on which we are setting values always behaves as a copy.\n",
            "\n",
            "For example, when doing 'df[col].method(value, inplace=True)', try using 'df.method({col: value}, inplace=True)' or df[col] = df[col].method(value) instead, to perform the operation inplace on the original object.\n",
            "\n",
            "\n",
            "\n",
            "<ipython-input-18-70f02fb778f3>:18: FutureWarning:\n",
            "\n",
            "A value is trying to be set on a copy of a DataFrame or Series through chained assignment using an inplace method.\n",
            "The behavior will change in pandas 3.0. This inplace method will never work because the intermediate object on which we are setting values always behaves as a copy.\n",
            "\n",
            "For example, when doing 'df[col].method(value, inplace=True)', try using 'df.method({col: value}, inplace=True)' or df[col] = df[col].method(value) instead, to perform the operation inplace on the original object.\n",
            "\n",
            "\n",
            "\n",
            "<ipython-input-18-70f02fb778f3>:19: FutureWarning:\n",
            "\n",
            "A value is trying to be set on a copy of a DataFrame or Series through chained assignment using an inplace method.\n",
            "The behavior will change in pandas 3.0. This inplace method will never work because the intermediate object on which we are setting values always behaves as a copy.\n",
            "\n",
            "For example, when doing 'df[col].method(value, inplace=True)', try using 'df.method({col: value}, inplace=True)' or df[col] = df[col].method(value) instead, to perform the operation inplace on the original object.\n",
            "\n",
            "\n",
            "\n"
          ]
        }
      ],
      "source": [
        "# Handle Missing Values\n",
        "\n",
        "# Convert values between numeric and NaN\n",
        "import numpy as np\n",
        "df['luxury_sales'] = pd.to_numeric(df['luxury_sales'], errors='coerce')\n",
        "df['fresh_sales'] = pd.to_numeric(df['fresh_sales'], errors='coerce')\n",
        "df['dry_sales'] = pd.to_numeric(df['dry_sales'], errors='coerce')\n",
        "df['cluster_catgeory'] = pd.to_numeric(df['cluster_catgeory'], errors='coerce')\n",
        "\n",
        "# Fill missing data\n",
        "\n",
        "# Fill missing values with median imputaion\n",
        "df['luxury_sales'].fillna(df['luxury_sales'].median(), inplace=True)\n",
        "df['fresh_sales'].fillna(df['fresh_sales'].median(), inplace=True)\n",
        "df['dry_sales'].fillna(df['dry_sales'].median(), inplace=True)\n",
        "\n",
        "# Fill missing values with mode imputaion\n",
        "df['outlet_city'].fillna(df['outlet_city'].mode()[0], inplace=True)\n",
        "df['cluster_catgeory'].fillna(df['cluster_catgeory'].mode()[0], inplace=True)"
      ]
    },
    {
      "cell_type": "markdown",
      "metadata": {
        "id": "K3vu8XLRHI4n"
      },
      "source": [
        "- Code remove symbols within the luxury_sales, fresh_sales, dry_sales and cluster_catgeory and use imputation methods to fill in the missing values.\n",
        "- Both outlet_city and cluster_catgeory are categorical variables, therefore mode imputation will be used for impute missing values.\n",
        "- luxury_sales, fresh_sales and dry_sales columns should be numerical columns. There shows a skewed distribution, therefore median imputation will be used for impute missing values.\n"
      ]
    },
    {
      "cell_type": "code",
      "execution_count": null,
      "metadata": {
        "id": "YcbQiRSEHI4n",
        "outputId": "92d7def7-e6b7-48ea-cd15-97ed549d7d44",
        "colab": {
          "base_uri": "https://localhost:8080/",
          "height": 272
        }
      },
      "outputs": [
        {
          "output_type": "execute_result",
          "data": {
            "text/plain": [
              "Customer_ID         2\n",
              "outlet_city         0\n",
              "luxury_sales        0\n",
              "fresh_sales         0\n",
              "dry_sales           0\n",
              "cluster_catgeory    0\n",
              "dtype: int64"
            ],
            "text/html": [
              "<div>\n",
              "<style scoped>\n",
              "    .dataframe tbody tr th:only-of-type {\n",
              "        vertical-align: middle;\n",
              "    }\n",
              "\n",
              "    .dataframe tbody tr th {\n",
              "        vertical-align: top;\n",
              "    }\n",
              "\n",
              "    .dataframe thead th {\n",
              "        text-align: right;\n",
              "    }\n",
              "</style>\n",
              "<table border=\"1\" class=\"dataframe\">\n",
              "  <thead>\n",
              "    <tr style=\"text-align: right;\">\n",
              "      <th></th>\n",
              "      <th>0</th>\n",
              "    </tr>\n",
              "  </thead>\n",
              "  <tbody>\n",
              "    <tr>\n",
              "      <th>Customer_ID</th>\n",
              "      <td>2</td>\n",
              "    </tr>\n",
              "    <tr>\n",
              "      <th>outlet_city</th>\n",
              "      <td>0</td>\n",
              "    </tr>\n",
              "    <tr>\n",
              "      <th>luxury_sales</th>\n",
              "      <td>0</td>\n",
              "    </tr>\n",
              "    <tr>\n",
              "      <th>fresh_sales</th>\n",
              "      <td>0</td>\n",
              "    </tr>\n",
              "    <tr>\n",
              "      <th>dry_sales</th>\n",
              "      <td>0</td>\n",
              "    </tr>\n",
              "    <tr>\n",
              "      <th>cluster_catgeory</th>\n",
              "      <td>0</td>\n",
              "    </tr>\n",
              "  </tbody>\n",
              "</table>\n",
              "</div><br><label><b>dtype:</b> int64</label>"
            ]
          },
          "metadata": {},
          "execution_count": 19
        }
      ],
      "source": [
        "# Identify number of missing values\n",
        "df.isnull().sum()"
      ]
    },
    {
      "cell_type": "markdown",
      "metadata": {
        "id": "hjyAh2UAHI4n"
      },
      "source": [
        "The code check number of missing values to ressure the imputation.\n",
        "Since Customer_ID is a unique key in the dataset, it need not any imputation for missing values."
      ]
    },
    {
      "cell_type": "code",
      "execution_count": null,
      "metadata": {
        "id": "R76L7HxTWn8g"
      },
      "outputs": [],
      "source": [
        "#Change data types\n",
        "df['luxury_sales'] = df['luxury_sales'].astype('float')\n",
        "df['fresh_sales'] = df['fresh_sales'].astype('float')\n",
        "df['dry_sales'] = df['dry_sales'].astype('float')\n",
        "df['cluster_catgeory'] = df['cluster_catgeory'].astype('int')"
      ]
    },
    {
      "cell_type": "markdown",
      "source": [
        "The code will change the data types of luxury_sales, fresh_sales and dry_sales columns to float. Also cluster_catgeory to integer."
      ],
      "metadata": {
        "id": "St-CbiKh1iLn"
      }
    },
    {
      "cell_type": "code",
      "execution_count": null,
      "metadata": {
        "colab": {
          "base_uri": "https://localhost:8080/",
          "height": 607
        },
        "id": "Tfjd6YaaWn5n",
        "outputId": "75e9ae08-572a-43d6-c273-cdfbee4fa603"
      },
      "outputs": [
        {
          "output_type": "display_data",
          "data": {
            "text/plain": [
              "<Figure size 1200x600 with 4 Axes>"
            ],
            "image/png": "[encoded data removed]"
          },
          "metadata": {}
        }
      ],
      "source": [
        "import pandas as pd\n",
        "import matplotlib.pyplot as plt\n",
        "import seaborn as sns\n",
        "\n",
        "# Correct the column name in the list\n",
        "columns_to_check = [\"luxury_sales\", \"fresh_sales\", \"dry_sales\", \"cluster_catgeory\"]\n",
        "\n",
        "# Set the figure size\n",
        "plt.figure(figsize=(12, 6))\n",
        "\n",
        "# Create boxplots\n",
        "for i, column in enumerate(columns_to_check, 1):\n",
        "    plt.subplot(1, len(columns_to_check), i)\n",
        "    sns.boxplot(y=df[column])\n",
        "    plt.title(f\"Boxplot of {column}\")\n",
        "\n",
        "plt.tight_layout()\n",
        "plt.show()"
      ]
    },
    {
      "cell_type": "markdown",
      "source": [
        "The code plot boxplot for luxury_sales, fresh_sales, dry_sales and cluster_catgeory columns to see any outlier in their values. It is evident in the plots that both luxury_sales and cluster_catgeory have outliers."
      ],
      "metadata": {
        "id": "4bkNALab19yI"
      }
    },
    {
      "cell_type": "code",
      "execution_count": null,
      "metadata": {
        "id": "PAesfOnGWn24"
      },
      "outputs": [],
      "source": [
        "# Outllier detection function\n",
        "def find_outliers_IQR(df):\n",
        "  q1=df.quantile(0.25)\n",
        "  q3=df.quantile(0.75)\n",
        "  IQR=q3-q1\n",
        "  outliers = df[((df<(q1-1.5*IQR))|(df>(q3+1.5*IQR)))]\n",
        "  return outliers"
      ]
    },
    {
      "cell_type": "markdown",
      "source": [
        "The code use IQR method into a fuction to detect outlier values that fall beyond 1.5 times the IQR from the first (Q1) and third (Q3) quartiles."
      ],
      "metadata": {
        "id": "ut5G8lol2mWp"
      }
    },
    {
      "cell_type": "code",
      "execution_count": null,
      "metadata": {
        "colab": {
          "base_uri": "https://localhost:8080/",
          "height": 476
        },
        "id": "ghqZh8-kWn0D",
        "outputId": "c926d8d1-b22f-42ab-93dc-6214306fe34a"
      },
      "outputs": [
        {
          "output_type": "stream",
          "name": "stdout",
          "text": [
            "number of outliers: 35060\n"
          ]
        },
        {
          "output_type": "execute_result",
          "data": {
            "text/plain": [
              "327511    4514.84\n",
              "327515    4248.30\n",
              "327521    5053.76\n",
              "327522    4169.40\n",
              "327525    4428.93\n",
              "           ...   \n",
              "774148    5264.00\n",
              "774151    6095.86\n",
              "774152    5121.42\n",
              "774153    6311.76\n",
              "774154    5833.50\n",
              "Name: luxury_sales, Length: 35060, dtype: float64"
            ],
            "text/html": [
              "<div>\n",
              "<style scoped>\n",
              "    .dataframe tbody tr th:only-of-type {\n",
              "        vertical-align: middle;\n",
              "    }\n",
              "\n",
              "    .dataframe tbody tr th {\n",
              "        vertical-align: top;\n",
              "    }\n",
              "\n",
              "    .dataframe thead th {\n",
              "        text-align: right;\n",
              "    }\n",
              "</style>\n",
              "<table border=\"1\" class=\"dataframe\">\n",
              "  <thead>\n",
              "    <tr style=\"text-align: right;\">\n",
              "      <th></th>\n",
              "      <th>luxury_sales</th>\n",
              "    </tr>\n",
              "  </thead>\n",
              "  <tbody>\n",
              "    <tr>\n",
              "      <th>327511</th>\n",
              "      <td>4514.84</td>\n",
              "    </tr>\n",
              "    <tr>\n",
              "      <th>327515</th>\n",
              "      <td>4248.30</td>\n",
              "    </tr>\n",
              "    <tr>\n",
              "      <th>327521</th>\n",
              "      <td>5053.76</td>\n",
              "    </tr>\n",
              "    <tr>\n",
              "      <th>327522</th>\n",
              "      <td>4169.40</td>\n",
              "    </tr>\n",
              "    <tr>\n",
              "      <th>327525</th>\n",
              "      <td>4428.93</td>\n",
              "    </tr>\n",
              "    <tr>\n",
              "      <th>...</th>\n",
              "      <td>...</td>\n",
              "    </tr>\n",
              "    <tr>\n",
              "      <th>774148</th>\n",
              "      <td>5264.00</td>\n",
              "    </tr>\n",
              "    <tr>\n",
              "      <th>774151</th>\n",
              "      <td>6095.86</td>\n",
              "    </tr>\n",
              "    <tr>\n",
              "      <th>774152</th>\n",
              "      <td>5121.42</td>\n",
              "    </tr>\n",
              "    <tr>\n",
              "      <th>774153</th>\n",
              "      <td>6311.76</td>\n",
              "    </tr>\n",
              "    <tr>\n",
              "      <th>774154</th>\n",
              "      <td>5833.50</td>\n",
              "    </tr>\n",
              "  </tbody>\n",
              "</table>\n",
              "<p>35060 rows × 1 columns</p>\n",
              "</div><br><label><b>dtype:</b> float64</label>"
            ]
          },
          "metadata": {},
          "execution_count": 23
        }
      ],
      "source": [
        "# Detect outliers in luxury_sales with outllier detection function\n",
        "ls_outliers = find_outliers_IQR(df['luxury_sales'])\n",
        "print(\"number of outliers: \"+ str(len(ls_outliers)))\n",
        "ls_outliers"
      ]
    },
    {
      "cell_type": "markdown",
      "source": [
        "The code use outlier fuction to detect outliers in luxury_sales column. The output shows that ther are 35060 number of outliers."
      ],
      "metadata": {
        "id": "01DQsjHR4il2"
      }
    },
    {
      "cell_type": "code",
      "execution_count": null,
      "metadata": {
        "id": "8dNhs0EFHI4o",
        "outputId": "c958cb2f-8c76-41a9-b6e4-d9b164d24390",
        "colab": {
          "base_uri": "https://localhost:8080/"
        }
      },
      "outputs": [
        {
          "output_type": "execute_result",
          "data": {
            "text/plain": [
              "array([4026.33, 4026.4 , 4026.56, ..., 6994.75, 6996.85, 6999.65])"
            ]
          },
          "metadata": {},
          "execution_count": 24
        }
      ],
      "source": [
        "# Sort outliers in luxury_sales with ascending order\n",
        "sorted_outliers = ls_outliers.sort_values()\n",
        "sorted_outliers.unique()"
      ]
    },
    {
      "cell_type": "markdown",
      "metadata": {
        "id": "4sklLoZ9HI4o"
      },
      "source": [
        "The code sorts and presents the outliers detected in the luxuary_sales column in ascending order. Since luxury goods are generally more expensive than fresh goods and dry goods, there may be higher values ​​in luxury_sales. Therefore, these values ​​cannot be considered outliers."
      ]
    },
    {
      "cell_type": "code",
      "execution_count": null,
      "metadata": {
        "colab": {
          "base_uri": "https://localhost:8080/",
          "height": 101
        },
        "id": "XFELL-0nkkJA",
        "outputId": "67b6d620-49a5-425a-e575-6b042bf0a0f0"
      },
      "outputs": [
        {
          "output_type": "stream",
          "name": "stdout",
          "text": [
            "number of outliers: 0\n"
          ]
        },
        {
          "output_type": "execute_result",
          "data": {
            "text/plain": [
              "Series([], Name: fresh_sales, dtype: float64)"
            ],
            "text/html": [
              "<div>\n",
              "<style scoped>\n",
              "    .dataframe tbody tr th:only-of-type {\n",
              "        vertical-align: middle;\n",
              "    }\n",
              "\n",
              "    .dataframe tbody tr th {\n",
              "        vertical-align: top;\n",
              "    }\n",
              "\n",
              "    .dataframe thead th {\n",
              "        text-align: right;\n",
              "    }\n",
              "</style>\n",
              "<table border=\"1\" class=\"dataframe\">\n",
              "  <thead>\n",
              "    <tr style=\"text-align: right;\">\n",
              "      <th></th>\n",
              "      <th>fresh_sales</th>\n",
              "    </tr>\n",
              "  </thead>\n",
              "  <tbody>\n",
              "  </tbody>\n",
              "</table>\n",
              "</div><br><label><b>dtype:</b> float64</label>"
            ]
          },
          "metadata": {},
          "execution_count": 25
        }
      ],
      "source": [
        "# Detect outliers in fresh_sales with outllier detection function\n",
        "outliers = find_outliers_IQR(df['fresh_sales'])\n",
        "print(\"number of outliers: \"+ str(len(outliers)))\n",
        "outliers"
      ]
    },
    {
      "cell_type": "markdown",
      "source": [
        "The code use outlier fuction to detect outliers in luxury_sales column. And output shows that there is no outliers."
      ],
      "metadata": {
        "id": "XwaqSbXf6qsE"
      }
    },
    {
      "cell_type": "code",
      "execution_count": null,
      "metadata": {
        "colab": {
          "base_uri": "https://localhost:8080/",
          "height": 101
        },
        "id": "sjqaAU0ikkFu",
        "outputId": "76f3b1a7-495a-4191-91d2-1ca74e95a69d"
      },
      "outputs": [
        {
          "output_type": "stream",
          "name": "stdout",
          "text": [
            "number of outliers: 0\n"
          ]
        },
        {
          "output_type": "execute_result",
          "data": {
            "text/plain": [
              "Series([], Name: dry_sales, dtype: float64)"
            ],
            "text/html": [
              "<div>\n",
              "<style scoped>\n",
              "    .dataframe tbody tr th:only-of-type {\n",
              "        vertical-align: middle;\n",
              "    }\n",
              "\n",
              "    .dataframe tbody tr th {\n",
              "        vertical-align: top;\n",
              "    }\n",
              "\n",
              "    .dataframe thead th {\n",
              "        text-align: right;\n",
              "    }\n",
              "</style>\n",
              "<table border=\"1\" class=\"dataframe\">\n",
              "  <thead>\n",
              "    <tr style=\"text-align: right;\">\n",
              "      <th></th>\n",
              "      <th>dry_sales</th>\n",
              "    </tr>\n",
              "  </thead>\n",
              "  <tbody>\n",
              "  </tbody>\n",
              "</table>\n",
              "</div><br><label><b>dtype:</b> float64</label>"
            ]
          },
          "metadata": {},
          "execution_count": 26
        }
      ],
      "source": [
        "# Detect outliers in dry_sales with outllier detection function\n",
        "outliers = find_outliers_IQR(df['dry_sales'])\n",
        "print(\"number of outliers: \"+ str(len(outliers)))\n",
        "outliers"
      ]
    },
    {
      "cell_type": "markdown",
      "source": [
        "The code use outlier fuction to detect outliers in dry_sales column. And output shows that there is no outliers."
      ],
      "metadata": {
        "id": "RrTpLNQL6mwN"
      }
    },
    {
      "cell_type": "code",
      "execution_count": null,
      "metadata": {
        "colab": {
          "base_uri": "https://localhost:8080/",
          "height": 258
        },
        "id": "-ipZZoO8kkDV",
        "outputId": "9830c52d-df63-4ccb-97fe-45a639b38dd4"
      },
      "outputs": [
        {
          "output_type": "stream",
          "name": "stdout",
          "text": [
            "number of outliers: 5\n"
          ]
        },
        {
          "output_type": "execute_result",
          "data": {
            "text/plain": [
              "17         99\n",
              "172456     95\n",
              "172689     98\n",
              "555703    100\n",
              "558115     89\n",
              "Name: cluster_catgeory, dtype: int64"
            ],
            "text/html": [
              "<div>\n",
              "<style scoped>\n",
              "    .dataframe tbody tr th:only-of-type {\n",
              "        vertical-align: middle;\n",
              "    }\n",
              "\n",
              "    .dataframe tbody tr th {\n",
              "        vertical-align: top;\n",
              "    }\n",
              "\n",
              "    .dataframe thead th {\n",
              "        text-align: right;\n",
              "    }\n",
              "</style>\n",
              "<table border=\"1\" class=\"dataframe\">\n",
              "  <thead>\n",
              "    <tr style=\"text-align: right;\">\n",
              "      <th></th>\n",
              "      <th>cluster_catgeory</th>\n",
              "    </tr>\n",
              "  </thead>\n",
              "  <tbody>\n",
              "    <tr>\n",
              "      <th>17</th>\n",
              "      <td>99</td>\n",
              "    </tr>\n",
              "    <tr>\n",
              "      <th>172456</th>\n",
              "      <td>95</td>\n",
              "    </tr>\n",
              "    <tr>\n",
              "      <th>172689</th>\n",
              "      <td>98</td>\n",
              "    </tr>\n",
              "    <tr>\n",
              "      <th>555703</th>\n",
              "      <td>100</td>\n",
              "    </tr>\n",
              "    <tr>\n",
              "      <th>558115</th>\n",
              "      <td>89</td>\n",
              "    </tr>\n",
              "  </tbody>\n",
              "</table>\n",
              "</div><br><label><b>dtype:</b> int64</label>"
            ]
          },
          "metadata": {},
          "execution_count": 27
        }
      ],
      "source": [
        "# Detect outliers in cluster_catgeory with outllier detection function\n",
        "outliers = find_outliers_IQR(df['cluster_catgeory'])\n",
        "print(\"number of outliers: \"+ str(len(outliers)))\n",
        "outliers"
      ]
    },
    {
      "cell_type": "markdown",
      "metadata": {
        "id": "Ixmvu4r5HI4p"
      },
      "source": [
        "The code use outlier fuction to detect outliers in cluster_catgeory column. The output shows there are 5 outliers. It is said in the scope of the problem, through an initial analysis, 6 customer segments of customers were identified. Therefore these outliers must be removed from the dataset."
      ]
    },
    {
      "cell_type": "code",
      "execution_count": null,
      "metadata": {
        "id": "JVw7uNYykkAt"
      },
      "outputs": [],
      "source": [
        "# Remove outliers\n",
        "df.drop(df.index[[17,172456,172689,555703,558115]], inplace=True)"
      ]
    },
    {
      "cell_type": "markdown",
      "source": [
        "The code remove the outliers of cluster_catgeory by pointing the indexes of those 5 values."
      ],
      "metadata": {
        "id": "deVvXquE8LM8"
      }
    },
    {
      "cell_type": "code",
      "execution_count": null,
      "metadata": {
        "id": "I2DXe2_lHI4q",
        "outputId": "6c60f1cb-b5cf-4a25-9e4c-5a26aba127ff",
        "colab": {
          "base_uri": "https://localhost:8080/"
        }
      },
      "outputs": [
        {
          "output_type": "execute_result",
          "data": {
            "text/plain": [
              "(774155, 6)"
            ]
          },
          "metadata": {},
          "execution_count": 29
        }
      ],
      "source": [
        "# Get dataset dimmentions before preprocessing\n",
        "shape_before_preprocessing"
      ]
    },
    {
      "cell_type": "markdown",
      "source": [
        "The code shows the dimentions of the dataset before the prepossing."
      ],
      "metadata": {
        "id": "KARJqMfD8mw8"
      }
    },
    {
      "cell_type": "code",
      "execution_count": null,
      "metadata": {
        "colab": {
          "base_uri": "https://localhost:8080/"
        },
        "id": "wqHk9uowkj-e",
        "outputId": "d3616203-ce16-454b-d6fc-95fcdcb59af2"
      },
      "outputs": [
        {
          "output_type": "execute_result",
          "data": {
            "text/plain": [
              "(774150, 6)"
            ]
          },
          "metadata": {},
          "execution_count": 30
        }
      ],
      "source": [
        "# Get dataset dimmentions after preprocessing\n",
        "shape_after_preprocessing = df.shape\n",
        "shape_after_preprocessing"
      ]
    },
    {
      "cell_type": "markdown",
      "source": [
        "The code shows the dimentions of the dataset after the prepossing."
      ],
      "metadata": {
        "id": "dhygWlXs8ybK"
      }
    },
    {
      "cell_type": "markdown",
      "source": [
        "## Prepared Train Dataset"
      ],
      "metadata": {
        "id": "5S_UmG2ENMCk"
      }
    },
    {
      "cell_type": "code",
      "execution_count": null,
      "metadata": {
        "colab": {
          "base_uri": "https://localhost:8080/"
        },
        "id": "T2U3bnMR-Hmp",
        "outputId": "4aa4cb5b-0784-499c-dc61-369ef9b1a7f4"
      },
      "outputs": [
        {
          "output_type": "stream",
          "name": "stdout",
          "text": [
            "prepared_traincsv.csv saved successfully\n"
          ]
        }
      ],
      "source": [
        "# Save cleaned dataframe to csv\n",
        "try:\n",
        "  df.to_csv('cleaned_traincsv.csv', index=False)\n",
        "  print('prepared_traincsv.csv saved successfully')\n",
        "except Exception as e:\n",
        "  print(f\"An error occurred: {e}\")"
      ]
    },
    {
      "cell_type": "markdown",
      "source": [
        "The code will save the dataframe after the preprocessing into a new dataset named cleaned_traincsv.csv. Try and except used to inform completion of the task and errors occured in the task."
      ],
      "metadata": {
        "id": "LLwlaDYV9Ak6"
      }
    },
    {
      "cell_type": "markdown",
      "metadata": {
        "id": "FNPDQoPR0eEF"
      },
      "source": [
        "## EDA"
      ]
    },
    {
      "cell_type": "markdown",
      "metadata": {
        "id": "xUxKWZO01vA5"
      },
      "source": [
        "### Univariate Analysis"
      ]
    },
    {
      "cell_type": "markdown",
      "metadata": {
        "id": "YCcPuaXI2AVL"
      },
      "source": [
        "#### Descriptive measures for categorical variables"
      ]
    },
    {
      "cell_type": "code",
      "execution_count": null,
      "metadata": {
        "colab": {
          "base_uri": "https://localhost:8080/",
          "height": 743
        },
        "id": "ZBxkmL-V0dgQ",
        "outputId": "505efd2f-2bf5-43ba-f3c4-b90248a8ff49"
      },
      "outputs": [
        {
          "output_type": "execute_result",
          "data": {
            "text/plain": [
              "outlet_city\n",
              "Colombo                   41033\n",
              "Batticaloa                41012\n",
              "Galle                     41009\n",
              "Kalmunai                  40711\n",
              "Negombo                   40703\n",
              "Jaffna                    40675\n",
              "Katunayake                40648\n",
              "Kandy                     40534\n",
              "Trincomalee               40528\n",
              "Gampaha                   40252\n",
              "Peliyagoda                37151\n",
              "Nuwara Eliya              37102\n",
              "Dehiwala-Mount Lavinia    36838\n",
              "Kotte                     36788\n",
              "Panadura                  36726\n",
              "Wattala                   36721\n",
              "Kaduwela                  36695\n",
              "Homagama                  36638\n",
              "Moratuwa                  36416\n",
              "Kelaniya                  35970\n",
              "Name: count, dtype: int64"
            ],
            "text/html": [
              "<div>\n",
              "<style scoped>\n",
              "    .dataframe tbody tr th:only-of-type {\n",
              "        vertical-align: middle;\n",
              "    }\n",
              "\n",
              "    .dataframe tbody tr th {\n",
              "        vertical-align: top;\n",
              "    }\n",
              "\n",
              "    .dataframe thead th {\n",
              "        text-align: right;\n",
              "    }\n",
              "</style>\n",
              "<table border=\"1\" class=\"dataframe\">\n",
              "  <thead>\n",
              "    <tr style=\"text-align: right;\">\n",
              "      <th></th>\n",
              "      <th>count</th>\n",
              "    </tr>\n",
              "    <tr>\n",
              "      <th>outlet_city</th>\n",
              "      <th></th>\n",
              "    </tr>\n",
              "  </thead>\n",
              "  <tbody>\n",
              "    <tr>\n",
              "      <th>Colombo</th>\n",
              "      <td>41033</td>\n",
              "    </tr>\n",
              "    <tr>\n",
              "      <th>Batticaloa</th>\n",
              "      <td>41012</td>\n",
              "    </tr>\n",
              "    <tr>\n",
              "      <th>Galle</th>\n",
              "      <td>41009</td>\n",
              "    </tr>\n",
              "    <tr>\n",
              "      <th>Kalmunai</th>\n",
              "      <td>40711</td>\n",
              "    </tr>\n",
              "    <tr>\n",
              "      <th>Negombo</th>\n",
              "      <td>40703</td>\n",
              "    </tr>\n",
              "    <tr>\n",
              "      <th>Jaffna</th>\n",
              "      <td>40675</td>\n",
              "    </tr>\n",
              "    <tr>\n",
              "      <th>Katunayake</th>\n",
              "      <td>40648</td>\n",
              "    </tr>\n",
              "    <tr>\n",
              "      <th>Kandy</th>\n",
              "      <td>40534</td>\n",
              "    </tr>\n",
              "    <tr>\n",
              "      <th>Trincomalee</th>\n",
              "      <td>40528</td>\n",
              "    </tr>\n",
              "    <tr>\n",
              "      <th>Gampaha</th>\n",
              "      <td>40252</td>\n",
              "    </tr>\n",
              "    <tr>\n",
              "      <th>Peliyagoda</th>\n",
              "      <td>37151</td>\n",
              "    </tr>\n",
              "    <tr>\n",
              "      <th>Nuwara Eliya</th>\n",
              "      <td>37102</td>\n",
              "    </tr>\n",
              "    <tr>\n",
              "      <th>Dehiwala-Mount Lavinia</th>\n",
              "      <td>36838</td>\n",
              "    </tr>\n",
              "    <tr>\n",
              "      <th>Kotte</th>\n",
              "      <td>36788</td>\n",
              "    </tr>\n",
              "    <tr>\n",
              "      <th>Panadura</th>\n",
              "      <td>36726</td>\n",
              "    </tr>\n",
              "    <tr>\n",
              "      <th>Wattala</th>\n",
              "      <td>36721</td>\n",
              "    </tr>\n",
              "    <tr>\n",
              "      <th>Kaduwela</th>\n",
              "      <td>36695</td>\n",
              "    </tr>\n",
              "    <tr>\n",
              "      <th>Homagama</th>\n",
              "      <td>36638</td>\n",
              "    </tr>\n",
              "    <tr>\n",
              "      <th>Moratuwa</th>\n",
              "      <td>36416</td>\n",
              "    </tr>\n",
              "    <tr>\n",
              "      <th>Kelaniya</th>\n",
              "      <td>35970</td>\n",
              "    </tr>\n",
              "  </tbody>\n",
              "</table>\n",
              "</div><br><label><b>dtype:</b> int64</label>"
            ]
          },
          "metadata": {},
          "execution_count": 32
        }
      ],
      "source": [
        "# Number of customers in each outlet city\n",
        "df.value_counts(subset = df.outlet_city)"
      ]
    },
    {
      "cell_type": "markdown",
      "source": [
        "The code counts the number of customers in each outlet_city."
      ],
      "metadata": {
        "id": "FhNXLndo-Qkq"
      }
    },
    {
      "cell_type": "code",
      "execution_count": null,
      "metadata": {
        "id": "HohHwDzVkj7w",
        "colab": {
          "base_uri": "https://localhost:8080/",
          "height": 625
        },
        "outputId": "1984597d-47ed-499c-c3c8-c2f295bb7b02"
      },
      "outputs": [
        {
          "output_type": "display_data",
          "data": {
            "text/plain": [
              "<Figure size 640x480 with 1 Axes>"
            ],
            "image/png": "[encoded data removed]"
          },
          "metadata": {}
        }
      ],
      "source": [
        "# Create a bar graph\n",
        "df['outlet_city'].value_counts().plot(kind='bar')\n",
        "plt.title('Number of customers per city')\n",
        "plt.xlabel('Outlet City')\n",
        "plt.show()"
      ]
    },
    {
      "cell_type": "markdown",
      "source": [
        "The code plot a bar graph. This bar graph shows the number of customers for each city outlet. The highest number of customers are reported in the Colombo outlet. Lowest is reported in Kelaniya. All the outlets have above 35000 customers"
      ],
      "metadata": {
        "id": "sO5UTytkPaDO"
      }
    },
    {
      "cell_type": "code",
      "execution_count": null,
      "metadata": {
        "id": "9J_Z773pkj5L",
        "colab": {
          "base_uri": "https://localhost:8080/",
          "height": 304
        },
        "outputId": "f15d8038-1f8c-4146-a756-211ffaea2d93"
      },
      "outputs": [
        {
          "output_type": "execute_result",
          "data": {
            "text/plain": [
              "cluster_catgeory\n",
              "1    188985\n",
              "4    172439\n",
              "6    169215\n",
              "2    155064\n",
              "3     48907\n",
              "5     39540\n",
              "Name: count, dtype: int64"
            ],
            "text/html": [
              "<div>\n",
              "<style scoped>\n",
              "    .dataframe tbody tr th:only-of-type {\n",
              "        vertical-align: middle;\n",
              "    }\n",
              "\n",
              "    .dataframe tbody tr th {\n",
              "        vertical-align: top;\n",
              "    }\n",
              "\n",
              "    .dataframe thead th {\n",
              "        text-align: right;\n",
              "    }\n",
              "</style>\n",
              "<table border=\"1\" class=\"dataframe\">\n",
              "  <thead>\n",
              "    <tr style=\"text-align: right;\">\n",
              "      <th></th>\n",
              "      <th>count</th>\n",
              "    </tr>\n",
              "    <tr>\n",
              "      <th>cluster_catgeory</th>\n",
              "      <th></th>\n",
              "    </tr>\n",
              "  </thead>\n",
              "  <tbody>\n",
              "    <tr>\n",
              "      <th>1</th>\n",
              "      <td>188985</td>\n",
              "    </tr>\n",
              "    <tr>\n",
              "      <th>4</th>\n",
              "      <td>172439</td>\n",
              "    </tr>\n",
              "    <tr>\n",
              "      <th>6</th>\n",
              "      <td>169215</td>\n",
              "    </tr>\n",
              "    <tr>\n",
              "      <th>2</th>\n",
              "      <td>155064</td>\n",
              "    </tr>\n",
              "    <tr>\n",
              "      <th>3</th>\n",
              "      <td>48907</td>\n",
              "    </tr>\n",
              "    <tr>\n",
              "      <th>5</th>\n",
              "      <td>39540</td>\n",
              "    </tr>\n",
              "  </tbody>\n",
              "</table>\n",
              "</div><br><label><b>dtype:</b> int64</label>"
            ]
          },
          "metadata": {},
          "execution_count": 34
        }
      ],
      "source": [
        "# Number of customers in each category\n",
        "df.value_counts(subset = df.cluster_catgeory)"
      ]
    },
    {
      "cell_type": "markdown",
      "source": [
        "The code counts the number of customers in each cluster_catgeory."
      ],
      "metadata": {
        "id": "YuS-90Z_-rUf"
      }
    },
    {
      "cell_type": "code",
      "execution_count": null,
      "metadata": {
        "id": "6LWAirCUkj2x",
        "colab": {
          "base_uri": "https://localhost:8080/",
          "height": 467
        },
        "outputId": "c7aa1be1-27f7-4649-df31-7d6b94b3136a"
      },
      "outputs": [
        {
          "output_type": "display_data",
          "data": {
            "text/plain": [
              "<Figure size 640x480 with 1 Axes>"
            ],
            "image/png": "[encoded data removed]"
          },
          "metadata": {}
        }
      ],
      "source": [
        "# Create a bar graph\n",
        "df['cluster_catgeory'].value_counts().plot(kind='bar')\n",
        "plt.title('Number of customers per Category')\n",
        "plt.xlabel('Cluster Catgeory')\n",
        "\n",
        "# Add data labels\n",
        "counts = df['cluster_catgeory'].value_counts()\n",
        "for i, count in enumerate(counts):\n",
        "  plt.text(i, count + 1, str(count), ha = 'center', va = 'bottom')\n",
        "plt.show()"
      ]
    },
    {
      "cell_type": "markdown",
      "source": [
        "The code plot a bar graph. This bar graph shows the number of customers for each cluster category. The highest number of the customers are in the 1st category. Lowest number of customers are reported in the 5th category."
      ],
      "metadata": {
        "id": "5jDON2X-PkHZ"
      }
    },
    {
      "cell_type": "code",
      "execution_count": null,
      "metadata": {
        "id": "jzpkaAZKkj0L",
        "colab": {
          "base_uri": "https://localhost:8080/",
          "height": 428
        },
        "outputId": "07e0969a-2159-4785-bdde-b6bf91469eed"
      },
      "outputs": [
        {
          "output_type": "display_data",
          "data": {
            "text/plain": [
              "<Figure size 640x480 with 1 Axes>"
            ],
            "image/png": "[encoded data removed]"
          },
          "metadata": {}
        }
      ],
      "source": [
        "# Create pie chart\n",
        "y = df.value_counts(subset = df.cluster_catgeory)\n",
        "mylabel = df.cluster_catgeory.unique()\n",
        "\n",
        "plt.pie(y, labels = mylabel, autopct='%3.1f%%')\n",
        "plt.title('Percentage of customers per category')\n",
        "plt.show()"
      ]
    },
    {
      "cell_type": "markdown",
      "source": [
        "The code plot a pie chart.The pie chart shows the percentages of customers per cluster category. The highest percentage is reported in the 4th category which is 24.4%. The lowest percentage of customers are in the 6th category which is 5.1%."
      ],
      "metadata": {
        "id": "47dwdawbaBS1"
      }
    },
    {
      "cell_type": "markdown",
      "metadata": {
        "id": "pLvyV64u10I8"
      },
      "source": [
        "#### Descriptive measures for numerical variables"
      ]
    },
    {
      "cell_type": "code",
      "execution_count": null,
      "metadata": {
        "id": "SsrNR-m8kjxe",
        "colab": {
          "base_uri": "https://localhost:8080/",
          "height": 300
        },
        "outputId": "d9f98fcf-10f0-42a4-958f-e0eb90454fc5"
      },
      "outputs": [
        {
          "output_type": "execute_result",
          "data": {
            "text/plain": [
              "        Customer_ID   luxury_sales    fresh_sales      dry_sales  \\\n",
              "count  7.741480e+05  774150.000000  774150.000000  774150.000000   \n",
              "mean   1.038708e+07    1921.959149    4428.623964    4676.244392   \n",
              "std    2.234797e+05    1004.058439    3334.579088    3409.311590   \n",
              "min    1.000000e+07     500.000000     500.000000     500.000000   \n",
              "25%    1.019354e+07    1213.552500    1620.220000    1788.000000   \n",
              "50%    1.038708e+07    1715.280000    3356.510000    3727.760000   \n",
              "75%    1.058062e+07    2338.680000    6671.280000    7161.760000   \n",
              "max    1.077415e+07    6999.650000   13997.900000   13999.300000   \n",
              "\n",
              "       cluster_catgeory  \n",
              "count     774150.000000  \n",
              "mean           3.292101  \n",
              "std            1.867015  \n",
              "min            1.000000  \n",
              "25%            2.000000  \n",
              "50%            3.000000  \n",
              "75%            5.000000  \n",
              "max            6.000000  "
            ],
            "text/html": [
              "\n",
              "  <div id=\"df-d29d8f62-55f7-46a4-965b-bf6df6c7ba57\" class=\"colab-df-container\">\n",
              "    <div>\n",
              "<style scoped>\n",
              "    .dataframe tbody tr th:only-of-type {\n",
              "        vertical-align: middle;\n",
              "    }\n",
              "\n",
              "    .dataframe tbody tr th {\n",
              "        vertical-align: top;\n",
              "    }\n",
              "\n",
              "    .dataframe thead th {\n",
              "        text-align: right;\n",
              "    }\n",
              "</style>\n",
              "<table border=\"1\" class=\"dataframe\">\n",
              "  <thead>\n",
              "    <tr style=\"text-align: right;\">\n",
              "      <th></th>\n",
              "      <th>Customer_ID</th>\n",
              "      <th>luxury_sales</th>\n",
              "      <th>fresh_sales</th>\n",
              "      <th>dry_sales</th>\n",
              "      <th>cluster_catgeory</th>\n",
              "    </tr>\n",
              "  </thead>\n",
              "  <tbody>\n",
              "    <tr>\n",
              "      <th>count</th>\n",
              "      <td>7.741480e+05</td>\n",
              "      <td>774150.000000</td>\n",
              "      <td>774150.000000</td>\n",
              "      <td>774150.000000</td>\n",
              "      <td>774150.000000</td>\n",
              "    </tr>\n",
              "    <tr>\n",
              "      <th>mean</th>\n",
              "      <td>1.038708e+07</td>\n",
              "      <td>1921.959149</td>\n",
              "      <td>4428.623964</td>\n",
              "      <td>4676.244392</td>\n",
              "      <td>3.292101</td>\n",
              "    </tr>\n",
              "    <tr>\n",
              "      <th>std</th>\n",
              "      <td>2.234797e+05</td>\n",
              "      <td>1004.058439</td>\n",
              "      <td>3334.579088</td>\n",
              "      <td>3409.311590</td>\n",
              "      <td>1.867015</td>\n",
              "    </tr>\n",
              "    <tr>\n",
              "      <th>min</th>\n",
              "      <td>1.000000e+07</td>\n",
              "      <td>500.000000</td>\n",
              "      <td>500.000000</td>\n",
              "      <td>500.000000</td>\n",
              "      <td>1.000000</td>\n",
              "    </tr>\n",
              "    <tr>\n",
              "      <th>25%</th>\n",
              "      <td>1.019354e+07</td>\n",
              "      <td>1213.552500</td>\n",
              "      <td>1620.220000</td>\n",
              "      <td>1788.000000</td>\n",
              "      <td>2.000000</td>\n",
              "    </tr>\n",
              "    <tr>\n",
              "      <th>50%</th>\n",
              "      <td>1.038708e+07</td>\n",
              "      <td>1715.280000</td>\n",
              "      <td>3356.510000</td>\n",
              "      <td>3727.760000</td>\n",
              "      <td>3.000000</td>\n",
              "    </tr>\n",
              "    <tr>\n",
              "      <th>75%</th>\n",
              "      <td>1.058062e+07</td>\n",
              "      <td>2338.680000</td>\n",
              "      <td>6671.280000</td>\n",
              "      <td>7161.760000</td>\n",
              "      <td>5.000000</td>\n",
              "    </tr>\n",
              "    <tr>\n",
              "      <th>max</th>\n",
              "      <td>1.077415e+07</td>\n",
              "      <td>6999.650000</td>\n",
              "      <td>13997.900000</td>\n",
              "      <td>13999.300000</td>\n",
              "      <td>6.000000</td>\n",
              "    </tr>\n",
              "  </tbody>\n",
              "</table>\n",
              "</div>\n",
              "    <div class=\"colab-df-buttons\">\n",
              "\n",
              "  <div class=\"colab-df-container\">\n",
              "    <button class=\"colab-df-convert\" onclick=\"convertToInteractive('df-d29d8f62-55f7-46a4-965b-bf6df6c7ba57')\"\n",
              "            title=\"Convert this dataframe to an interactive table.\"\n",
              "            style=\"display:none;\">\n",
              "\n",
              "  <svg xmlns=\"http://www.w3.org/2000/svg\" height=\"24px\" viewBox=\"0 -960 960 960\">\n",
              "    <path d=\"M120-120v-720h720v720H120Zm60-500h600v-160H180v160Zm220 220h160v-160H400v160Zm0 220h160v-160H400v160ZM180-400h160v-160H180v160Zm440 0h160v-160H620v160ZM180-180h160v-160H180v160Zm440 0h160v-160H620v160Z\"/>\n",
              "  </svg>\n",
              "    </button>\n",
              "\n",
              "  <style>\n",
              "    .colab-df-container {\n",
              "      display:flex;\n",
              "      gap: 12px;\n",
              "    }\n",
              "\n",
              "    .colab-df-convert {\n",
              "      background-color: #E8F0FE;\n",
              "      border: none;\n",
              "      border-radius: 50%;\n",
              "      cursor: pointer;\n",
              "      display: none;\n",
              "      fill: #1967D2;\n",
              "      height: 32px;\n",
              "      padding: 0 0 0 0;\n",
              "      width: 32px;\n",
              "    }\n",
              "\n",
              "    .colab-df-convert:hover {\n",
              "      background-color: #E2EBFA;\n",
              "      box-shadow: 0px 1px 2px rgba(60, 64, 67, 0.3), 0px 1px 3px 1px rgba(60, 64, 67, 0.15);\n",
              "      fill: #174EA6;\n",
              "    }\n",
              "\n",
              "    .colab-df-buttons div {\n",
              "      margin-bottom: 4px;\n",
              "    }\n",
              "\n",
              "    [theme=dark] .colab-df-convert {\n",
              "      background-color: #3B4455;\n",
              "      fill: #D2E3FC;\n",
              "    }\n",
              "\n",
              "    [theme=dark] .colab-df-convert:hover {\n",
              "      background-color: #434B5C;\n",
              "      box-shadow: 0px 1px 3px 1px rgba(0, 0, 0, 0.15);\n",
              "      filter: drop-shadow(0px 1px 2px rgba(0, 0, 0, 0.3));\n",
              "      fill: #FFFFFF;\n",
              "    }\n",
              "  </style>\n",
              "\n",
              "    <script>\n",
              "      const buttonEl =\n",
              "        document.querySelector('#df-d29d8f62-55f7-46a4-965b-bf6df6c7ba57 button.colab-df-convert');\n",
              "      buttonEl.style.display =\n",
              "        google.colab.kernel.accessAllowed ? 'block' : 'none';\n",
              "\n",
              "      async function convertToInteractive(key) {\n",
              "        const element = document.querySelector('#df-d29d8f62-55f7-46a4-965b-bf6df6c7ba57');\n",
              "        const dataTable =\n",
              "          await google.colab.kernel.invokeFunction('convertToInteractive',\n",
              "                                                    [key], {});\n",
              "        if (!dataTable) return;\n",
              "\n",
              "        const docLinkHtml = 'Like what you see? Visit the ' +\n",
              "          '<a target=\"_blank\" href=https://colab.research.google.com/notebooks/data_table.ipynb>data table notebook</a>'\n",
              "          + ' to learn more about interactive tables.';\n",
              "        element.innerHTML = '';\n",
              "        dataTable['output_type'] = 'display_data';\n",
              "        await google.colab.output.renderOutput(dataTable, element);\n",
              "        const docLink = document.createElement('div');\n",
              "        docLink.innerHTML = docLinkHtml;\n",
              "        element.appendChild(docLink);\n",
              "      }\n",
              "    </script>\n",
              "  </div>\n",
              "\n",
              "\n",
              "<div id=\"df-35238ac2-e523-43a0-a39c-2023aa8937cd\">\n",
              "  <button class=\"colab-df-quickchart\" onclick=\"quickchart('df-35238ac2-e523-43a0-a39c-2023aa8937cd')\"\n",
              "            title=\"Suggest charts\"\n",
              "            style=\"display:none;\">\n",
              "\n",
              "<svg xmlns=\"http://www.w3.org/2000/svg\" height=\"24px\"viewBox=\"0 0 24 24\"\n",
              "     width=\"24px\">\n",
              "    <g>\n",
              "        <path d=\"M19 3H5c-1.1 0-2 .9-2 2v14c0 1.1.9 2 2 2h14c1.1 0 2-.9 2-2V5c0-1.1-.9-2-2-2zM9 17H7v-7h2v7zm4 0h-2V7h2v10zm4 0h-2v-4h2v4z\"/>\n",
              "    </g>\n",
              "</svg>\n",
              "  </button>\n",
              "\n",
              "<style>\n",
              "  .colab-df-quickchart {\n",
              "      --bg-color: #E8F0FE;\n",
              "      --fill-color: #1967D2;\n",
              "      --hover-bg-color: #E2EBFA;\n",
              "      --hover-fill-color: #174EA6;\n",
              "      --disabled-fill-color: #AAA;\n",
              "      --disabled-bg-color: #DDD;\n",
              "  }\n",
              "\n",
              "  [theme=dark] .colab-df-quickchart {\n",
              "      --bg-color: #3B4455;\n",
              "      --fill-color: #D2E3FC;\n",
              "      --hover-bg-color: #434B5C;\n",
              "      --hover-fill-color: #FFFFFF;\n",
              "      --disabled-bg-color: #3B4455;\n",
              "      --disabled-fill-color: #666;\n",
              "  }\n",
              "\n",
              "  .colab-df-quickchart {\n",
              "    background-color: var(--bg-color);\n",
              "    border: none;\n",
              "    border-radius: 50%;\n",
              "    cursor: pointer;\n",
              "    display: none;\n",
              "    fill: var(--fill-color);\n",
              "    height: 32px;\n",
              "    padding: 0;\n",
              "    width: 32px;\n",
              "  }\n",
              "\n",
              "  .colab-df-quickchart:hover {\n",
              "    background-color: var(--hover-bg-color);\n",
              "    box-shadow: 0 1px 2px rgba(60, 64, 67, 0.3), 0 1px 3px 1px rgba(60, 64, 67, 0.15);\n",
              "    fill: var(--button-hover-fill-color);\n",
              "  }\n",
              "\n",
              "  .colab-df-quickchart-complete:disabled,\n",
              "  .colab-df-quickchart-complete:disabled:hover {\n",
              "    background-color: var(--disabled-bg-color);\n",
              "    fill: var(--disabled-fill-color);\n",
              "    box-shadow: none;\n",
              "  }\n",
              "\n",
              "  .colab-df-spinner {\n",
              "    border: 2px solid var(--fill-color);\n",
              "    border-color: transparent;\n",
              "    border-bottom-color: var(--fill-color);\n",
              "    animation:\n",
              "      spin 1s steps(1) infinite;\n",
              "  }\n",
              "\n",
              "  @keyframes spin {\n",
              "    0% {\n",
              "      border-color: transparent;\n",
              "      border-bottom-color: var(--fill-color);\n",
              "      border-left-color: var(--fill-color);\n",
              "    }\n",
              "    20% {\n",
              "      border-color: transparent;\n",
              "      border-left-color: var(--fill-color);\n",
              "      border-top-color: var(--fill-color);\n",
              "    }\n",
              "    30% {\n",
              "      border-color: transparent;\n",
              "      border-left-color: var(--fill-color);\n",
              "      border-top-color: var(--fill-color);\n",
              "      border-right-color: var(--fill-color);\n",
              "    }\n",
              "    40% {\n",
              "      border-color: transparent;\n",
              "      border-right-color: var(--fill-color);\n",
              "      border-top-color: var(--fill-color);\n",
              "    }\n",
              "    60% {\n",
              "      border-color: transparent;\n",
              "      border-right-color: var(--fill-color);\n",
              "    }\n",
              "    80% {\n",
              "      border-color: transparent;\n",
              "      border-right-color: var(--fill-color);\n",
              "      border-bottom-color: var(--fill-color);\n",
              "    }\n",
              "    90% {\n",
              "      border-color: transparent;\n",
              "      border-bottom-color: var(--fill-color);\n",
              "    }\n",
              "  }\n",
              "</style>\n",
              "\n",
              "  <script>\n",
              "    async function quickchart(key) {\n",
              "      const quickchartButtonEl =\n",
              "        document.querySelector('#' + key + ' button');\n",
              "      quickchartButtonEl.disabled = true;  // To prevent multiple clicks.\n",
              "      quickchartButtonEl.classList.add('colab-df-spinner');\n",
              "      try {\n",
              "        const charts = await google.colab.kernel.invokeFunction(\n",
              "            'suggestCharts', [key], {});\n",
              "      } catch (error) {\n",
              "        console.error('Error during call to suggestCharts:', error);\n",
              "      }\n",
              "      quickchartButtonEl.classList.remove('colab-df-spinner');\n",
              "      quickchartButtonEl.classList.add('colab-df-quickchart-complete');\n",
              "    }\n",
              "    (() => {\n",
              "      let quickchartButtonEl =\n",
              "        document.querySelector('#df-35238ac2-e523-43a0-a39c-2023aa8937cd button');\n",
              "      quickchartButtonEl.style.display =\n",
              "        google.colab.kernel.accessAllowed ? 'block' : 'none';\n",
              "    })();\n",
              "  </script>\n",
              "</div>\n",
              "\n",
              "    </div>\n",
              "  </div>\n"
            ],
            "application/vnd.google.colaboratory.intrinsic+json": {
              "type": "dataframe",
              "summary": "{\n  \"name\": \"df\",\n  \"rows\": 8,\n  \"fields\": [\n    {\n      \"column\": \"Customer_ID\",\n      \"properties\": {\n        \"dtype\": \"number\",\n        \"std\": 4585579.898171471,\n        \"min\": 223479.7094747117,\n        \"max\": 10774154.0,\n        \"num_unique_values\": 8,\n        \"samples\": [\n          10387076.295189034,\n          10387077.5,\n          774148.0\n        ],\n        \"semantic_type\": \"\",\n        \"description\": \"\"\n      }\n    },\n    {\n      \"column\": \"luxury_sales\",\n      \"properties\": {\n        \"dtype\": \"number\",\n        \"std\": 272918.23025493044,\n        \"min\": 500.0,\n        \"max\": 774150.0,\n        \"num_unique_values\": 8,\n        \"samples\": [\n          1921.9591488987917,\n          1715.28,\n          774150.0\n        ],\n        \"semantic_type\": \"\",\n        \"description\": \"\"\n      }\n    },\n    {\n      \"column\": \"fresh_sales\",\n      \"properties\": {\n        \"dtype\": \"number\",\n        \"std\": 272022.47853756754,\n        \"min\": 500.0,\n        \"max\": 774150.0,\n        \"num_unique_values\": 8,\n        \"samples\": [\n          4428.623963870052,\n          3356.51,\n          774150.0\n        ],\n        \"semantic_type\": \"\",\n        \"description\": \"\"\n      }\n    },\n    {\n      \"column\": \"dry_sales\",\n      \"properties\": {\n        \"dtype\": \"number\",\n        \"std\": 271953.98198264145,\n        \"min\": 500.0,\n        \"max\": 774150.0,\n        \"num_unique_values\": 8,\n        \"samples\": [\n          4676.24439162953,\n          3727.76,\n          774150.0\n        ],\n        \"semantic_type\": \"\",\n        \"description\": \"\"\n      }\n    },\n    {\n      \"column\": \"cluster_catgeory\",\n      \"properties\": {\n        \"dtype\": \"number\",\n        \"std\": 273702.2381284305,\n        \"min\": 1.0,\n        \"max\": 774150.0,\n        \"num_unique_values\": 8,\n        \"samples\": [\n          3.2921010140153717,\n          3.0,\n          774150.0\n        ],\n        \"semantic_type\": \"\",\n        \"description\": \"\"\n      }\n    }\n  ]\n}"
            }
          },
          "metadata": {},
          "execution_count": 37
        }
      ],
      "source": [
        "# Check the statistical analysis\n",
        "df[['luxury_sales', 'fresh_sales', 'dry_sales']].describe()"
      ]
    },
    {
      "cell_type": "markdown",
      "source": [
        "This code get summery statistics for luxury_sales, fresh_sales and dry_sales."
      ],
      "metadata": {
        "id": "prMV-LiOC4gr"
      }
    },
    {
      "cell_type": "code",
      "execution_count": null,
      "metadata": {
        "id": "IBXTUfFUkju8",
        "colab": {
          "base_uri": "https://localhost:8080/",
          "height": 1000
        },
        "outputId": "d47af635-49a1-4538-ea31-915b0df9356c"
      },
      "outputs": [],
      "source": [
        "Numerical_columns = ('luxury_sales', 'fresh_sales', 'dry_sales')\n",
        "\n",
        "# Generate histograms\n",
        "for col in Numerical_columns:\n",
        "  col = px.histogram(df, x = col)\n",
        "  col.show()"
      ]
    },
    {
      "cell_type": "markdown",
      "source": [
        "This code plot a histogram for luxury_sales, fresh_sales and dry_sales. By Looking at these histograms, All three histograms are right skewed. Also most values are concentrated on the left side of the histogram."
      ],
      "metadata": {
        "id": "mS2NXSd6aHd4"
      }
    },
    {
      "cell_type": "code",
      "execution_count": null,
      "metadata": {
        "id": "966VzJ9skjsa",
        "colab": {
          "base_uri": "https://localhost:8080/",
          "height": 1000
        },
        "outputId": "e365e705-436b-4dd9-eefc-ea402831b86e"
      },
      "outputs": [],
      "source": [
        "Numerical_columns = ('luxury_sales', 'fresh_sales', 'dry_sales')\n",
        "\n",
        "# Generate box plots\n",
        "for col in Numerical_columns:\n",
        "  col = px.box(df, x = col)\n",
        "  col.show()"
      ]
    },
    {
      "cell_type": "markdown",
      "source": [
        "- This code plot a boxplot for luxury_sales, fresh_sales and dry_sales.\n",
        "\n",
        "- luxury sales : Q1 is 1213.55 this means 25% of the luxury sales are below this value. The median 1715.28 which is the Q2 and Q3 value is 2,338.69. It is possible to have higher values in this so it is not considered as outliers.\n",
        "\n",
        "- Fresh sales: Q1 is 1620.22 in the fresh sales and median (Q2) is 3356.51 and the Q3 value is 6671.28. There are no extreme values so there are no outliers.\n",
        "\n",
        "- Dry sales : Q1 is 1788 in the dry sales. median (Q2) value is 3727.76 and the Q3 value is 7161.76. There are no outliers in the dry sales."
      ],
      "metadata": {
        "id": "vNfBZHUdaNtF"
      }
    },
    {
      "cell_type": "markdown",
      "metadata": {
        "id": "UQoifaDl7boQ"
      },
      "source": [
        "### Multivariate Analysis"
      ]
    },
    {
      "cell_type": "markdown",
      "metadata": {
        "id": "IFStg_967fcl"
      },
      "source": [
        "#### Categorical - Categorical"
      ]
    },
    {
      "cell_type": "code",
      "execution_count": null,
      "metadata": {
        "colab": {
          "base_uri": "https://localhost:8080/",
          "height": 708
        },
        "id": "YlObRSOV6arn",
        "outputId": "9192af44-64dc-4cea-d333-568ee59c4eac"
      },
      "outputs": [
        {
          "output_type": "execute_result",
          "data": {
            "text/plain": [
              "cluster_catgeory            1      2     3      4     5      6\n",
              "outlet_city                                                   \n",
              "Batticaloa              18960      2  4901      0     2  17147\n",
              "Colombo                 19023      0  4959      3     2  17046\n",
              "Dehiwala-Mount Lavinia      1  15648     0  17283  3902      4\n",
              "Galle                   19034      2  4932      1     3  17037\n",
              "Gampaha                 18763      1  4833      0     1  16654\n",
              "Homagama                    2  15464     0  17220  3951      1\n",
              "Jaffna                  18822      2  4906      3     2  16940\n",
              "Kaduwela                    1  15478     1  17360  3853      2\n",
              "Kalmunai                18853      3  4831      1     1  17022\n",
              "Kandy                   18898      0  4843      2     0  16791\n",
              "Katunayake              19080      2  4818      0     2  16746\n",
              "Kelaniya                    1  15364     0  16802  3800      3\n",
              "Kotte                       2  15500     1  17252  4029      4\n",
              "Moratuwa                    2  15387     0  17104  3922      1\n",
              "Negombo                 18850      2  4965      0     2  16884\n",
              "Nuwara Eliya                1  15442     2  17574  4082      1\n",
              "Panadura                    1  15591     1  17272  3858      3\n",
              "Peliyagoda                  0  15730     2  17295  4123      1\n",
              "Trincomalee             18688      0  4908      2     3  16927\n",
              "Wattala                     3  15446     4  17265  4002      1"
            ],
            "text/html": [
              "\n",
              "  <div id=\"df-3b7fe297-bd04-4357-b43c-55c5b38452d7\" class=\"colab-df-container\">\n",
              "    <div>\n",
              "<style scoped>\n",
              "    .dataframe tbody tr th:only-of-type {\n",
              "        vertical-align: middle;\n",
              "    }\n",
              "\n",
              "    .dataframe tbody tr th {\n",
              "        vertical-align: top;\n",
              "    }\n",
              "\n",
              "    .dataframe thead th {\n",
              "        text-align: right;\n",
              "    }\n",
              "</style>\n",
              "<table border=\"1\" class=\"dataframe\">\n",
              "  <thead>\n",
              "    <tr style=\"text-align: right;\">\n",
              "      <th>cluster_catgeory</th>\n",
              "      <th>1</th>\n",
              "      <th>2</th>\n",
              "      <th>3</th>\n",
              "      <th>4</th>\n",
              "      <th>5</th>\n",
              "      <th>6</th>\n",
              "    </tr>\n",
              "    <tr>\n",
              "      <th>outlet_city</th>\n",
              "      <th></th>\n",
              "      <th></th>\n",
              "      <th></th>\n",
              "      <th></th>\n",
              "      <th></th>\n",
              "      <th></th>\n",
              "    </tr>\n",
              "  </thead>\n",
              "  <tbody>\n",
              "    <tr>\n",
              "      <th>Batticaloa</th>\n",
              "      <td>18960</td>\n",
              "      <td>2</td>\n",
              "      <td>4901</td>\n",
              "      <td>0</td>\n",
              "      <td>2</td>\n",
              "      <td>17147</td>\n",
              "    </tr>\n",
              "    <tr>\n",
              "      <th>Colombo</th>\n",
              "      <td>19023</td>\n",
              "      <td>0</td>\n",
              "      <td>4959</td>\n",
              "      <td>3</td>\n",
              "      <td>2</td>\n",
              "      <td>17046</td>\n",
              "    </tr>\n",
              "    <tr>\n",
              "      <th>Dehiwala-Mount Lavinia</th>\n",
              "      <td>1</td>\n",
              "      <td>15648</td>\n",
              "      <td>0</td>\n",
              "      <td>17283</td>\n",
              "      <td>3902</td>\n",
              "      <td>4</td>\n",
              "    </tr>\n",
              "    <tr>\n",
              "      <th>Galle</th>\n",
              "      <td>19034</td>\n",
              "      <td>2</td>\n",
              "      <td>4932</td>\n",
              "      <td>1</td>\n",
              "      <td>3</td>\n",
              "      <td>17037</td>\n",
              "    </tr>\n",
              "    <tr>\n",
              "      <th>Gampaha</th>\n",
              "      <td>18763</td>\n",
              "      <td>1</td>\n",
              "      <td>4833</td>\n",
              "      <td>0</td>\n",
              "      <td>1</td>\n",
              "      <td>16654</td>\n",
              "    </tr>\n",
              "    <tr>\n",
              "      <th>Homagama</th>\n",
              "      <td>2</td>\n",
              "      <td>15464</td>\n",
              "      <td>0</td>\n",
              "      <td>17220</td>\n",
              "      <td>3951</td>\n",
              "      <td>1</td>\n",
              "    </tr>\n",
              "    <tr>\n",
              "      <th>Jaffna</th>\n",
              "      <td>18822</td>\n",
              "      <td>2</td>\n",
              "      <td>4906</td>\n",
              "      <td>3</td>\n",
              "      <td>2</td>\n",
              "      <td>16940</td>\n",
              "    </tr>\n",
              "    <tr>\n",
              "      <th>Kaduwela</th>\n",
              "      <td>1</td>\n",
              "      <td>15478</td>\n",
              "      <td>1</td>\n",
              "      <td>17360</td>\n",
              "      <td>3853</td>\n",
              "      <td>2</td>\n",
              "    </tr>\n",
              "    <tr>\n",
              "      <th>Kalmunai</th>\n",
              "      <td>18853</td>\n",
              "      <td>3</td>\n",
              "      <td>4831</td>\n",
              "      <td>1</td>\n",
              "      <td>1</td>\n",
              "      <td>17022</td>\n",
              "    </tr>\n",
              "    <tr>\n",
              "      <th>Kandy</th>\n",
              "      <td>18898</td>\n",
              "      <td>0</td>\n",
              "      <td>4843</td>\n",
              "      <td>2</td>\n",
              "      <td>0</td>\n",
              "      <td>16791</td>\n",
              "    </tr>\n",
              "    <tr>\n",
              "      <th>Katunayake</th>\n",
              "      <td>19080</td>\n",
              "      <td>2</td>\n",
              "      <td>4818</td>\n",
              "      <td>0</td>\n",
              "      <td>2</td>\n",
              "      <td>16746</td>\n",
              "    </tr>\n",
              "    <tr>\n",
              "      <th>Kelaniya</th>\n",
              "      <td>1</td>\n",
              "      <td>15364</td>\n",
              "      <td>0</td>\n",
              "      <td>16802</td>\n",
              "      <td>3800</td>\n",
              "      <td>3</td>\n",
              "    </tr>\n",
              "    <tr>\n",
              "      <th>Kotte</th>\n",
              "      <td>2</td>\n",
              "      <td>15500</td>\n",
              "      <td>1</td>\n",
              "      <td>17252</td>\n",
              "      <td>4029</td>\n",
              "      <td>4</td>\n",
              "    </tr>\n",
              "    <tr>\n",
              "      <th>Moratuwa</th>\n",
              "      <td>2</td>\n",
              "      <td>15387</td>\n",
              "      <td>0</td>\n",
              "      <td>17104</td>\n",
              "      <td>3922</td>\n",
              "      <td>1</td>\n",
              "    </tr>\n",
              "    <tr>\n",
              "      <th>Negombo</th>\n",
              "      <td>18850</td>\n",
              "      <td>2</td>\n",
              "      <td>4965</td>\n",
              "      <td>0</td>\n",
              "      <td>2</td>\n",
              "      <td>16884</td>\n",
              "    </tr>\n",
              "    <tr>\n",
              "      <th>Nuwara Eliya</th>\n",
              "      <td>1</td>\n",
              "      <td>15442</td>\n",
              "      <td>2</td>\n",
              "      <td>17574</td>\n",
              "      <td>4082</td>\n",
              "      <td>1</td>\n",
              "    </tr>\n",
              "    <tr>\n",
              "      <th>Panadura</th>\n",
              "      <td>1</td>\n",
              "      <td>15591</td>\n",
              "      <td>1</td>\n",
              "      <td>17272</td>\n",
              "      <td>3858</td>\n",
              "      <td>3</td>\n",
              "    </tr>\n",
              "    <tr>\n",
              "      <th>Peliyagoda</th>\n",
              "      <td>0</td>\n",
              "      <td>15730</td>\n",
              "      <td>2</td>\n",
              "      <td>17295</td>\n",
              "      <td>4123</td>\n",
              "      <td>1</td>\n",
              "    </tr>\n",
              "    <tr>\n",
              "      <th>Trincomalee</th>\n",
              "      <td>18688</td>\n",
              "      <td>0</td>\n",
              "      <td>4908</td>\n",
              "      <td>2</td>\n",
              "      <td>3</td>\n",
              "      <td>16927</td>\n",
              "    </tr>\n",
              "    <tr>\n",
              "      <th>Wattala</th>\n",
              "      <td>3</td>\n",
              "      <td>15446</td>\n",
              "      <td>4</td>\n",
              "      <td>17265</td>\n",
              "      <td>4002</td>\n",
              "      <td>1</td>\n",
              "    </tr>\n",
              "  </tbody>\n",
              "</table>\n",
              "</div>\n",
              "    <div class=\"colab-df-buttons\">\n",
              "\n",
              "  <div class=\"colab-df-container\">\n",
              "    <button class=\"colab-df-convert\" onclick=\"convertToInteractive('df-3b7fe297-bd04-4357-b43c-55c5b38452d7')\"\n",
              "            title=\"Convert this dataframe to an interactive table.\"\n",
              "            style=\"display:none;\">\n",
              "\n",
              "  <svg xmlns=\"http://www.w3.org/2000/svg\" height=\"24px\" viewBox=\"0 -960 960 960\">\n",
              "    <path d=\"M120-120v-720h720v720H120Zm60-500h600v-160H180v160Zm220 220h160v-160H400v160Zm0 220h160v-160H400v160ZM180-400h160v-160H180v160Zm440 0h160v-160H620v160ZM180-180h160v-160H180v160Zm440 0h160v-160H620v160Z\"/>\n",
              "  </svg>\n",
              "    </button>\n",
              "\n",
              "  <style>\n",
              "    .colab-df-container {\n",
              "      display:flex;\n",
              "      gap: 12px;\n",
              "    }\n",
              "\n",
              "    .colab-df-convert {\n",
              "      background-color: #E8F0FE;\n",
              "      border: none;\n",
              "      border-radius: 50%;\n",
              "      cursor: pointer;\n",
              "      display: none;\n",
              "      fill: #1967D2;\n",
              "      height: 32px;\n",
              "      padding: 0 0 0 0;\n",
              "      width: 32px;\n",
              "    }\n",
              "\n",
              "    .colab-df-convert:hover {\n",
              "      background-color: #E2EBFA;\n",
              "      box-shadow: 0px 1px 2px rgba(60, 64, 67, 0.3), 0px 1px 3px 1px rgba(60, 64, 67, 0.15);\n",
              "      fill: #174EA6;\n",
              "    }\n",
              "\n",
              "    .colab-df-buttons div {\n",
              "      margin-bottom: 4px;\n",
              "    }\n",
              "\n",
              "    [theme=dark] .colab-df-convert {\n",
              "      background-color: #3B4455;\n",
              "      fill: #D2E3FC;\n",
              "    }\n",
              "\n",
              "    [theme=dark] .colab-df-convert:hover {\n",
              "      background-color: #434B5C;\n",
              "      box-shadow: 0px 1px 3px 1px rgba(0, 0, 0, 0.15);\n",
              "      filter: drop-shadow(0px 1px 2px rgba(0, 0, 0, 0.3));\n",
              "      fill: #FFFFFF;\n",
              "    }\n",
              "  </style>\n",
              "\n",
              "    <script>\n",
              "      const buttonEl =\n",
              "        document.querySelector('#df-3b7fe297-bd04-4357-b43c-55c5b38452d7 button.colab-df-convert');\n",
              "      buttonEl.style.display =\n",
              "        google.colab.kernel.accessAllowed ? 'block' : 'none';\n",
              "\n",
              "      async function convertToInteractive(key) {\n",
              "        const element = document.querySelector('#df-3b7fe297-bd04-4357-b43c-55c5b38452d7');\n",
              "        const dataTable =\n",
              "          await google.colab.kernel.invokeFunction('convertToInteractive',\n",
              "                                                    [key], {});\n",
              "        if (!dataTable) return;\n",
              "\n",
              "        const docLinkHtml = 'Like what you see? Visit the ' +\n",
              "          '<a target=\"_blank\" href=https://colab.research.google.com/notebooks/data_table.ipynb>data table notebook</a>'\n",
              "          + ' to learn more about interactive tables.';\n",
              "        element.innerHTML = '';\n",
              "        dataTable['output_type'] = 'display_data';\n",
              "        await google.colab.output.renderOutput(dataTable, element);\n",
              "        const docLink = document.createElement('div');\n",
              "        docLink.innerHTML = docLinkHtml;\n",
              "        element.appendChild(docLink);\n",
              "      }\n",
              "    </script>\n",
              "  </div>\n",
              "\n",
              "\n",
              "<div id=\"df-01906cf2-0ef8-464a-9c90-9154132b9c5c\">\n",
              "  <button class=\"colab-df-quickchart\" onclick=\"quickchart('df-01906cf2-0ef8-464a-9c90-9154132b9c5c')\"\n",
              "            title=\"Suggest charts\"\n",
              "            style=\"display:none;\">\n",
              "\n",
              "<svg xmlns=\"http://www.w3.org/2000/svg\" height=\"24px\"viewBox=\"0 0 24 24\"\n",
              "     width=\"24px\">\n",
              "    <g>\n",
              "        <path d=\"M19 3H5c-1.1 0-2 .9-2 2v14c0 1.1.9 2 2 2h14c1.1 0 2-.9 2-2V5c0-1.1-.9-2-2-2zM9 17H7v-7h2v7zm4 0h-2V7h2v10zm4 0h-2v-4h2v4z\"/>\n",
              "    </g>\n",
              "</svg>\n",
              "  </button>\n",
              "\n",
              "<style>\n",
              "  .colab-df-quickchart {\n",
              "      --bg-color: #E8F0FE;\n",
              "      --fill-color: #1967D2;\n",
              "      --hover-bg-color: #E2EBFA;\n",
              "      --hover-fill-color: #174EA6;\n",
              "      --disabled-fill-color: #AAA;\n",
              "      --disabled-bg-color: #DDD;\n",
              "  }\n",
              "\n",
              "  [theme=dark] .colab-df-quickchart {\n",
              "      --bg-color: #3B4455;\n",
              "      --fill-color: #D2E3FC;\n",
              "      --hover-bg-color: #434B5C;\n",
              "      --hover-fill-color: #FFFFFF;\n",
              "      --disabled-bg-color: #3B4455;\n",
              "      --disabled-fill-color: #666;\n",
              "  }\n",
              "\n",
              "  .colab-df-quickchart {\n",
              "    background-color: var(--bg-color);\n",
              "    border: none;\n",
              "    border-radius: 50%;\n",
              "    cursor: pointer;\n",
              "    display: none;\n",
              "    fill: var(--fill-color);\n",
              "    height: 32px;\n",
              "    padding: 0;\n",
              "    width: 32px;\n",
              "  }\n",
              "\n",
              "  .colab-df-quickchart:hover {\n",
              "    background-color: var(--hover-bg-color);\n",
              "    box-shadow: 0 1px 2px rgba(60, 64, 67, 0.3), 0 1px 3px 1px rgba(60, 64, 67, 0.15);\n",
              "    fill: var(--button-hover-fill-color);\n",
              "  }\n",
              "\n",
              "  .colab-df-quickchart-complete:disabled,\n",
              "  .colab-df-quickchart-complete:disabled:hover {\n",
              "    background-color: var(--disabled-bg-color);\n",
              "    fill: var(--disabled-fill-color);\n",
              "    box-shadow: none;\n",
              "  }\n",
              "\n",
              "  .colab-df-spinner {\n",
              "    border: 2px solid var(--fill-color);\n",
              "    border-color: transparent;\n",
              "    border-bottom-color: var(--fill-color);\n",
              "    animation:\n",
              "      spin 1s steps(1) infinite;\n",
              "  }\n",
              "\n",
              "  @keyframes spin {\n",
              "    0% {\n",
              "      border-color: transparent;\n",
              "      border-bottom-color: var(--fill-color);\n",
              "      border-left-color: var(--fill-color);\n",
              "    }\n",
              "    20% {\n",
              "      border-color: transparent;\n",
              "      border-left-color: var(--fill-color);\n",
              "      border-top-color: var(--fill-color);\n",
              "    }\n",
              "    30% {\n",
              "      border-color: transparent;\n",
              "      border-left-color: var(--fill-color);\n",
              "      border-top-color: var(--fill-color);\n",
              "      border-right-color: var(--fill-color);\n",
              "    }\n",
              "    40% {\n",
              "      border-color: transparent;\n",
              "      border-right-color: var(--fill-color);\n",
              "      border-top-color: var(--fill-color);\n",
              "    }\n",
              "    60% {\n",
              "      border-color: transparent;\n",
              "      border-right-color: var(--fill-color);\n",
              "    }\n",
              "    80% {\n",
              "      border-color: transparent;\n",
              "      border-right-color: var(--fill-color);\n",
              "      border-bottom-color: var(--fill-color);\n",
              "    }\n",
              "    90% {\n",
              "      border-color: transparent;\n",
              "      border-bottom-color: var(--fill-color);\n",
              "    }\n",
              "  }\n",
              "</style>\n",
              "\n",
              "  <script>\n",
              "    async function quickchart(key) {\n",
              "      const quickchartButtonEl =\n",
              "        document.querySelector('#' + key + ' button');\n",
              "      quickchartButtonEl.disabled = true;  // To prevent multiple clicks.\n",
              "      quickchartButtonEl.classList.add('colab-df-spinner');\n",
              "      try {\n",
              "        const charts = await google.colab.kernel.invokeFunction(\n",
              "            'suggestCharts', [key], {});\n",
              "      } catch (error) {\n",
              "        console.error('Error during call to suggestCharts:', error);\n",
              "      }\n",
              "      quickchartButtonEl.classList.remove('colab-df-spinner');\n",
              "      quickchartButtonEl.classList.add('colab-df-quickchart-complete');\n",
              "    }\n",
              "    (() => {\n",
              "      let quickchartButtonEl =\n",
              "        document.querySelector('#df-01906cf2-0ef8-464a-9c90-9154132b9c5c button');\n",
              "      quickchartButtonEl.style.display =\n",
              "        google.colab.kernel.accessAllowed ? 'block' : 'none';\n",
              "    })();\n",
              "  </script>\n",
              "</div>\n",
              "\n",
              "    </div>\n",
              "  </div>\n"
            ],
            "application/vnd.google.colaboratory.intrinsic+json": {
              "type": "dataframe",
              "summary": "{\n  \"name\": \"pd\",\n  \"rows\": 20,\n  \"fields\": [\n    {\n      \"column\": \"outlet_city\",\n      \"properties\": {\n        \"dtype\": \"string\",\n        \"num_unique_values\": 20,\n        \"samples\": [\n          \"Batticaloa\",\n          \"Peliyagoda\",\n          \"Nuwara Eliya\"\n        ],\n        \"semantic_type\": \"\",\n        \"description\": \"\"\n      }\n    },\n    {\n      \"column\": 1,\n      \"properties\": {\n        \"dtype\": \"number\",\n        \"std\": 9693,\n        \"min\": 0,\n        \"max\": 19080,\n        \"num_unique_values\": 14,\n        \"samples\": [\n          19080,\n          0,\n          18960\n        ],\n        \"semantic_type\": \"\",\n        \"description\": \"\"\n      }\n    },\n    {\n      \"column\": 2,\n      \"properties\": {\n        \"dtype\": \"number\",\n        \"std\": 7953,\n        \"min\": 0,\n        \"max\": 15730,\n        \"num_unique_values\": 14,\n        \"samples\": [\n          15387,\n          15591,\n          2\n        ],\n        \"semantic_type\": \"\",\n        \"description\": \"\"\n      }\n    },\n    {\n      \"column\": 3,\n      \"properties\": {\n        \"dtype\": \"number\",\n        \"std\": 2508,\n        \"min\": 0,\n        \"max\": 4965,\n        \"num_unique_values\": 14,\n        \"samples\": [\n          4818,\n          2,\n          4901\n        ],\n        \"semantic_type\": \"\",\n        \"description\": \"\"\n      }\n    },\n    {\n      \"column\": 4,\n      \"properties\": {\n        \"dtype\": \"number\",\n        \"std\": 8845,\n        \"min\": 0,\n        \"max\": 17574,\n        \"num_unique_values\": 14,\n        \"samples\": [\n          17104,\n          17272,\n          0\n        ],\n        \"semantic_type\": \"\",\n        \"description\": \"\"\n      }\n    },\n    {\n      \"column\": 5,\n      \"properties\": {\n        \"dtype\": \"number\",\n        \"std\": 2027,\n        \"min\": 0,\n        \"max\": 4123,\n        \"num_unique_values\": 14,\n        \"samples\": [\n          3922,\n          3858,\n          2\n        ],\n        \"semantic_type\": \"\",\n        \"description\": \"\"\n      }\n    },\n    {\n      \"column\": 6,\n      \"properties\": {\n        \"dtype\": \"number\",\n        \"std\": 8679,\n        \"min\": 1,\n        \"max\": 17147,\n        \"num_unique_values\": 14,\n        \"samples\": [\n          16791,\n          3,\n          17147\n        ],\n        \"semantic_type\": \"\",\n        \"description\": \"\"\n      }\n    }\n  ]\n}"
            }
          },
          "metadata": {},
          "execution_count": 40
        }
      ],
      "source": [
        "# Create a crosstab using the crosstab method\n",
        "pd.crosstab(index= df['outlet_city'], columns= df['cluster_catgeory'])"
      ]
    },
    {
      "cell_type": "markdown",
      "source": [
        "The code creates a crosstabulation table showing the frequency distribution of two categorical variables."
      ],
      "metadata": {
        "id": "gGP7YmiRGJKl"
      }
    },
    {
      "cell_type": "markdown",
      "metadata": {
        "id": "VJFVPCsO7042"
      },
      "source": [
        "#### Categorical - Numerical"
      ]
    },
    {
      "cell_type": "code",
      "execution_count": null,
      "metadata": {
        "colab": {
          "base_uri": "https://localhost:8080/",
          "height": 797
        },
        "id": "4I_0LAzA6abD",
        "outputId": "86bec413-7e37-48f1-c78c-5a509cdf0f82"
      },
      "outputs": [
        {
          "output_type": "stream",
          "name": "stderr",
          "text": [
            "<ipython-input-41-e447125513e9>:2: FutureWarning:\n",
            "\n",
            "The provided callable <function mean at 0x7dbe75d993a0> is currently using DataFrameGroupBy.mean. In a future version of pandas, the provided callable will be used directly. To keep current behavior pass the string \"mean\" instead.\n",
            "\n"
          ]
        },
        {
          "output_type": "execute_result",
          "data": {
            "text/plain": [
              "                        luxury_sales\n",
              "outlet_city                         \n",
              "Batticaloa               2127.883152\n",
              "Colombo                  2124.772409\n",
              "Dehiwala-Mount Lavinia   1692.755487\n",
              "Galle                    2127.075014\n",
              "Gampaha                  2116.046320\n",
              "Homagama                 1698.885078\n",
              "Jaffna                   2124.764573\n",
              "Kaduwela                 1698.253797\n",
              "Kalmunai                 2114.897637\n",
              "Kandy                    2123.463779\n",
              "Katunayake               2114.212498\n",
              "Kelaniya                 1691.716597\n",
              "Kotte                    1698.310632\n",
              "Moratuwa                 1698.895165\n",
              "Negombo                  2128.758364\n",
              "Nuwara Eliya             1709.307375\n",
              "Panadura                 1698.627556\n",
              "Peliyagoda               1703.396001\n",
              "Trincomalee              2126.881936\n",
              "Wattala                  1700.541153"
            ],
            "text/html": [
              "\n",
              "  <div id=\"df-e825ff27-e0ef-441a-8aa4-cfd4995a2f0b\" class=\"colab-df-container\">\n",
              "    <div>\n",
              "<style scoped>\n",
              "    .dataframe tbody tr th:only-of-type {\n",
              "        vertical-align: middle;\n",
              "    }\n",
              "\n",
              "    .dataframe tbody tr th {\n",
              "        vertical-align: top;\n",
              "    }\n",
              "\n",
              "    .dataframe thead th {\n",
              "        text-align: right;\n",
              "    }\n",
              "</style>\n",
              "<table border=\"1\" class=\"dataframe\">\n",
              "  <thead>\n",
              "    <tr style=\"text-align: right;\">\n",
              "      <th></th>\n",
              "      <th>luxury_sales</th>\n",
              "    </tr>\n",
              "    <tr>\n",
              "      <th>outlet_city</th>\n",
              "      <th></th>\n",
              "    </tr>\n",
              "  </thead>\n",
              "  <tbody>\n",
              "    <tr>\n",
              "      <th>Batticaloa</th>\n",
              "      <td>2127.883152</td>\n",
              "    </tr>\n",
              "    <tr>\n",
              "      <th>Colombo</th>\n",
              "      <td>2124.772409</td>\n",
              "    </tr>\n",
              "    <tr>\n",
              "      <th>Dehiwala-Mount Lavinia</th>\n",
              "      <td>1692.755487</td>\n",
              "    </tr>\n",
              "    <tr>\n",
              "      <th>Galle</th>\n",
              "      <td>2127.075014</td>\n",
              "    </tr>\n",
              "    <tr>\n",
              "      <th>Gampaha</th>\n",
              "      <td>2116.046320</td>\n",
              "    </tr>\n",
              "    <tr>\n",
              "      <th>Homagama</th>\n",
              "      <td>1698.885078</td>\n",
              "    </tr>\n",
              "    <tr>\n",
              "      <th>Jaffna</th>\n",
              "      <td>2124.764573</td>\n",
              "    </tr>\n",
              "    <tr>\n",
              "      <th>Kaduwela</th>\n",
              "      <td>1698.253797</td>\n",
              "    </tr>\n",
              "    <tr>\n",
              "      <th>Kalmunai</th>\n",
              "      <td>2114.897637</td>\n",
              "    </tr>\n",
              "    <tr>\n",
              "      <th>Kandy</th>\n",
              "      <td>2123.463779</td>\n",
              "    </tr>\n",
              "    <tr>\n",
              "      <th>Katunayake</th>\n",
              "      <td>2114.212498</td>\n",
              "    </tr>\n",
              "    <tr>\n",
              "      <th>Kelaniya</th>\n",
              "      <td>1691.716597</td>\n",
              "    </tr>\n",
              "    <tr>\n",
              "      <th>Kotte</th>\n",
              "      <td>1698.310632</td>\n",
              "    </tr>\n",
              "    <tr>\n",
              "      <th>Moratuwa</th>\n",
              "      <td>1698.895165</td>\n",
              "    </tr>\n",
              "    <tr>\n",
              "      <th>Negombo</th>\n",
              "      <td>2128.758364</td>\n",
              "    </tr>\n",
              "    <tr>\n",
              "      <th>Nuwara Eliya</th>\n",
              "      <td>1709.307375</td>\n",
              "    </tr>\n",
              "    <tr>\n",
              "      <th>Panadura</th>\n",
              "      <td>1698.627556</td>\n",
              "    </tr>\n",
              "    <tr>\n",
              "      <th>Peliyagoda</th>\n",
              "      <td>1703.396001</td>\n",
              "    </tr>\n",
              "    <tr>\n",
              "      <th>Trincomalee</th>\n",
              "      <td>2126.881936</td>\n",
              "    </tr>\n",
              "    <tr>\n",
              "      <th>Wattala</th>\n",
              "      <td>1700.541153</td>\n",
              "    </tr>\n",
              "  </tbody>\n",
              "</table>\n",
              "</div>\n",
              "    <div class=\"colab-df-buttons\">\n",
              "\n",
              "  <div class=\"colab-df-container\">\n",
              "    <button class=\"colab-df-convert\" onclick=\"convertToInteractive('df-e825ff27-e0ef-441a-8aa4-cfd4995a2f0b')\"\n",
              "            title=\"Convert this dataframe to an interactive table.\"\n",
              "            style=\"display:none;\">\n",
              "\n",
              "  <svg xmlns=\"http://www.w3.org/2000/svg\" height=\"24px\" viewBox=\"0 -960 960 960\">\n",
              "    <path d=\"M120-120v-720h720v720H120Zm60-500h600v-160H180v160Zm220 220h160v-160H400v160Zm0 220h160v-160H400v160ZM180-400h160v-160H180v160Zm440 0h160v-160H620v160ZM180-180h160v-160H180v160Zm440 0h160v-160H620v160Z\"/>\n",
              "  </svg>\n",
              "    </button>\n",
              "\n",
              "  <style>\n",
              "    .colab-df-container {\n",
              "      display:flex;\n",
              "      gap: 12px;\n",
              "    }\n",
              "\n",
              "    .colab-df-convert {\n",
              "      background-color: #E8F0FE;\n",
              "      border: none;\n",
              "      border-radius: 50%;\n",
              "      cursor: pointer;\n",
              "      display: none;\n",
              "      fill: #1967D2;\n",
              "      height: 32px;\n",
              "      padding: 0 0 0 0;\n",
              "      width: 32px;\n",
              "    }\n",
              "\n",
              "    .colab-df-convert:hover {\n",
              "      background-color: #E2EBFA;\n",
              "      box-shadow: 0px 1px 2px rgba(60, 64, 67, 0.3), 0px 1px 3px 1px rgba(60, 64, 67, 0.15);\n",
              "      fill: #174EA6;\n",
              "    }\n",
              "\n",
              "    .colab-df-buttons div {\n",
              "      margin-bottom: 4px;\n",
              "    }\n",
              "\n",
              "    [theme=dark] .colab-df-convert {\n",
              "      background-color: #3B4455;\n",
              "      fill: #D2E3FC;\n",
              "    }\n",
              "\n",
              "    [theme=dark] .colab-df-convert:hover {\n",
              "      background-color: #434B5C;\n",
              "      box-shadow: 0px 1px 3px 1px rgba(0, 0, 0, 0.15);\n",
              "      filter: drop-shadow(0px 1px 2px rgba(0, 0, 0, 0.3));\n",
              "      fill: #FFFFFF;\n",
              "    }\n",
              "  </style>\n",
              "\n",
              "    <script>\n",
              "      const buttonEl =\n",
              "        document.querySelector('#df-e825ff27-e0ef-441a-8aa4-cfd4995a2f0b button.colab-df-convert');\n",
              "      buttonEl.style.display =\n",
              "        google.colab.kernel.accessAllowed ? 'block' : 'none';\n",
              "\n",
              "      async function convertToInteractive(key) {\n",
              "        const element = document.querySelector('#df-e825ff27-e0ef-441a-8aa4-cfd4995a2f0b');\n",
              "        const dataTable =\n",
              "          await google.colab.kernel.invokeFunction('convertToInteractive',\n",
              "                                                    [key], {});\n",
              "        if (!dataTable) return;\n",
              "\n",
              "        const docLinkHtml = 'Like what you see? Visit the ' +\n",
              "          '<a target=\"_blank\" href=https://colab.research.google.com/notebooks/data_table.ipynb>data table notebook</a>'\n",
              "          + ' to learn more about interactive tables.';\n",
              "        element.innerHTML = '';\n",
              "        dataTable['output_type'] = 'display_data';\n",
              "        await google.colab.output.renderOutput(dataTable, element);\n",
              "        const docLink = document.createElement('div');\n",
              "        docLink.innerHTML = docLinkHtml;\n",
              "        element.appendChild(docLink);\n",
              "      }\n",
              "    </script>\n",
              "  </div>\n",
              "\n",
              "\n",
              "<div id=\"df-9f56fe87-aa9a-43ef-940e-6e5d4ecf889f\">\n",
              "  <button class=\"colab-df-quickchart\" onclick=\"quickchart('df-9f56fe87-aa9a-43ef-940e-6e5d4ecf889f')\"\n",
              "            title=\"Suggest charts\"\n",
              "            style=\"display:none;\">\n",
              "\n",
              "<svg xmlns=\"http://www.w3.org/2000/svg\" height=\"24px\"viewBox=\"0 0 24 24\"\n",
              "     width=\"24px\">\n",
              "    <g>\n",
              "        <path d=\"M19 3H5c-1.1 0-2 .9-2 2v14c0 1.1.9 2 2 2h14c1.1 0 2-.9 2-2V5c0-1.1-.9-2-2-2zM9 17H7v-7h2v7zm4 0h-2V7h2v10zm4 0h-2v-4h2v4z\"/>\n",
              "    </g>\n",
              "</svg>\n",
              "  </button>\n",
              "\n",
              "<style>\n",
              "  .colab-df-quickchart {\n",
              "      --bg-color: #E8F0FE;\n",
              "      --fill-color: #1967D2;\n",
              "      --hover-bg-color: #E2EBFA;\n",
              "      --hover-fill-color: #174EA6;\n",
              "      --disabled-fill-color: #AAA;\n",
              "      --disabled-bg-color: #DDD;\n",
              "  }\n",
              "\n",
              "  [theme=dark] .colab-df-quickchart {\n",
              "      --bg-color: #3B4455;\n",
              "      --fill-color: #D2E3FC;\n",
              "      --hover-bg-color: #434B5C;\n",
              "      --hover-fill-color: #FFFFFF;\n",
              "      --disabled-bg-color: #3B4455;\n",
              "      --disabled-fill-color: #666;\n",
              "  }\n",
              "\n",
              "  .colab-df-quickchart {\n",
              "    background-color: var(--bg-color);\n",
              "    border: none;\n",
              "    border-radius: 50%;\n",
              "    cursor: pointer;\n",
              "    display: none;\n",
              "    fill: var(--fill-color);\n",
              "    height: 32px;\n",
              "    padding: 0;\n",
              "    width: 32px;\n",
              "  }\n",
              "\n",
              "  .colab-df-quickchart:hover {\n",
              "    background-color: var(--hover-bg-color);\n",
              "    box-shadow: 0 1px 2px rgba(60, 64, 67, 0.3), 0 1px 3px 1px rgba(60, 64, 67, 0.15);\n",
              "    fill: var(--button-hover-fill-color);\n",
              "  }\n",
              "\n",
              "  .colab-df-quickchart-complete:disabled,\n",
              "  .colab-df-quickchart-complete:disabled:hover {\n",
              "    background-color: var(--disabled-bg-color);\n",
              "    fill: var(--disabled-fill-color);\n",
              "    box-shadow: none;\n",
              "  }\n",
              "\n",
              "  .colab-df-spinner {\n",
              "    border: 2px solid var(--fill-color);\n",
              "    border-color: transparent;\n",
              "    border-bottom-color: var(--fill-color);\n",
              "    animation:\n",
              "      spin 1s steps(1) infinite;\n",
              "  }\n",
              "\n",
              "  @keyframes spin {\n",
              "    0% {\n",
              "      border-color: transparent;\n",
              "      border-bottom-color: var(--fill-color);\n",
              "      border-left-color: var(--fill-color);\n",
              "    }\n",
              "    20% {\n",
              "      border-color: transparent;\n",
              "      border-left-color: var(--fill-color);\n",
              "      border-top-color: var(--fill-color);\n",
              "    }\n",
              "    30% {\n",
              "      border-color: transparent;\n",
              "      border-left-color: var(--fill-color);\n",
              "      border-top-color: var(--fill-color);\n",
              "      border-right-color: var(--fill-color);\n",
              "    }\n",
              "    40% {\n",
              "      border-color: transparent;\n",
              "      border-right-color: var(--fill-color);\n",
              "      border-top-color: var(--fill-color);\n",
              "    }\n",
              "    60% {\n",
              "      border-color: transparent;\n",
              "      border-right-color: var(--fill-color);\n",
              "    }\n",
              "    80% {\n",
              "      border-color: transparent;\n",
              "      border-right-color: var(--fill-color);\n",
              "      border-bottom-color: var(--fill-color);\n",
              "    }\n",
              "    90% {\n",
              "      border-color: transparent;\n",
              "      border-bottom-color: var(--fill-color);\n",
              "    }\n",
              "  }\n",
              "</style>\n",
              "\n",
              "  <script>\n",
              "    async function quickchart(key) {\n",
              "      const quickchartButtonEl =\n",
              "        document.querySelector('#' + key + ' button');\n",
              "      quickchartButtonEl.disabled = true;  // To prevent multiple clicks.\n",
              "      quickchartButtonEl.classList.add('colab-df-spinner');\n",
              "      try {\n",
              "        const charts = await google.colab.kernel.invokeFunction(\n",
              "            'suggestCharts', [key], {});\n",
              "      } catch (error) {\n",
              "        console.error('Error during call to suggestCharts:', error);\n",
              "      }\n",
              "      quickchartButtonEl.classList.remove('colab-df-spinner');\n",
              "      quickchartButtonEl.classList.add('colab-df-quickchart-complete');\n",
              "    }\n",
              "    (() => {\n",
              "      let quickchartButtonEl =\n",
              "        document.querySelector('#df-9f56fe87-aa9a-43ef-940e-6e5d4ecf889f button');\n",
              "      quickchartButtonEl.style.display =\n",
              "        google.colab.kernel.accessAllowed ? 'block' : 'none';\n",
              "    })();\n",
              "  </script>\n",
              "</div>\n",
              "\n",
              "    </div>\n",
              "  </div>\n"
            ],
            "application/vnd.google.colaboratory.intrinsic+json": {
              "type": "dataframe",
              "summary": "{\n  \"name\": \"pd\",\n  \"rows\": 20,\n  \"fields\": [\n    {\n      \"column\": \"outlet_city\",\n      \"properties\": {\n        \"dtype\": \"string\",\n        \"num_unique_values\": 20,\n        \"samples\": [\n          \"Batticaloa\",\n          \"Peliyagoda\",\n          \"Nuwara Eliya\"\n        ],\n        \"semantic_type\": \"\",\n        \"description\": \"\"\n      }\n    },\n    {\n      \"column\": \"luxury_sales\",\n      \"properties\": {\n        \"dtype\": \"number\",\n        \"std\": 217.46964399201974,\n        \"min\": 1691.7165971643035,\n        \"max\": 2128.758363511289,\n        \"num_unique_values\": 20,\n        \"samples\": [\n          2127.8831517604604,\n          1703.396000915184,\n          1709.3073750741198\n        ],\n        \"semantic_type\": \"\",\n        \"description\": \"\"\n      }\n    }\n  ]\n}"
            }
          },
          "metadata": {},
          "execution_count": 41
        }
      ],
      "source": [
        "# Create a pivot table\n",
        "pd.pivot_table(df, values='luxury_sales', index='outlet_city', aggfunc=np.mean)"
      ]
    },
    {
      "cell_type": "markdown",
      "source": [
        "The code creates a crosstabulation table showing the frequency distribution of outlet_city and luxury_sales."
      ],
      "metadata": {
        "id": "1x_luVw_GSJZ"
      }
    },
    {
      "cell_type": "code",
      "execution_count": null,
      "metadata": {
        "colab": {
          "base_uri": "https://localhost:8080/",
          "height": 797
        },
        "id": "xsQYui2l6aXc",
        "outputId": "5ebd7731-d5c6-4da8-d478-25572e1b10dc"
      },
      "outputs": [
        {
          "output_type": "stream",
          "name": "stderr",
          "text": [
            "<ipython-input-42-ff1a281651d0>:2: FutureWarning:\n",
            "\n",
            "The provided callable <function mean at 0x7dbe75d993a0> is currently using DataFrameGroupBy.mean. In a future version of pandas, the provided callable will be used directly. To keep current behavior pass the string \"mean\" instead.\n",
            "\n"
          ]
        },
        {
          "output_type": "execute_result",
          "data": {
            "text/plain": [
              "                        fresh_sales\n",
              "outlet_city                        \n",
              "Batticaloa              5026.099227\n",
              "Colombo                 5016.934510\n",
              "Dehiwala-Mount Lavinia  3791.493913\n",
              "Galle                   5011.892306\n",
              "Gampaha                 4983.613918\n",
              "Homagama                3783.255898\n",
              "Jaffna                  5019.588055\n",
              "Kaduwela                3785.195923\n",
              "Kalmunai                5009.388040\n",
              "Kandy                   5012.999225\n",
              "Katunayake              4968.743455\n",
              "Kelaniya                3801.449728\n",
              "Kotte                   3771.959392\n",
              "Moratuwa                3791.357948\n",
              "Negombo                 5010.886880\n",
              "Nuwara Eliya            3771.656468\n",
              "Panadura                3799.638637\n",
              "Peliyagoda              3799.200152\n",
              "Trincomalee             5012.369693\n",
              "Wattala                 3773.008532"
            ],
            "text/html": [
              "\n",
              "  <div id=\"df-7e42bc4d-8c1a-4256-9413-e97f1b05a713\" class=\"colab-df-container\">\n",
              "    <div>\n",
              "<style scoped>\n",
              "    .dataframe tbody tr th:only-of-type {\n",
              "        vertical-align: middle;\n",
              "    }\n",
              "\n",
              "    .dataframe tbody tr th {\n",
              "        vertical-align: top;\n",
              "    }\n",
              "\n",
              "    .dataframe thead th {\n",
              "        text-align: right;\n",
              "    }\n",
              "</style>\n",
              "<table border=\"1\" class=\"dataframe\">\n",
              "  <thead>\n",
              "    <tr style=\"text-align: right;\">\n",
              "      <th></th>\n",
              "      <th>fresh_sales</th>\n",
              "    </tr>\n",
              "    <tr>\n",
              "      <th>outlet_city</th>\n",
              "      <th></th>\n",
              "    </tr>\n",
              "  </thead>\n",
              "  <tbody>\n",
              "    <tr>\n",
              "      <th>Batticaloa</th>\n",
              "      <td>5026.099227</td>\n",
              "    </tr>\n",
              "    <tr>\n",
              "      <th>Colombo</th>\n",
              "      <td>5016.934510</td>\n",
              "    </tr>\n",
              "    <tr>\n",
              "      <th>Dehiwala-Mount Lavinia</th>\n",
              "      <td>3791.493913</td>\n",
              "    </tr>\n",
              "    <tr>\n",
              "      <th>Galle</th>\n",
              "      <td>5011.892306</td>\n",
              "    </tr>\n",
              "    <tr>\n",
              "      <th>Gampaha</th>\n",
              "      <td>4983.613918</td>\n",
              "    </tr>\n",
              "    <tr>\n",
              "      <th>Homagama</th>\n",
              "      <td>3783.255898</td>\n",
              "    </tr>\n",
              "    <tr>\n",
              "      <th>Jaffna</th>\n",
              "      <td>5019.588055</td>\n",
              "    </tr>\n",
              "    <tr>\n",
              "      <th>Kaduwela</th>\n",
              "      <td>3785.195923</td>\n",
              "    </tr>\n",
              "    <tr>\n",
              "      <th>Kalmunai</th>\n",
              "      <td>5009.388040</td>\n",
              "    </tr>\n",
              "    <tr>\n",
              "      <th>Kandy</th>\n",
              "      <td>5012.999225</td>\n",
              "    </tr>\n",
              "    <tr>\n",
              "      <th>Katunayake</th>\n",
              "      <td>4968.743455</td>\n",
              "    </tr>\n",
              "    <tr>\n",
              "      <th>Kelaniya</th>\n",
              "      <td>3801.449728</td>\n",
              "    </tr>\n",
              "    <tr>\n",
              "      <th>Kotte</th>\n",
              "      <td>3771.959392</td>\n",
              "    </tr>\n",
              "    <tr>\n",
              "      <th>Moratuwa</th>\n",
              "      <td>3791.357948</td>\n",
              "    </tr>\n",
              "    <tr>\n",
              "      <th>Negombo</th>\n",
              "      <td>5010.886880</td>\n",
              "    </tr>\n",
              "    <tr>\n",
              "      <th>Nuwara Eliya</th>\n",
              "      <td>3771.656468</td>\n",
              "    </tr>\n",
              "    <tr>\n",
              "      <th>Panadura</th>\n",
              "      <td>3799.638637</td>\n",
              "    </tr>\n",
              "    <tr>\n",
              "      <th>Peliyagoda</th>\n",
              "      <td>3799.200152</td>\n",
              "    </tr>\n",
              "    <tr>\n",
              "      <th>Trincomalee</th>\n",
              "      <td>5012.369693</td>\n",
              "    </tr>\n",
              "    <tr>\n",
              "      <th>Wattala</th>\n",
              "      <td>3773.008532</td>\n",
              "    </tr>\n",
              "  </tbody>\n",
              "</table>\n",
              "</div>\n",
              "    <div class=\"colab-df-buttons\">\n",
              "\n",
              "  <div class=\"colab-df-container\">\n",
              "    <button class=\"colab-df-convert\" onclick=\"convertToInteractive('df-7e42bc4d-8c1a-4256-9413-e97f1b05a713')\"\n",
              "            title=\"Convert this dataframe to an interactive table.\"\n",
              "            style=\"display:none;\">\n",
              "\n",
              "  <svg xmlns=\"http://www.w3.org/2000/svg\" height=\"24px\" viewBox=\"0 -960 960 960\">\n",
              "    <path d=\"M120-120v-720h720v720H120Zm60-500h600v-160H180v160Zm220 220h160v-160H400v160Zm0 220h160v-160H400v160ZM180-400h160v-160H180v160Zm440 0h160v-160H620v160ZM180-180h160v-160H180v160Zm440 0h160v-160H620v160Z\"/>\n",
              "  </svg>\n",
              "    </button>\n",
              "\n",
              "  <style>\n",
              "    .colab-df-container {\n",
              "      display:flex;\n",
              "      gap: 12px;\n",
              "    }\n",
              "\n",
              "    .colab-df-convert {\n",
              "      background-color: #E8F0FE;\n",
              "      border: none;\n",
              "      border-radius: 50%;\n",
              "      cursor: pointer;\n",
              "      display: none;\n",
              "      fill: #1967D2;\n",
              "      height: 32px;\n",
              "      padding: 0 0 0 0;\n",
              "      width: 32px;\n",
              "    }\n",
              "\n",
              "    .colab-df-convert:hover {\n",
              "      background-color: #E2EBFA;\n",
              "      box-shadow: 0px 1px 2px rgba(60, 64, 67, 0.3), 0px 1px 3px 1px rgba(60, 64, 67, 0.15);\n",
              "      fill: #174EA6;\n",
              "    }\n",
              "\n",
              "    .colab-df-buttons div {\n",
              "      margin-bottom: 4px;\n",
              "    }\n",
              "\n",
              "    [theme=dark] .colab-df-convert {\n",
              "      background-color: #3B4455;\n",
              "      fill: #D2E3FC;\n",
              "    }\n",
              "\n",
              "    [theme=dark] .colab-df-convert:hover {\n",
              "      background-color: #434B5C;\n",
              "      box-shadow: 0px 1px 3px 1px rgba(0, 0, 0, 0.15);\n",
              "      filter: drop-shadow(0px 1px 2px rgba(0, 0, 0, 0.3));\n",
              "      fill: #FFFFFF;\n",
              "    }\n",
              "  </style>\n",
              "\n",
              "    <script>\n",
              "      const buttonEl =\n",
              "        document.querySelector('#df-7e42bc4d-8c1a-4256-9413-e97f1b05a713 button.colab-df-convert');\n",
              "      buttonEl.style.display =\n",
              "        google.colab.kernel.accessAllowed ? 'block' : 'none';\n",
              "\n",
              "      async function convertToInteractive(key) {\n",
              "        const element = document.querySelector('#df-7e42bc4d-8c1a-4256-9413-e97f1b05a713');\n",
              "        const dataTable =\n",
              "          await google.colab.kernel.invokeFunction('convertToInteractive',\n",
              "                                                    [key], {});\n",
              "        if (!dataTable) return;\n",
              "\n",
              "        const docLinkHtml = 'Like what you see? Visit the ' +\n",
              "          '<a target=\"_blank\" href=https://colab.research.google.com/notebooks/data_table.ipynb>data table notebook</a>'\n",
              "          + ' to learn more about interactive tables.';\n",
              "        element.innerHTML = '';\n",
              "        dataTable['output_type'] = 'display_data';\n",
              "        await google.colab.output.renderOutput(dataTable, element);\n",
              "        const docLink = document.createElement('div');\n",
              "        docLink.innerHTML = docLinkHtml;\n",
              "        element.appendChild(docLink);\n",
              "      }\n",
              "    </script>\n",
              "  </div>\n",
              "\n",
              "\n",
              "<div id=\"df-a803011d-4c1d-439f-843c-29e0033a23a6\">\n",
              "  <button class=\"colab-df-quickchart\" onclick=\"quickchart('df-a803011d-4c1d-439f-843c-29e0033a23a6')\"\n",
              "            title=\"Suggest charts\"\n",
              "            style=\"display:none;\">\n",
              "\n",
              "<svg xmlns=\"http://www.w3.org/2000/svg\" height=\"24px\"viewBox=\"0 0 24 24\"\n",
              "     width=\"24px\">\n",
              "    <g>\n",
              "        <path d=\"M19 3H5c-1.1 0-2 .9-2 2v14c0 1.1.9 2 2 2h14c1.1 0 2-.9 2-2V5c0-1.1-.9-2-2-2zM9 17H7v-7h2v7zm4 0h-2V7h2v10zm4 0h-2v-4h2v4z\"/>\n",
              "    </g>\n",
              "</svg>\n",
              "  </button>\n",
              "\n",
              "<style>\n",
              "  .colab-df-quickchart {\n",
              "      --bg-color: #E8F0FE;\n",
              "      --fill-color: #1967D2;\n",
              "      --hover-bg-color: #E2EBFA;\n",
              "      --hover-fill-color: #174EA6;\n",
              "      --disabled-fill-color: #AAA;\n",
              "      --disabled-bg-color: #DDD;\n",
              "  }\n",
              "\n",
              "  [theme=dark] .colab-df-quickchart {\n",
              "      --bg-color: #3B4455;\n",
              "      --fill-color: #D2E3FC;\n",
              "      --hover-bg-color: #434B5C;\n",
              "      --hover-fill-color: #FFFFFF;\n",
              "      --disabled-bg-color: #3B4455;\n",
              "      --disabled-fill-color: #666;\n",
              "  }\n",
              "\n",
              "  .colab-df-quickchart {\n",
              "    background-color: var(--bg-color);\n",
              "    border: none;\n",
              "    border-radius: 50%;\n",
              "    cursor: pointer;\n",
              "    display: none;\n",
              "    fill: var(--fill-color);\n",
              "    height: 32px;\n",
              "    padding: 0;\n",
              "    width: 32px;\n",
              "  }\n",
              "\n",
              "  .colab-df-quickchart:hover {\n",
              "    background-color: var(--hover-bg-color);\n",
              "    box-shadow: 0 1px 2px rgba(60, 64, 67, 0.3), 0 1px 3px 1px rgba(60, 64, 67, 0.15);\n",
              "    fill: var(--button-hover-fill-color);\n",
              "  }\n",
              "\n",
              "  .colab-df-quickchart-complete:disabled,\n",
              "  .colab-df-quickchart-complete:disabled:hover {\n",
              "    background-color: var(--disabled-bg-color);\n",
              "    fill: var(--disabled-fill-color);\n",
              "    box-shadow: none;\n",
              "  }\n",
              "\n",
              "  .colab-df-spinner {\n",
              "    border: 2px solid var(--fill-color);\n",
              "    border-color: transparent;\n",
              "    border-bottom-color: var(--fill-color);\n",
              "    animation:\n",
              "      spin 1s steps(1) infinite;\n",
              "  }\n",
              "\n",
              "  @keyframes spin {\n",
              "    0% {\n",
              "      border-color: transparent;\n",
              "      border-bottom-color: var(--fill-color);\n",
              "      border-left-color: var(--fill-color);\n",
              "    }\n",
              "    20% {\n",
              "      border-color: transparent;\n",
              "      border-left-color: var(--fill-color);\n",
              "      border-top-color: var(--fill-color);\n",
              "    }\n",
              "    30% {\n",
              "      border-color: transparent;\n",
              "      border-left-color: var(--fill-color);\n",
              "      border-top-color: var(--fill-color);\n",
              "      border-right-color: var(--fill-color);\n",
              "    }\n",
              "    40% {\n",
              "      border-color: transparent;\n",
              "      border-right-color: var(--fill-color);\n",
              "      border-top-color: var(--fill-color);\n",
              "    }\n",
              "    60% {\n",
              "      border-color: transparent;\n",
              "      border-right-color: var(--fill-color);\n",
              "    }\n",
              "    80% {\n",
              "      border-color: transparent;\n",
              "      border-right-color: var(--fill-color);\n",
              "      border-bottom-color: var(--fill-color);\n",
              "    }\n",
              "    90% {\n",
              "      border-color: transparent;\n",
              "      border-bottom-color: var(--fill-color);\n",
              "    }\n",
              "  }\n",
              "</style>\n",
              "\n",
              "  <script>\n",
              "    async function quickchart(key) {\n",
              "      const quickchartButtonEl =\n",
              "        document.querySelector('#' + key + ' button');\n",
              "      quickchartButtonEl.disabled = true;  // To prevent multiple clicks.\n",
              "      quickchartButtonEl.classList.add('colab-df-spinner');\n",
              "      try {\n",
              "        const charts = await google.colab.kernel.invokeFunction(\n",
              "            'suggestCharts', [key], {});\n",
              "      } catch (error) {\n",
              "        console.error('Error during call to suggestCharts:', error);\n",
              "      }\n",
              "      quickchartButtonEl.classList.remove('colab-df-spinner');\n",
              "      quickchartButtonEl.classList.add('colab-df-quickchart-complete');\n",
              "    }\n",
              "    (() => {\n",
              "      let quickchartButtonEl =\n",
              "        document.querySelector('#df-a803011d-4c1d-439f-843c-29e0033a23a6 button');\n",
              "      quickchartButtonEl.style.display =\n",
              "        google.colab.kernel.accessAllowed ? 'block' : 'none';\n",
              "    })();\n",
              "  </script>\n",
              "</div>\n",
              "\n",
              "    </div>\n",
              "  </div>\n"
            ],
            "application/vnd.google.colaboratory.intrinsic+json": {
              "type": "dataframe",
              "summary": "{\n  \"name\": \"pd\",\n  \"rows\": 20,\n  \"fields\": [\n    {\n      \"column\": \"outlet_city\",\n      \"properties\": {\n        \"dtype\": \"string\",\n        \"num_unique_values\": 20,\n        \"samples\": [\n          \"Batticaloa\",\n          \"Peliyagoda\",\n          \"Nuwara Eliya\"\n        ],\n        \"semantic_type\": \"\",\n        \"description\": \"\"\n      }\n    },\n    {\n      \"column\": \"fresh_sales\",\n      \"properties\": {\n        \"dtype\": \"number\",\n        \"std\": 626.2342601482475,\n        \"min\": 3771.656467575872,\n        \"max\": 5026.099226811665,\n        \"num_unique_values\": 20,\n        \"samples\": [\n          5026.099226811665,\n          3799.2001515437005,\n          3771.656467575872\n        ],\n        \"semantic_type\": \"\",\n        \"description\": \"\"\n      }\n    }\n  ]\n}"
            }
          },
          "metadata": {},
          "execution_count": 42
        }
      ],
      "source": [
        "# Create a pivot table\n",
        "pd.pivot_table(df, values='fresh_sales', index='outlet_city', aggfunc=np.mean)"
      ]
    },
    {
      "cell_type": "markdown",
      "source": [
        "The code creates a crosstabulation table showing the frequency distribution of outlet_city and fresh_sales."
      ],
      "metadata": {
        "id": "MwuOFgQFG2mh"
      }
    },
    {
      "cell_type": "code",
      "execution_count": null,
      "metadata": {
        "colab": {
          "base_uri": "https://localhost:8080/",
          "height": 797
        },
        "id": "VoUXXH_k6aUw",
        "outputId": "41134e41-8264-4f0d-b44c-a8e73576b8f6"
      },
      "outputs": [
        {
          "output_type": "stream",
          "name": "stderr",
          "text": [
            "<ipython-input-43-7fb66274deda>:2: FutureWarning:\n",
            "\n",
            "The provided callable <function mean at 0x7dbe75d993a0> is currently using DataFrameGroupBy.mean. In a future version of pandas, the provided callable will be used directly. To keep current behavior pass the string \"mean\" instead.\n",
            "\n"
          ]
        },
        {
          "output_type": "execute_result",
          "data": {
            "text/plain": [
              "                          dry_sales\n",
              "outlet_city                        \n",
              "Batticaloa              5053.983633\n",
              "Colombo                 5041.190141\n",
              "Dehiwala-Mount Lavinia  4245.510302\n",
              "Galle                   5068.087483\n",
              "Gampaha                 5062.512726\n",
              "Homagama                4257.238822\n",
              "Jaffna                  5043.786248\n",
              "Kaduwela                4279.756572\n",
              "Kalmunai                5039.285445\n",
              "Kandy                   5064.294759\n",
              "Katunayake              5077.631184\n",
              "Kelaniya                4237.727815\n",
              "Kotte                   4248.422243\n",
              "Moratuwa                4262.213341\n",
              "Negombo                 5056.663191\n",
              "Nuwara Eliya            4287.413545\n",
              "Panadura                4256.492271\n",
              "Peliyagoda              4242.013494\n",
              "Trincomalee             5037.804113\n",
              "Wattala                 4249.682963"
            ],
            "text/html": [
              "\n",
              "  <div id=\"df-550db918-3791-49dd-94d2-b9118cb4728d\" class=\"colab-df-container\">\n",
              "    <div>\n",
              "<style scoped>\n",
              "    .dataframe tbody tr th:only-of-type {\n",
              "        vertical-align: middle;\n",
              "    }\n",
              "\n",
              "    .dataframe tbody tr th {\n",
              "        vertical-align: top;\n",
              "    }\n",
              "\n",
              "    .dataframe thead th {\n",
              "        text-align: right;\n",
              "    }\n",
              "</style>\n",
              "<table border=\"1\" class=\"dataframe\">\n",
              "  <thead>\n",
              "    <tr style=\"text-align: right;\">\n",
              "      <th></th>\n",
              "      <th>dry_sales</th>\n",
              "    </tr>\n",
              "    <tr>\n",
              "      <th>outlet_city</th>\n",
              "      <th></th>\n",
              "    </tr>\n",
              "  </thead>\n",
              "  <tbody>\n",
              "    <tr>\n",
              "      <th>Batticaloa</th>\n",
              "      <td>5053.983633</td>\n",
              "    </tr>\n",
              "    <tr>\n",
              "      <th>Colombo</th>\n",
              "      <td>5041.190141</td>\n",
              "    </tr>\n",
              "    <tr>\n",
              "      <th>Dehiwala-Mount Lavinia</th>\n",
              "      <td>4245.510302</td>\n",
              "    </tr>\n",
              "    <tr>\n",
              "      <th>Galle</th>\n",
              "      <td>5068.087483</td>\n",
              "    </tr>\n",
              "    <tr>\n",
              "      <th>Gampaha</th>\n",
              "      <td>5062.512726</td>\n",
              "    </tr>\n",
              "    <tr>\n",
              "      <th>Homagama</th>\n",
              "      <td>4257.238822</td>\n",
              "    </tr>\n",
              "    <tr>\n",
              "      <th>Jaffna</th>\n",
              "      <td>5043.786248</td>\n",
              "    </tr>\n",
              "    <tr>\n",
              "      <th>Kaduwela</th>\n",
              "      <td>4279.756572</td>\n",
              "    </tr>\n",
              "    <tr>\n",
              "      <th>Kalmunai</th>\n",
              "      <td>5039.285445</td>\n",
              "    </tr>\n",
              "    <tr>\n",
              "      <th>Kandy</th>\n",
              "      <td>5064.294759</td>\n",
              "    </tr>\n",
              "    <tr>\n",
              "      <th>Katunayake</th>\n",
              "      <td>5077.631184</td>\n",
              "    </tr>\n",
              "    <tr>\n",
              "      <th>Kelaniya</th>\n",
              "      <td>4237.727815</td>\n",
              "    </tr>\n",
              "    <tr>\n",
              "      <th>Kotte</th>\n",
              "      <td>4248.422243</td>\n",
              "    </tr>\n",
              "    <tr>\n",
              "      <th>Moratuwa</th>\n",
              "      <td>4262.213341</td>\n",
              "    </tr>\n",
              "    <tr>\n",
              "      <th>Negombo</th>\n",
              "      <td>5056.663191</td>\n",
              "    </tr>\n",
              "    <tr>\n",
              "      <th>Nuwara Eliya</th>\n",
              "      <td>4287.413545</td>\n",
              "    </tr>\n",
              "    <tr>\n",
              "      <th>Panadura</th>\n",
              "      <td>4256.492271</td>\n",
              "    </tr>\n",
              "    <tr>\n",
              "      <th>Peliyagoda</th>\n",
              "      <td>4242.013494</td>\n",
              "    </tr>\n",
              "    <tr>\n",
              "      <th>Trincomalee</th>\n",
              "      <td>5037.804113</td>\n",
              "    </tr>\n",
              "    <tr>\n",
              "      <th>Wattala</th>\n",
              "      <td>4249.682963</td>\n",
              "    </tr>\n",
              "  </tbody>\n",
              "</table>\n",
              "</div>\n",
              "    <div class=\"colab-df-buttons\">\n",
              "\n",
              "  <div class=\"colab-df-container\">\n",
              "    <button class=\"colab-df-convert\" onclick=\"convertToInteractive('df-550db918-3791-49dd-94d2-b9118cb4728d')\"\n",
              "            title=\"Convert this dataframe to an interactive table.\"\n",
              "            style=\"display:none;\">\n",
              "\n",
              "  <svg xmlns=\"http://www.w3.org/2000/svg\" height=\"24px\" viewBox=\"0 -960 960 960\">\n",
              "    <path d=\"M120-120v-720h720v720H120Zm60-500h600v-160H180v160Zm220 220h160v-160H400v160Zm0 220h160v-160H400v160ZM180-400h160v-160H180v160Zm440 0h160v-160H620v160ZM180-180h160v-160H180v160Zm440 0h160v-160H620v160Z\"/>\n",
              "  </svg>\n",
              "    </button>\n",
              "\n",
              "  <style>\n",
              "    .colab-df-container {\n",
              "      display:flex;\n",
              "      gap: 12px;\n",
              "    }\n",
              "\n",
              "    .colab-df-convert {\n",
              "      background-color: #E8F0FE;\n",
              "      border: none;\n",
              "      border-radius: 50%;\n",
              "      cursor: pointer;\n",
              "      display: none;\n",
              "      fill: #1967D2;\n",
              "      height: 32px;\n",
              "      padding: 0 0 0 0;\n",
              "      width: 32px;\n",
              "    }\n",
              "\n",
              "    .colab-df-convert:hover {\n",
              "      background-color: #E2EBFA;\n",
              "      box-shadow: 0px 1px 2px rgba(60, 64, 67, 0.3), 0px 1px 3px 1px rgba(60, 64, 67, 0.15);\n",
              "      fill: #174EA6;\n",
              "    }\n",
              "\n",
              "    .colab-df-buttons div {\n",
              "      margin-bottom: 4px;\n",
              "    }\n",
              "\n",
              "    [theme=dark] .colab-df-convert {\n",
              "      background-color: #3B4455;\n",
              "      fill: #D2E3FC;\n",
              "    }\n",
              "\n",
              "    [theme=dark] .colab-df-convert:hover {\n",
              "      background-color: #434B5C;\n",
              "      box-shadow: 0px 1px 3px 1px rgba(0, 0, 0, 0.15);\n",
              "      filter: drop-shadow(0px 1px 2px rgba(0, 0, 0, 0.3));\n",
              "      fill: #FFFFFF;\n",
              "    }\n",
              "  </style>\n",
              "\n",
              "    <script>\n",
              "      const buttonEl =\n",
              "        document.querySelector('#df-550db918-3791-49dd-94d2-b9118cb4728d button.colab-df-convert');\n",
              "      buttonEl.style.display =\n",
              "        google.colab.kernel.accessAllowed ? 'block' : 'none';\n",
              "\n",
              "      async function convertToInteractive(key) {\n",
              "        const element = document.querySelector('#df-550db918-3791-49dd-94d2-b9118cb4728d');\n",
              "        const dataTable =\n",
              "          await google.colab.kernel.invokeFunction('convertToInteractive',\n",
              "                                                    [key], {});\n",
              "        if (!dataTable) return;\n",
              "\n",
              "        const docLinkHtml = 'Like what you see? Visit the ' +\n",
              "          '<a target=\"_blank\" href=https://colab.research.google.com/notebooks/data_table.ipynb>data table notebook</a>'\n",
              "          + ' to learn more about interactive tables.';\n",
              "        element.innerHTML = '';\n",
              "        dataTable['output_type'] = 'display_data';\n",
              "        await google.colab.output.renderOutput(dataTable, element);\n",
              "        const docLink = document.createElement('div');\n",
              "        docLink.innerHTML = docLinkHtml;\n",
              "        element.appendChild(docLink);\n",
              "      }\n",
              "    </script>\n",
              "  </div>\n",
              "\n",
              "\n",
              "<div id=\"df-0bb4a5bb-654a-42d0-be3d-177c5bb903a4\">\n",
              "  <button class=\"colab-df-quickchart\" onclick=\"quickchart('df-0bb4a5bb-654a-42d0-be3d-177c5bb903a4')\"\n",
              "            title=\"Suggest charts\"\n",
              "            style=\"display:none;\">\n",
              "\n",
              "<svg xmlns=\"http://www.w3.org/2000/svg\" height=\"24px\"viewBox=\"0 0 24 24\"\n",
              "     width=\"24px\">\n",
              "    <g>\n",
              "        <path d=\"M19 3H5c-1.1 0-2 .9-2 2v14c0 1.1.9 2 2 2h14c1.1 0 2-.9 2-2V5c0-1.1-.9-2-2-2zM9 17H7v-7h2v7zm4 0h-2V7h2v10zm4 0h-2v-4h2v4z\"/>\n",
              "    </g>\n",
              "</svg>\n",
              "  </button>\n",
              "\n",
              "<style>\n",
              "  .colab-df-quickchart {\n",
              "      --bg-color: #E8F0FE;\n",
              "      --fill-color: #1967D2;\n",
              "      --hover-bg-color: #E2EBFA;\n",
              "      --hover-fill-color: #174EA6;\n",
              "      --disabled-fill-color: #AAA;\n",
              "      --disabled-bg-color: #DDD;\n",
              "  }\n",
              "\n",
              "  [theme=dark] .colab-df-quickchart {\n",
              "      --bg-color: #3B4455;\n",
              "      --fill-color: #D2E3FC;\n",
              "      --hover-bg-color: #434B5C;\n",
              "      --hover-fill-color: #FFFFFF;\n",
              "      --disabled-bg-color: #3B4455;\n",
              "      --disabled-fill-color: #666;\n",
              "  }\n",
              "\n",
              "  .colab-df-quickchart {\n",
              "    background-color: var(--bg-color);\n",
              "    border: none;\n",
              "    border-radius: 50%;\n",
              "    cursor: pointer;\n",
              "    display: none;\n",
              "    fill: var(--fill-color);\n",
              "    height: 32px;\n",
              "    padding: 0;\n",
              "    width: 32px;\n",
              "  }\n",
              "\n",
              "  .colab-df-quickchart:hover {\n",
              "    background-color: var(--hover-bg-color);\n",
              "    box-shadow: 0 1px 2px rgba(60, 64, 67, 0.3), 0 1px 3px 1px rgba(60, 64, 67, 0.15);\n",
              "    fill: var(--button-hover-fill-color);\n",
              "  }\n",
              "\n",
              "  .colab-df-quickchart-complete:disabled,\n",
              "  .colab-df-quickchart-complete:disabled:hover {\n",
              "    background-color: var(--disabled-bg-color);\n",
              "    fill: var(--disabled-fill-color);\n",
              "    box-shadow: none;\n",
              "  }\n",
              "\n",
              "  .colab-df-spinner {\n",
              "    border: 2px solid var(--fill-color);\n",
              "    border-color: transparent;\n",
              "    border-bottom-color: var(--fill-color);\n",
              "    animation:\n",
              "      spin 1s steps(1) infinite;\n",
              "  }\n",
              "\n",
              "  @keyframes spin {\n",
              "    0% {\n",
              "      border-color: transparent;\n",
              "      border-bottom-color: var(--fill-color);\n",
              "      border-left-color: var(--fill-color);\n",
              "    }\n",
              "    20% {\n",
              "      border-color: transparent;\n",
              "      border-left-color: var(--fill-color);\n",
              "      border-top-color: var(--fill-color);\n",
              "    }\n",
              "    30% {\n",
              "      border-color: transparent;\n",
              "      border-left-color: var(--fill-color);\n",
              "      border-top-color: var(--fill-color);\n",
              "      border-right-color: var(--fill-color);\n",
              "    }\n",
              "    40% {\n",
              "      border-color: transparent;\n",
              "      border-right-color: var(--fill-color);\n",
              "      border-top-color: var(--fill-color);\n",
              "    }\n",
              "    60% {\n",
              "      border-color: transparent;\n",
              "      border-right-color: var(--fill-color);\n",
              "    }\n",
              "    80% {\n",
              "      border-color: transparent;\n",
              "      border-right-color: var(--fill-color);\n",
              "      border-bottom-color: var(--fill-color);\n",
              "    }\n",
              "    90% {\n",
              "      border-color: transparent;\n",
              "      border-bottom-color: var(--fill-color);\n",
              "    }\n",
              "  }\n",
              "</style>\n",
              "\n",
              "  <script>\n",
              "    async function quickchart(key) {\n",
              "      const quickchartButtonEl =\n",
              "        document.querySelector('#' + key + ' button');\n",
              "      quickchartButtonEl.disabled = true;  // To prevent multiple clicks.\n",
              "      quickchartButtonEl.classList.add('colab-df-spinner');\n",
              "      try {\n",
              "        const charts = await google.colab.kernel.invokeFunction(\n",
              "            'suggestCharts', [key], {});\n",
              "      } catch (error) {\n",
              "        console.error('Error during call to suggestCharts:', error);\n",
              "      }\n",
              "      quickchartButtonEl.classList.remove('colab-df-spinner');\n",
              "      quickchartButtonEl.classList.add('colab-df-quickchart-complete');\n",
              "    }\n",
              "    (() => {\n",
              "      let quickchartButtonEl =\n",
              "        document.querySelector('#df-0bb4a5bb-654a-42d0-be3d-177c5bb903a4 button');\n",
              "      quickchartButtonEl.style.display =\n",
              "        google.colab.kernel.accessAllowed ? 'block' : 'none';\n",
              "    })();\n",
              "  </script>\n",
              "</div>\n",
              "\n",
              "    </div>\n",
              "  </div>\n"
            ],
            "application/vnd.google.colaboratory.intrinsic+json": {
              "type": "dataframe",
              "summary": "{\n  \"name\": \"pd\",\n  \"rows\": 20,\n  \"fields\": [\n    {\n      \"column\": \"outlet_city\",\n      \"properties\": {\n        \"dtype\": \"string\",\n        \"num_unique_values\": 20,\n        \"samples\": [\n          \"Batticaloa\",\n          \"Peliyagoda\",\n          \"Nuwara Eliya\"\n        ],\n        \"semantic_type\": \"\",\n        \"description\": \"\"\n      }\n    },\n    {\n      \"column\": \"dry_sales\",\n      \"properties\": {\n        \"dtype\": \"number\",\n        \"std\": 409.55995301092514,\n        \"min\": 4237.7278145676955,\n        \"max\": 5077.631183822083,\n        \"num_unique_values\": 20,\n        \"samples\": [\n          5053.983632595338,\n          4242.013493580253,\n          4287.413545091908\n        ],\n        \"semantic_type\": \"\",\n        \"description\": \"\"\n      }\n    }\n  ]\n}"
            }
          },
          "metadata": {},
          "execution_count": 43
        }
      ],
      "source": [
        "# Create a pivot table\n",
        "pd.pivot_table(df, values='dry_sales', index='outlet_city', aggfunc=np.mean)"
      ]
    },
    {
      "cell_type": "markdown",
      "source": [
        "The code creates a crosstabulation table showing the frequency distribution of outlet_city and dry_sales."
      ],
      "metadata": {
        "id": "xPgg4AWfG94Q"
      }
    },
    {
      "cell_type": "markdown",
      "metadata": {
        "id": "s3ZPDFry8Vy4"
      },
      "source": [
        "#### Numerical - Numerical"
      ]
    },
    {
      "cell_type": "code",
      "execution_count": null,
      "metadata": {
        "id": "f0jPI5EO8LpE",
        "colab": {
          "base_uri": "https://localhost:8080/",
          "height": 1000
        },
        "outputId": "768dd11c-c84b-4d89-ddc1-9c0543a3e64d"
      },
      "outputs": [],
      "source": [
        "#Generate scatter plots\n",
        "import plotly.express as px\n",
        "\n",
        "# Generating scatter plots with titles\n",
        "fig1 = px.scatter(x=df['luxury_sales'], y=df['fresh_sales'])\n",
        "fig1.update_layout(title=\"Luxury Sales vs Fresh Sales\", xaxis_title=\"Luxury Sales\", yaxis_title=\"Fresh Sales\")\n",
        "fig1.show()\n",
        "\n",
        "fig2 = px.scatter(x=df['luxury_sales'], y=df['dry_sales'])\n",
        "fig2.update_layout(title=\"Luxury Sales vs Dry Sales\", xaxis_title=\"Luxury Sales\", yaxis_title=\"Dry Sales\")\n",
        "fig2.show()\n",
        "\n",
        "fig3 = px.scatter(x=df['fresh_sales'], y=df['dry_sales'])\n",
        "fig3.update_layout(title=\"Fresh Sales vs Dry Sales\", xaxis_title=\"Fresh Sales\", yaxis_title=\"Dry Sales\")\n",
        "fig3.show()"
      ]
    },
    {
      "cell_type": "markdown",
      "source": [
        "The code create a scatter plot between luxury_sales, fresh_sales and dry_sales."
      ],
      "metadata": {
        "id": "3lSUQfy5ewFi"
      }
    },
    {
      "cell_type": "code",
      "execution_count": null,
      "metadata": {
        "colab": {
          "base_uri": "https://localhost:8080/",
          "height": 452
        },
        "id": "2fGHoMbp8Llt",
        "outputId": "f0750685-9b0a-4366-de09-be936356d0aa"
      },
      "outputs": [
        {
          "output_type": "display_data",
          "data": {
            "text/plain": [
              "<Figure size 640x480 with 2 Axes>"
            ],
            "image/png": "[encoded data removed]"
          },
          "metadata": {}
        }
      ],
      "source": [
        "Numerical_columns = ['luxury_sales', 'fresh_sales', 'dry_sales']\n",
        "\n",
        "# Correlation Heatmap\n",
        "sns.heatmap(df[Numerical_columns].corr(), annot=True, cmap=\"coolwarm\", fmt=\".2f\")\n",
        "plt.title(\"Feature Correlation Heatmap\")\n",
        "plt.show()"
      ]
    },
    {
      "cell_type": "markdown",
      "source": [
        "The code creates a correlation heatmap for luxury_sales, fresh_sales and dry_sales. fresh_sales and dry_sales have slightly negative correlation."
      ],
      "metadata": {
        "id": "nn-Qez6Agcyu"
      }
    },
    {
      "cell_type": "code",
      "execution_count": null,
      "metadata": {
        "colab": {
          "base_uri": "https://localhost:8080/",
          "height": 758
        },
        "id": "uX38vwsxhEyR",
        "outputId": "c69b2556-3bab-47e5-9000-4628eb1a2e5f"
      },
      "outputs": [
        {
          "output_type": "display_data",
          "data": {
            "text/plain": [
              "<Figure size 750x750 with 12 Axes>"
            ],
            "image/png": "[encoded data removed]"
          },
          "metadata": {}
        }
      ],
      "source": [
        "Numerical_columns = ['luxury_sales', 'fresh_sales', 'dry_sales']\n",
        "\n",
        "# Pairplot for feature relationships\n",
        "sns.pairplot(df[Numerical_columns])\n",
        "plt.show()"
      ]
    },
    {
      "cell_type": "markdown",
      "source": [
        "This code creates a pair plot (scatter matrix) to visualizes the relationships between Luxury Sales, Fresh Sales and Dry Sales by showing scatter plots for each pair of variables along with histograms of individual distributions.\n",
        "\n",
        "For the plots,\n",
        "-  Luxury vs. Fresh Sales: Displays clustered patterns with multiple linear trends.\n",
        "- Luxury vs. Dry Sales: Similar clustered pattern with clear groupings\n",
        "- Fresh vs. Dry Sales: Shows a distinct pattern with multiple linear clusters.\n",
        "- The Histograms are right skewed.\n",
        "\n"
      ],
      "metadata": {
        "id": "1siIW_nVgesQ"
      }
    },
    {
      "cell_type": "markdown",
      "source": [
        "### Customer Segmentation Analysis and Labeling"
      ],
      "metadata": {
        "id": "ZznG7FUzREF9"
      }
    },
    {
      "cell_type": "code",
      "source": [
        "# Group by 'cluster_category' and main sales columns\n",
        "grouped_df = df.groupby('cluster_catgeory')[['luxury_sales', 'fresh_sales', 'dry_sales']].mean()\n",
        "# Display the summary\n",
        "print(grouped_df)"
      ],
      "metadata": {
        "colab": {
          "base_uri": "https://localhost:8080/"
        },
        "id": "JAgjg7MU_q5E",
        "outputId": "9cc71fe8-34ec-4f72-d9e7-78b5e80668c7"
      },
      "execution_count": null,
      "outputs": [
        {
          "output_type": "stream",
          "name": "stdout",
          "text": [
            "                  luxury_sales  fresh_sales    dry_sales\n",
            "cluster_catgeory                                        \n",
            "1                  1563.129381  2188.536814  8436.339507\n",
            "2                  1249.650229  6745.451160  1749.709650\n",
            "3                  4070.384286  4071.317814  4069.927554\n",
            "4                  1748.636760  1250.060977  6742.590765\n",
            "5                  3246.187056  3248.656666  3246.270241\n",
            "6                  2185.049856  8425.463958  1562.301899\n"
          ]
        }
      ]
    },
    {
      "cell_type": "markdown",
      "source": [
        "Using this code identified the trends that are in luxury_sales,fresh_sales and dry_sales for each categories."
      ],
      "metadata": {
        "id": "2IwgCioA9KLa"
      }
    },
    {
      "cell_type": "code",
      "source": [
        "# Define segment names based on analysis\n",
        "segment_mapping = {\n",
        "    1: \"Bulk Buyers\",\n",
        "    2: \"Health-Conscious Buyers\",\n",
        "    3: \"Luxury Seekers\",\n",
        "    4: \"Budget-Conscious Shoppers\",\n",
        "    5: \"Occasional Shoppers\",\n",
        "    6: \"Everyday Shoppers\"\n",
        "}\n",
        "\n",
        "# Create a new column with segment names\n",
        "df[\"segment_name\"] = df[\"cluster_catgeory\"].map(segment_mapping)\n",
        "\n",
        "# Save the updated dataset if needed\n",
        "df.to_csv(\"segmented_customers.csv\", index=False)"
      ],
      "metadata": {
        "id": "wKvknUF2_q1t"
      },
      "execution_count": null,
      "outputs": []
    },
    {
      "cell_type": "markdown",
      "source": [
        "according to the identified trends named the cluster categories using mapping.  \n",
        "- Bulk buyers ( cluster 1 )\n",
        "Highesr dry sales (8,436) but moderate fresh & luxury sales indicate a preference for long-lasting and non-perishable goods. These customers likely buy in bulk, stocking up on essentials rather than making frequent smaller purchases.\n",
        "- Health-Conscious Buyers (Cluster2)\n",
        "Highest fresh sales (6,745) with significantly lower dry & luxury sales. This suggests that these customers focus on fresh food items, perishable like vegetables and fruits, prioritizing healthy eating habits over bulk or luxury spending.\n",
        "- Luxury Seekers (Cluster 3)\n",
        "High spending across all the categories approximately 4070 each suggests a balanced yet a luxury shopping behaviour, and in the EDA above it is shown that there are not many customers in cluster 3 which ensures these are luxury seeking customers. These customers are likely willing to spend more on the high-end products in all segments, making them ideal for luxury marketing.\n",
        "\n",
        "- Budget-Conscious Shoppers (Cluster 4)\n",
        "Releatively high dry sales (6,742) but low fresh (1,250) & luxury (1,748) sales indicate cost-saving behaviour. These customers prioritize non-perishable essentials over perishables.\n",
        "\n",
        "\n",
        "- Occasional Shoppers (Clusters 5)\n",
        "Moderate spending with each category with an approximate of 3246 but with the smallest customer base. This suggests that they shop occasionally and maintain a balanced but lower frequency of purchases, unlike everyday or bulk buyers.\n",
        "\n",
        "- Everyday Shoppers (Cluster6)\n",
        "Highest fresh sales (8,425) with moderate dry & luxury sales suggests frequent grocery shopping  habits. These customers prioritize fresh food, indicating they shop regularly rather than in bulk\n",
        "\n"
      ],
      "metadata": {
        "id": "tsdI6swA-Wjs"
      }
    },
    {
      "cell_type": "code",
      "source": [
        "# Display the first few rows to verify\n",
        "print(df.head())"
      ],
      "metadata": {
        "colab": {
          "base_uri": "https://localhost:8080/"
        },
        "id": "HDEVVZyb_qzi",
        "outputId": "23695f27-a87f-42d4-b326-ebe63a584227"
      },
      "execution_count": null,
      "outputs": [
        {
          "output_type": "stream",
          "name": "stdout",
          "text": [
            "   Customer_ID outlet_city  luxury_sales  fresh_sales  dry_sales  \\\n",
            "0   10493832.0    Kelaniya       1209.60       756.00    5292.00   \n",
            "1   10178643.0    Moratuwa       1590.12      1060.08    6007.12   \n",
            "2   10513916.0     Wattala       2288.88      1481.04    9155.52   \n",
            "3   10334589.0     Wattala       2274.94      1739.66    9099.76   \n",
            "4   10458365.0    Kelaniya       2345.49      2069.55    9243.99   \n",
            "\n",
            "   cluster_catgeory               segment_name  \n",
            "0                 4  Budget-Conscious Shoppers  \n",
            "1                 1                Bulk Buyers  \n",
            "2                 4  Budget-Conscious Shoppers  \n",
            "3                 4  Budget-Conscious Shoppers  \n",
            "4                 4  Budget-Conscious Shoppers  \n"
          ]
        }
      ]
    },
    {
      "cell_type": "code",
      "source": [
        "# Count the number of customers in each segment\n",
        "segment_counts = df[\"segment_name\"].value_counts()\n",
        "\n",
        "# Plot the segmentation distribution\n",
        "plt.figure(figsize=(10, 6))\n",
        "sns.barplot(x=segment_counts.index, y=segment_counts.values, palette=\"viridis\")\n",
        "\n",
        "# Labels and title\n",
        "plt.xlabel(\"Customer Segments\")\n",
        "plt.ylabel(\"Number of Customers\")\n",
        "plt.title(\"Customer Segmentation Distribution\")\n",
        "plt.xticks(rotation=30)  # Rotate labels for better readability\n",
        "\n",
        "# Display the plot\n",
        "plt.show()"
      ],
      "metadata": {
        "colab": {
          "base_uri": "https://localhost:8080/",
          "height": 781
        },
        "id": "nQbyY4A41aKU",
        "outputId": "4dd348ee-98e3-4bec-9663-775c526eeb20"
      },
      "execution_count": null,
      "outputs": [
        {
          "output_type": "stream",
          "name": "stderr",
          "text": [
            "<ipython-input-56-ddeb8f11dda1>:6: FutureWarning:\n",
            "\n",
            "\n",
            "\n",
            "Passing `palette` without assigning `hue` is deprecated and will be removed in v0.14.0. Assign the `x` variable to `hue` and set `legend=False` for the same effect.\n",
            "\n",
            "\n"
          ]
        },
        {
          "output_type": "display_data",
          "data": {
            "text/plain": [
              "<Figure size 1000x600 with 1 Axes>"
            ],
            "image/png": "[encoded data removed]"
          },
          "metadata": {}
        }
      ]
    }
  ]
}